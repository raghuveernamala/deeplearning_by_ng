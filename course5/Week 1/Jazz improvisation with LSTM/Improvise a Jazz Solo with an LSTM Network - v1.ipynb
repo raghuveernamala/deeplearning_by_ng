{
 "cells": [
  {
   "cell_type": "markdown",
   "metadata": {},
   "source": [
    "# Improvise a Jazz Solo with an LSTM Network\n",
    "\n",
    "Welcome to your final programming assignment of this week! In this notebook, you will implement a model that uses an LSTM to generate music. You will even be able to listen to your own music at the end of the assignment. \n",
    "\n",
    "**You will learn to:**\n",
    "- Apply an LSTM to music generation.\n",
    "- Generate your own jazz music with deep learning.\n",
    "\n",
    "Please run the following cell to load all the packages required in this assignment. This may take a few minutes. "
   ]
  },
  {
   "cell_type": "code",
   "execution_count": 1,
   "metadata": {},
   "outputs": [
    {
     "name": "stderr",
     "output_type": "stream",
     "text": [
      "Using TensorFlow backend.\n"
     ]
    }
   ],
   "source": [
    "from __future__ import print_function\n",
    "import IPython\n",
    "import sys\n",
    "from music21 import *\n",
    "import numpy as np\n",
    "from grammar import *\n",
    "from qa import *\n",
    "from preprocess import * \n",
    "from music_utils import *\n",
    "from data_utils import *\n",
    "from keras.models import load_model, Model\n",
    "from keras.layers import Dense, Activation, Dropout, Input, LSTM, Reshape, Lambda, RepeatVector\n",
    "from keras.initializers import glorot_uniform\n",
    "from keras.utils import to_categorical\n",
    "from keras.optimizers import Adam\n",
    "from keras import backend as K"
   ]
  },
  {
   "cell_type": "markdown",
   "metadata": {},
   "source": [
    "## 1 - Problem statement\n",
    "\n",
    "You would like to create a jazz music piece specially for a friend's birthday. However, you don't know any instruments or music composition. Fortunately, you know deep learning and will solve this problem using an LSTM netwok.  \n",
    "\n",
    "You will train a network to generate novel jazz solos in a style representative of a body of performed work.\n",
    "\n",
    "<img src=\"images/jazz.jpg\" style=\"width:450;height:300px;\">\n",
    "\n",
    "\n",
    "### 1.1 - Dataset\n",
    "\n",
    "You will train your algorithm on a corpus of Jazz music. Run the cell below to listen to a snippet of the audio from the training set:"
   ]
  },
  {
   "cell_type": "code",
   "execution_count": null,
   "metadata": {
    "collapsed": true
   },
   "outputs": [],
   "source": [
    "IPython.display.Audio('./data/30s_seq.mp3')"
   ]
  },
  {
   "cell_type": "markdown",
   "metadata": {},
   "source": [
    "We have taken care of the preprocessing of the musical data to render it in terms of musical \"values.\" You can informally think of each \"value\" as a note, which comprises a pitch and a duration. For example, if you press down a specific piano key for 0.5 seconds, then you have just played a note. In music theory, a \"value\" is actually more complicated than this--specifically, it also captures the information needed to play multiple notes at the same time. For example, when playing a music piece, you might press down two piano keys at the same time (playng multiple notes at the same time generates what's called a \"chord\"). But we don't need to worry about the details of music theory for this assignment. For the purpose of this assignment, all you need to know is that we will obtain a dataset of values, and will learn an RNN model to generate sequences of values. \n",
    "\n",
    "Our music generation system will use 78 unique values. Run the following code to load the raw music data and preprocess it into values. This might take a few minutes."
   ]
  },
  {
   "cell_type": "code",
   "execution_count": 2,
   "metadata": {},
   "outputs": [
    {
     "name": "stdout",
     "output_type": "stream",
     "text": [
      "shape of X: (60, 30, 78)\n",
      "number of training examples: 60\n",
      "Tx (length of sequence): 30\n",
      "total # of unique values: 78\n",
      "Shape of Y: (30, 60, 78)\n"
     ]
    }
   ],
   "source": [
    "X, Y, n_values, indices_values = load_music_utils()\n",
    "print('shape of X:', X.shape)\n",
    "print('number of training examples:', X.shape[0])\n",
    "print('Tx (length of sequence):', X.shape[1])\n",
    "print('total # of unique values:', n_values)\n",
    "print('Shape of Y:', Y.shape)"
   ]
  },
  {
   "cell_type": "code",
   "execution_count": null,
   "metadata": {
    "collapsed": true
   },
   "outputs": [],
   "source": []
  },
  {
   "cell_type": "markdown",
   "metadata": {},
   "source": [
    "You have just loaded the following:\n",
    "\n",
    "- `X`: This is an (m, $T_x$, 78) dimensional array. We have m training examples, each of which is a snippet of $T_x =30$ musical values. At each time step, the input is one of 78 different possible values, represented as a one-hot vector. Thus for example, X[i,t,:] is a one-hot vector representating the value of the i-th example at time t. \n",
    "\n",
    "- `Y`: This is essentially the same as `X`, but shifted one step to the left (to the past). Similar to the dinosaurus assignment, we're interested in the network using the previous values to predict the next value, so our sequence model will try to predict $y^{\\langle t \\rangle}$ given $x^{\\langle 1\\rangle}, \\ldots, x^{\\langle t \\rangle}$. However, the data in `Y` is reordered to be dimension $(T_y, m, 78)$, where $T_y = T_x$. This format makes it more convenient to feed to the LSTM later. \n",
    "\n",
    "- `n_values`: The number of unique values in this dataset. This should be 78. \n",
    "\n",
    "- `indices_values`: python dictionary mapping from 0-77 to musical values."
   ]
  },
  {
   "cell_type": "markdown",
   "metadata": {},
   "source": [
    "### 1.2 - Overview of our model\n",
    "\n",
    "Here is the architecture of the model we will use. This is similar to the Dinosaurus model you had used in the previous notebook, except that in you will be implementing it in Keras. The architecture is as follows: \n",
    "\n",
    "<img src=\"images/music_generation.png\" style=\"width:600;height:400px;\">\n",
    "\n",
    "<!--\n",
    "<img src=\"images/djmodel.png\" style=\"width:600;height:400px;\">\n",
    "<br>\n",
    "<caption><center> **Figure 1**: LSTM model. $X = (x^{\\langle 1 \\rangle}, x^{\\langle 2 \\rangle}, ..., x^{\\langle T_x \\rangle})$ is a window of size $T_x$ scanned over the musical corpus. Each $x^{\\langle t \\rangle}$ is an index corresponding to a value (ex: \"A,0.250,< m2,P-4 >\") while $\\hat{y}$ is the prediction for the next value  </center></caption>\n",
    "!--> \n",
    "\n",
    "We will be training the model on random snippets of 30 values taken from a much longer piece of music. Thus, we won't bother to set the first input $x^{\\langle 1 \\rangle} = \\vec{0}$, which we had done previously to denote the start of a dinosaur name, since now most of these snippets of audio start somewhere in the middle of a piece of music. We are setting each of the snippts to have the same length $T_x = 30$ to make vectorization easier. \n"
   ]
  },
  {
   "cell_type": "markdown",
   "metadata": {},
   "source": [
    "## 2 - Building the model\n",
    "\n",
    "In this part you will build and train a model that will learn musical patterns. To do so, you will need to build a model that takes in X of shape $(m, T_x, 78)$ and Y of shape $(T_y, m, 78)$. We will use an LSTM with 64 dimensional hidden states. Lets set `n_a = 64`. \n"
   ]
  },
  {
   "cell_type": "code",
   "execution_count": 3,
   "metadata": {
    "collapsed": true
   },
   "outputs": [],
   "source": [
    "n_a = 64 "
   ]
  },
  {
   "cell_type": "markdown",
   "metadata": {},
   "source": [
    "\n",
    "Here's how you can create a Keras model with multiple inputs and outputs. If you're building an RNN where even at test time entire input sequence $x^{\\langle 1 \\rangle}, x^{\\langle 2 \\rangle}, \\ldots, x^{\\langle T_x \\rangle}$ were *given in advance*, for example if the inputs were words and the output was a label, then Keras has simple built-in functions to build the model. However, for sequence generation, at test time we don't know all the values of $x^{\\langle t\\rangle}$ in advance; instead we generate them one at a time using $x^{\\langle t\\rangle} = y^{\\langle t-1 \\rangle}$. So the code will be a bit more complicated, and you'll need to implement your own for-loop to iterate over the different time steps. \n",
    "\n",
    "The function `djmodel()` will call the LSTM layer $T_x$ times using a for-loop, and it is important that all $T_x$ copies have the same weights. I.e., it should not re-initiaiize the weights every time---the $T_x$ steps should have shared weights. The key steps for implementing layers with shareable weights in Keras are: \n",
    "1. Define the layer objects (we will use global variables for this).\n",
    "2. Call these objects when propagating the input.\n",
    "\n",
    "We have defined the layers objects you need as global variables. Please run the next cell to create them. Please check the Keras documentation to make sure you understand what these layers are: [Reshape()](https://keras.io/layers/core/#reshape), [LSTM()](https://keras.io/layers/recurrent/#lstm), [Dense()](https://keras.io/layers/core/#dense).\n"
   ]
  },
  {
   "cell_type": "code",
   "execution_count": 6,
   "metadata": {
    "collapsed": true
   },
   "outputs": [],
   "source": [
    "reshapor = Reshape((1, 78))                        # Used in Step 2.B of djmodel(), below\n",
    "LSTM_cell = LSTM(n_a, return_state = True)         # Used in Step 2.C\n",
    "densor = Dense(n_values, activation='softmax')     # Used in Step 2.D"
   ]
  },
  {
   "cell_type": "markdown",
   "metadata": {},
   "source": [
    "Each of `reshapor`, `LSTM_cell` and `densor` are now layer objects, and you can use them to implement `djmodel()`. In order to propagate a Keras tensor object X through one of these layers, use `layer_object(X)` (or `layer_object([X,Y])` if it requires multiple inputs.). For example, `reshapor(X)` will propagate X through the `Reshape((1,78))` layer defined above."
   ]
  },
  {
   "cell_type": "markdown",
   "metadata": {},
   "source": [
    " \n",
    "**Exercise**: Implement `djmodel()`. You will need to carry out 2 steps:\n",
    "\n",
    "1. Create an empty list \"outputs\" to save the outputs of the LSTM Cell at every time step.\n",
    "2. Loop for $t \\in 1, \\ldots, T_x$:\n",
    "\n",
    "    A. Select the \"t\"th time-step vector from X. The shape of this selection should be (78,). To do so, create a custom [Lambda](https://keras.io/layers/core/#lambda) layer in Keras by using this line of code:\n",
    "```    \n",
    "           x = Lambda(lambda x: X[:,t,:])(X)\n",
    "``` \n",
    "Look over the Keras documentation to figure out what this does. It is creating a \"temporary\" or \"unnamed\" function (that's what Lambda functions are) that extracts out the appropriate one-hot vector, and making this function a Keras `Layer` object to apply to `X`. \n",
    "\n",
    "    B. Reshape x to be (1,78). You may find the `reshapor()` layer (defined below) helpful.\n",
    "\n",
    "    C. Run x through one step of LSTM_cell. Remember to initialize the LSTM_cell with the previous step's hidden state $a$ and cell state $c$. Use the following formatting:\n",
    "```python\n",
    "a, _, c = LSTM_cell(input_x, initial_state=[previous hidden state, previous cell state])\n",
    "```\n",
    "\n",
    "    D. Propagate the LSTM's output activation value through a dense+softmax layer using `densor`. \n",
    "    \n",
    "    E. Append the predicted value to the list of \"outputs\"\n",
    " \n"
   ]
  },
  {
   "cell_type": "code",
   "execution_count": 12,
   "metadata": {
    "collapsed": true
   },
   "outputs": [],
   "source": [
    "# GRADED FUNCTION: djmodel\n",
    "\n",
    "def djmodel(Tx, n_a, n_values):\n",
    "    \"\"\"\n",
    "    Implement the model\n",
    "    \n",
    "    Arguments:\n",
    "    Tx -- length of the sequence in a corpus\n",
    "    n_a -- the number of activations used in our model\n",
    "    n_values -- number of unique values in the music data \n",
    "    \n",
    "    Returns:\n",
    "    model -- a keras model with the \n",
    "    \"\"\"\n",
    "    \n",
    "    # Define the input of your model with a shape \n",
    "    X = Input(shape=(Tx, n_values))\n",
    "    print('X init shape ' , X.shape)\n",
    "    # Define s0, initial hidden state for the decoder LSTM\n",
    "    a0 = Input(shape=(n_a,), name='a0')\n",
    "    c0 = Input(shape=(n_a,), name='c0')\n",
    "    a = a0\n",
    "    c = c0\n",
    "    \n",
    "    ### START CODE HERE ### \n",
    "    # Step 1: Create empty list to append the outputs while you iterate (≈1 line)\n",
    "    outputs = []\n",
    "    \n",
    "    # Step 2: Loop\n",
    "    for t in range(Tx):\n",
    "        \n",
    "        # Step 2.A: select the \"t\"th time step vector from X. \n",
    "        print('X shape before' , X.shape)\n",
    "        x = Lambda(lambda x: X[:,t,:])(X)\n",
    "        print('x shape before' , x.shape)\n",
    "        \n",
    "        # Step 2.B: Use reshapor to reshape x to be (1, n_values) (≈1 line)\n",
    "        x = reshapor (x)\n",
    "        print('x shape after' , x.shape)\n",
    "        # Step 2.C: Perform one step of the LSTM_cell\n",
    "        a, _, c = LSTM_cell(x, initial_state=[a, c])\n",
    "        # Step 2.D: Apply densor to the hidden state output of LSTM_Cell\n",
    "        out = densor (a)\n",
    "        # Step 2.E: add the output to \"outputs\"\n",
    "        outputs.append(out)\n",
    "        \n",
    "    # Step 3: Create model instance\n",
    "    model = Model(inputs=[X, a0, c0], outputs=outputs)\n",
    "    \n",
    "    ### END CODE HERE ###\n",
    "    \n",
    "    return model"
   ]
  },
  {
   "cell_type": "markdown",
   "metadata": {},
   "source": [
    "Run the following cell to define your model. We will use `Tx=30`, `n_a=64` (the dimension of the LSTM activations), and `n_values=78`. This cell may take a few seconds to run. "
   ]
  },
  {
   "cell_type": "code",
   "execution_count": 13,
   "metadata": {},
   "outputs": [
    {
     "name": "stdout",
     "output_type": "stream",
     "text": [
      "X init shape  (?, 30, 78)\n",
      "X shape before (?, 30, 78)\n",
      "x shape before (?, 78)\n",
      "x shape after (?, 1, 78)\n",
      "X shape before (?, 30, 78)\n",
      "x shape before (?, 78)\n",
      "x shape after (?, 1, 78)\n",
      "X shape before (?, 30, 78)\n",
      "x shape before (?, 78)\n",
      "x shape after (?, 1, 78)\n",
      "X shape before (?, 30, 78)\n",
      "x shape before (?, 78)\n",
      "x shape after (?, 1, 78)\n",
      "X shape before (?, 30, 78)\n",
      "x shape before (?, 78)\n",
      "x shape after (?, 1, 78)\n",
      "X shape before (?, 30, 78)\n",
      "x shape before (?, 78)\n",
      "x shape after (?, 1, 78)\n",
      "X shape before (?, 30, 78)\n",
      "x shape before (?, 78)\n",
      "x shape after (?, 1, 78)\n",
      "X shape before (?, 30, 78)\n",
      "x shape before (?, 78)\n",
      "x shape after (?, 1, 78)\n",
      "X shape before (?, 30, 78)\n",
      "x shape before (?, 78)\n",
      "x shape after (?, 1, 78)\n",
      "X shape before (?, 30, 78)\n",
      "x shape before (?, 78)\n",
      "x shape after (?, 1, 78)\n",
      "X shape before (?, 30, 78)\n",
      "x shape before (?, 78)\n",
      "x shape after (?, 1, 78)\n",
      "X shape before (?, 30, 78)\n",
      "x shape before (?, 78)\n",
      "x shape after (?, 1, 78)\n",
      "X shape before (?, 30, 78)\n",
      "x shape before (?, 78)\n",
      "x shape after (?, 1, 78)\n",
      "X shape before (?, 30, 78)\n",
      "x shape before (?, 78)\n",
      "x shape after (?, 1, 78)\n",
      "X shape before (?, 30, 78)\n",
      "x shape before (?, 78)\n",
      "x shape after (?, 1, 78)\n",
      "X shape before (?, 30, 78)\n",
      "x shape before (?, 78)\n",
      "x shape after (?, 1, 78)\n",
      "X shape before (?, 30, 78)\n",
      "x shape before (?, 78)\n",
      "x shape after (?, 1, 78)\n",
      "X shape before (?, 30, 78)\n",
      "x shape before (?, 78)\n",
      "x shape after (?, 1, 78)\n",
      "X shape before (?, 30, 78)\n",
      "x shape before (?, 78)\n",
      "x shape after (?, 1, 78)\n",
      "X shape before (?, 30, 78)\n",
      "x shape before (?, 78)\n",
      "x shape after (?, 1, 78)\n",
      "X shape before (?, 30, 78)\n",
      "x shape before (?, 78)\n",
      "x shape after (?, 1, 78)\n",
      "X shape before (?, 30, 78)\n",
      "x shape before (?, 78)\n",
      "x shape after (?, 1, 78)\n",
      "X shape before (?, 30, 78)\n",
      "x shape before (?, 78)\n",
      "x shape after (?, 1, 78)\n",
      "X shape before (?, 30, 78)\n",
      "x shape before (?, 78)\n",
      "x shape after (?, 1, 78)\n",
      "X shape before (?, 30, 78)\n",
      "x shape before (?, 78)\n",
      "x shape after (?, 1, 78)\n",
      "X shape before (?, 30, 78)\n",
      "x shape before (?, 78)\n",
      "x shape after (?, 1, 78)\n",
      "X shape before (?, 30, 78)\n",
      "x shape before (?, 78)\n",
      "x shape after (?, 1, 78)\n",
      "X shape before (?, 30, 78)\n",
      "x shape before (?, 78)\n",
      "x shape after (?, 1, 78)\n",
      "X shape before (?, 30, 78)\n",
      "x shape before (?, 78)\n",
      "x shape after (?, 1, 78)\n",
      "X shape before (?, 30, 78)\n",
      "x shape before (?, 78)\n",
      "x shape after (?, 1, 78)\n"
     ]
    }
   ],
   "source": [
    "model = djmodel(Tx = 30 , n_a = 64, n_values = 78)"
   ]
  },
  {
   "cell_type": "code",
   "execution_count": 28,
   "metadata": {},
   "outputs": [],
   "source": [
    "# len(X[:,0,:])\n",
    "# X[:,0,:].reshape((1,78))\n",
    "# np.reshape?\n",
    "# np.reshape(X[:,0,:], newshape=(1,78))\n"
   ]
  },
  {
   "cell_type": "markdown",
   "metadata": {},
   "source": [
    "You now need to compile your model to be trained. We will Adam and a categorical cross-entropy loss."
   ]
  },
  {
   "cell_type": "code",
   "execution_count": 14,
   "metadata": {
    "collapsed": true
   },
   "outputs": [],
   "source": [
    "opt = Adam(lr=0.01, beta_1=0.9, beta_2=0.999, decay=0.01)\n",
    "\n",
    "model.compile(optimizer=opt, loss='categorical_crossentropy', metrics=['accuracy'])"
   ]
  },
  {
   "cell_type": "markdown",
   "metadata": {},
   "source": [
    "Finally, lets initialize `a0` and `c0` for the LSTM's initial state to be zero. "
   ]
  },
  {
   "cell_type": "code",
   "execution_count": 15,
   "metadata": {
    "collapsed": true,
    "scrolled": true
   },
   "outputs": [],
   "source": [
    "m = 60\n",
    "a0 = np.zeros((m, n_a))\n",
    "c0 = np.zeros((m, n_a))"
   ]
  },
  {
   "cell_type": "markdown",
   "metadata": {},
   "source": [
    "Lets now fit the model! We will turn `Y` to a list before doing so, since the cost function expects `Y` to be provided in this format (one list item per time-step). So `list(Y)` is a list with 30 items, where each of the list items is of shape (60,78). Lets train for 100 epochs. This will take a few minutes. \n",
    "\n"
   ]
  },
  {
   "cell_type": "code",
   "execution_count": 29,
   "metadata": {
    "scrolled": true
   },
   "outputs": [
    {
     "name": "stdout",
     "output_type": "stream",
     "text": [
      "Epoch 1/100\n",
      "60/60 [==============================] - 6s - loss: 125.6947 - dense_1_loss_1: 4.3546 - dense_1_loss_2: 4.3437 - dense_1_loss_3: 4.3405 - dense_1_loss_4: 4.3394 - dense_1_loss_5: 4.3310 - dense_1_loss_6: 4.3323 - dense_1_loss_7: 4.3388 - dense_1_loss_8: 4.3269 - dense_1_loss_9: 4.3388 - dense_1_loss_10: 4.3296 - dense_1_loss_11: 4.3328 - dense_1_loss_12: 4.3444 - dense_1_loss_13: 4.3327 - dense_1_loss_14: 4.3268 - dense_1_loss_15: 4.3364 - dense_1_loss_16: 4.3321 - dense_1_loss_17: 4.3312 - dense_1_loss_18: 4.3296 - dense_1_loss_19: 4.3354 - dense_1_loss_20: 4.3357 - dense_1_loss_21: 4.3301 - dense_1_loss_22: 4.3299 - dense_1_loss_23: 4.3356 - dense_1_loss_24: 4.3284 - dense_1_loss_25: 4.3322 - dense_1_loss_26: 4.3306 - dense_1_loss_27: 4.3376 - dense_1_loss_28: 4.3318 - dense_1_loss_29: 4.3260 - dense_1_loss_30: 0.0000e+00 - dense_1_acc_1: 0.0167 - dense_1_acc_2: 0.1000 - dense_1_acc_3: 0.0833 - dense_1_acc_4: 0.0833 - dense_1_acc_5: 0.0500 - dense_1_acc_6: 0.0500 - dense_1_acc_7: 0.0500 - dense_1_acc_8: 0.1000 - dense_1_acc_9: 0.0167 - dense_1_acc_10: 0.0833 - dense_1_acc_11: 0.0333 - dense_1_acc_12: 0.0333 - dense_1_acc_13: 0.0667 - dense_1_acc_14: 0.0833 - dense_1_acc_15: 0.0667 - dense_1_acc_16: 0.0333 - dense_1_acc_17: 0.1167 - dense_1_acc_18: 0.1333 - dense_1_acc_19: 0.0500 - dense_1_acc_20: 0.0667 - dense_1_acc_21: 0.0333 - dense_1_acc_22: 0.0667 - dense_1_acc_23: 0.0500 - dense_1_acc_24: 0.0500 - dense_1_acc_25: 0.0167 - dense_1_acc_26: 0.0500 - dense_1_acc_27: 0.0500 - dense_1_acc_28: 0.0833 - dense_1_acc_29: 0.1333 - dense_1_acc_30: 0.0000e+00                                                                                     \n",
      "Epoch 2/100\n",
      "60/60 [==============================] - 0s - loss: 122.0228 - dense_1_loss_1: 4.3329 - dense_1_loss_2: 4.3010 - dense_1_loss_3: 4.2750 - dense_1_loss_4: 4.2725 - dense_1_loss_5: 4.2363 - dense_1_loss_6: 4.2462 - dense_1_loss_7: 4.2448 - dense_1_loss_8: 4.2020 - dense_1_loss_9: 4.2384 - dense_1_loss_10: 4.2122 - dense_1_loss_11: 4.1935 - dense_1_loss_12: 4.2433 - dense_1_loss_13: 4.1922 - dense_1_loss_14: 4.1765 - dense_1_loss_15: 4.1840 - dense_1_loss_16: 4.1740 - dense_1_loss_17: 4.1742 - dense_1_loss_18: 4.2072 - dense_1_loss_19: 4.1808 - dense_1_loss_20: 4.2086 - dense_1_loss_21: 4.1825 - dense_1_loss_22: 4.1471 - dense_1_loss_23: 4.1814 - dense_1_loss_24: 4.1883 - dense_1_loss_25: 4.1871 - dense_1_loss_26: 4.1251 - dense_1_loss_27: 4.1614 - dense_1_loss_28: 4.1721 - dense_1_loss_29: 4.1823 - dense_1_loss_30: 0.0000e+00 - dense_1_acc_1: 0.0333 - dense_1_acc_2: 0.2000 - dense_1_acc_3: 0.1833 - dense_1_acc_4: 0.1667 - dense_1_acc_5: 0.2167 - dense_1_acc_6: 0.1000 - dense_1_acc_7: 0.0833 - dense_1_acc_8: 0.2833 - dense_1_acc_9: 0.1167 - dense_1_acc_10: 0.1333 - dense_1_acc_11: 0.1500 - dense_1_acc_12: 0.1333 - dense_1_acc_13: 0.2333 - dense_1_acc_14: 0.1667 - dense_1_acc_15: 0.1333 - dense_1_acc_16: 0.1000 - dense_1_acc_17: 0.1333 - dense_1_acc_18: 0.1667 - dense_1_acc_19: 0.1000 - dense_1_acc_20: 0.0500 - dense_1_acc_21: 0.0667 - dense_1_acc_22: 0.1167 - dense_1_acc_23: 0.0833 - dense_1_acc_24: 0.0833 - dense_1_acc_25: 0.1000 - dense_1_acc_26: 0.1000 - dense_1_acc_27: 0.0833 - dense_1_acc_28: 0.1333 - dense_1_acc_29: 0.0500 - dense_1_acc_30: 0.0000e+00         \n",
      "Epoch 3/100\n",
      "60/60 [==============================] - 0s - loss: 115.5137 - dense_1_loss_1: 4.3106 - dense_1_loss_2: 4.2513 - dense_1_loss_3: 4.1870 - dense_1_loss_4: 4.1671 - dense_1_loss_5: 4.0998 - dense_1_loss_6: 4.1110 - dense_1_loss_7: 4.0747 - dense_1_loss_8: 3.9531 - dense_1_loss_9: 3.9916 - dense_1_loss_10: 3.8974 - dense_1_loss_11: 3.8470 - dense_1_loss_12: 4.0639 - dense_1_loss_13: 3.8692 - dense_1_loss_14: 3.8236 - dense_1_loss_15: 3.8821 - dense_1_loss_16: 3.8325 - dense_1_loss_17: 3.9230 - dense_1_loss_18: 3.9776 - dense_1_loss_19: 3.8564 - dense_1_loss_20: 4.0776 - dense_1_loss_21: 4.0364 - dense_1_loss_22: 3.8573 - dense_1_loss_23: 3.8708 - dense_1_loss_24: 3.8914 - dense_1_loss_25: 4.0433 - dense_1_loss_26: 3.7372 - dense_1_loss_27: 3.8644 - dense_1_loss_28: 3.9191 - dense_1_loss_29: 4.0973 - dense_1_loss_30: 0.0000e+00 - dense_1_acc_1: 0.0333 - dense_1_acc_2: 0.1833 - dense_1_acc_3: 0.2000 - dense_1_acc_4: 0.1333 - dense_1_acc_5: 0.2667 - dense_1_acc_6: 0.0833 - dense_1_acc_7: 0.0500 - dense_1_acc_8: 0.1667 - dense_1_acc_9: 0.0667 - dense_1_acc_10: 0.0500 - dense_1_acc_11: 0.0833 - dense_1_acc_12: 0.0667 - dense_1_acc_13: 0.1000 - dense_1_acc_14: 0.1000 - dense_1_acc_15: 0.0833 - dense_1_acc_16: 0.0500 - dense_1_acc_17: 0.0500 - dense_1_acc_18: 0.1167 - dense_1_acc_19: 0.0667 - dense_1_acc_20: 0.0000e+00 - dense_1_acc_21: 0.0500 - dense_1_acc_22: 0.1167 - dense_1_acc_23: 0.1000 - dense_1_acc_24: 0.0333 - dense_1_acc_25: 0.0500 - dense_1_acc_26: 0.0667 - dense_1_acc_27: 0.0833 - dense_1_acc_28: 0.0833 - dense_1_acc_29: 0.0167 - dense_1_acc_30: 0.0000e+00             \n",
      "Epoch 4/100\n",
      "60/60 [==============================] - 0s - loss: 112.1101 - dense_1_loss_1: 4.2883 - dense_1_loss_2: 4.2018 - dense_1_loss_3: 4.0943 - dense_1_loss_4: 4.0786 - dense_1_loss_5: 3.9513 - dense_1_loss_6: 3.9694 - dense_1_loss_7: 3.9323 - dense_1_loss_8: 3.7186 - dense_1_loss_9: 3.8315 - dense_1_loss_10: 3.6700 - dense_1_loss_11: 3.7321 - dense_1_loss_12: 3.9941 - dense_1_loss_13: 3.7902 - dense_1_loss_14: 3.7238 - dense_1_loss_15: 3.7116 - dense_1_loss_16: 3.7247 - dense_1_loss_17: 3.8001 - dense_1_loss_18: 3.9121 - dense_1_loss_19: 3.7158 - dense_1_loss_20: 3.9563 - dense_1_loss_21: 3.9782 - dense_1_loss_22: 3.8387 - dense_1_loss_23: 3.7830 - dense_1_loss_24: 3.7132 - dense_1_loss_25: 3.9203 - dense_1_loss_26: 3.5514 - dense_1_loss_27: 3.7244 - dense_1_loss_28: 3.8637 - dense_1_loss_29: 3.9402 - dense_1_loss_30: 0.0000e+00 - dense_1_acc_1: 0.0667 - dense_1_acc_2: 0.1833 - dense_1_acc_3: 0.1667 - dense_1_acc_4: 0.1333 - dense_1_acc_5: 0.2000 - dense_1_acc_6: 0.1333 - dense_1_acc_7: 0.0333 - dense_1_acc_8: 0.1667 - dense_1_acc_9: 0.0833 - dense_1_acc_10: 0.1167 - dense_1_acc_11: 0.0667 - dense_1_acc_12: 0.0500 - dense_1_acc_13: 0.0667 - dense_1_acc_14: 0.1000 - dense_1_acc_15: 0.0500 - dense_1_acc_16: 0.1000 - dense_1_acc_17: 0.1333 - dense_1_acc_18: 0.0333 - dense_1_acc_19: 0.1000 - dense_1_acc_20: 0.1000 - dense_1_acc_21: 0.0667 - dense_1_acc_22: 0.0667 - dense_1_acc_23: 0.0667 - dense_1_acc_24: 0.0500 - dense_1_acc_25: 0.0833 - dense_1_acc_26: 0.1500 - dense_1_acc_27: 0.0333 - dense_1_acc_28: 0.1167 - dense_1_acc_29: 0.1167 - dense_1_acc_30: 0.0000e+00         \n",
      "Epoch 5/100\n",
      "60/60 [==============================] - 0s - loss: 109.4197 - dense_1_loss_1: 4.2725 - dense_1_loss_2: 4.1585 - dense_1_loss_3: 4.0254 - dense_1_loss_4: 4.0109 - dense_1_loss_5: 3.8564 - dense_1_loss_6: 3.8875 - dense_1_loss_7: 3.8584 - dense_1_loss_8: 3.6314 - dense_1_loss_9: 3.7766 - dense_1_loss_10: 3.5843 - dense_1_loss_11: 3.6334 - dense_1_loss_12: 3.8936 - dense_1_loss_13: 3.6910 - dense_1_loss_14: 3.5681 - dense_1_loss_15: 3.6183 - dense_1_loss_16: 3.6334 - dense_1_loss_17: 3.6959 - dense_1_loss_18: 3.7867 - dense_1_loss_19: 3.6613 - dense_1_loss_20: 3.7409 - dense_1_loss_21: 3.7995 - dense_1_loss_22: 3.7069 - dense_1_loss_23: 3.6583 - dense_1_loss_24: 3.6995 - dense_1_loss_25: 3.8197 - dense_1_loss_26: 3.5006 - dense_1_loss_27: 3.6491 - dense_1_loss_28: 3.7252 - dense_1_loss_29: 3.8765 - dense_1_loss_30: 0.0000e+00 - dense_1_acc_1: 0.1000 - dense_1_acc_2: 0.1500 - dense_1_acc_3: 0.2000 - dense_1_acc_4: 0.1833 - dense_1_acc_5: 0.2333 - dense_1_acc_6: 0.1333 - dense_1_acc_7: 0.1167 - dense_1_acc_8: 0.1667 - dense_1_acc_9: 0.1167 - dense_1_acc_10: 0.1833 - dense_1_acc_11: 0.1000 - dense_1_acc_12: 0.0833 - dense_1_acc_13: 0.1500 - dense_1_acc_14: 0.2167 - dense_1_acc_15: 0.1500 - dense_1_acc_16: 0.1333 - dense_1_acc_17: 0.1833 - dense_1_acc_18: 0.1000 - dense_1_acc_19: 0.1667 - dense_1_acc_20: 0.1833 - dense_1_acc_21: 0.1167 - dense_1_acc_22: 0.1000 - dense_1_acc_23: 0.0667 - dense_1_acc_24: 0.0833 - dense_1_acc_25: 0.1333 - dense_1_acc_26: 0.1667 - dense_1_acc_27: 0.0333 - dense_1_acc_28: 0.1167 - dense_1_acc_29: 0.1167 - dense_1_acc_30: 0.0000e+00     \n",
      "Epoch 6/100\n"
     ]
    },
    {
     "name": "stdout",
     "output_type": "stream",
     "text": [
      "60/60 [==============================] - 0s - loss: 105.7562 - dense_1_loss_1: 4.2559 - dense_1_loss_2: 4.1172 - dense_1_loss_3: 3.9540 - dense_1_loss_4: 3.9283 - dense_1_loss_5: 3.7745 - dense_1_loss_6: 3.7992 - dense_1_loss_7: 3.7816 - dense_1_loss_8: 3.5122 - dense_1_loss_9: 3.6645 - dense_1_loss_10: 3.4703 - dense_1_loss_11: 3.5607 - dense_1_loss_12: 3.7493 - dense_1_loss_13: 3.5218 - dense_1_loss_14: 3.4558 - dense_1_loss_15: 3.4605 - dense_1_loss_16: 3.4588 - dense_1_loss_17: 3.5110 - dense_1_loss_18: 3.5729 - dense_1_loss_19: 3.4733 - dense_1_loss_20: 3.5854 - dense_1_loss_21: 3.6113 - dense_1_loss_22: 3.5299 - dense_1_loss_23: 3.5185 - dense_1_loss_24: 3.5209 - dense_1_loss_25: 3.7393 - dense_1_loss_26: 3.4037 - dense_1_loss_27: 3.5362 - dense_1_loss_28: 3.6204 - dense_1_loss_29: 3.6690 - dense_1_loss_30: 0.0000e+00 - dense_1_acc_1: 0.1000 - dense_1_acc_2: 0.1500 - dense_1_acc_3: 0.1833 - dense_1_acc_4: 0.1833 - dense_1_acc_5: 0.2167 - dense_1_acc_6: 0.1333 - dense_1_acc_7: 0.1167 - dense_1_acc_8: 0.1500 - dense_1_acc_9: 0.1333 - dense_1_acc_10: 0.1667 - dense_1_acc_11: 0.1167 - dense_1_acc_12: 0.0667 - dense_1_acc_13: 0.1333 - dense_1_acc_14: 0.1500 - dense_1_acc_15: 0.1167 - dense_1_acc_16: 0.1333 - dense_1_acc_17: 0.2167 - dense_1_acc_18: 0.1000 - dense_1_acc_19: 0.1333 - dense_1_acc_20: 0.1667 - dense_1_acc_21: 0.0667 - dense_1_acc_22: 0.1000 - dense_1_acc_23: 0.1167 - dense_1_acc_24: 0.0667 - dense_1_acc_25: 0.1000 - dense_1_acc_26: 0.1500 - dense_1_acc_27: 0.0667 - dense_1_acc_28: 0.1167 - dense_1_acc_29: 0.1333 - dense_1_acc_30: 0.0000e+00     \n",
      "Epoch 7/100\n",
      "60/60 [==============================] - 0s - loss: 102.7859 - dense_1_loss_1: 4.2399 - dense_1_loss_2: 4.0806 - dense_1_loss_3: 3.8816 - dense_1_loss_4: 3.8352 - dense_1_loss_5: 3.6692 - dense_1_loss_6: 3.7007 - dense_1_loss_7: 3.6849 - dense_1_loss_8: 3.3982 - dense_1_loss_9: 3.5207 - dense_1_loss_10: 3.3463 - dense_1_loss_11: 3.4627 - dense_1_loss_12: 3.6370 - dense_1_loss_13: 3.4003 - dense_1_loss_14: 3.3605 - dense_1_loss_15: 3.3395 - dense_1_loss_16: 3.3915 - dense_1_loss_17: 3.3805 - dense_1_loss_18: 3.4373 - dense_1_loss_19: 3.3964 - dense_1_loss_20: 3.4917 - dense_1_loss_21: 3.5370 - dense_1_loss_22: 3.4153 - dense_1_loss_23: 3.4048 - dense_1_loss_24: 3.4633 - dense_1_loss_25: 3.6527 - dense_1_loss_26: 3.2753 - dense_1_loss_27: 3.3835 - dense_1_loss_28: 3.4917 - dense_1_loss_29: 3.5075 - dense_1_loss_30: 0.0000e+00 - dense_1_acc_1: 0.1000 - dense_1_acc_2: 0.1167 - dense_1_acc_3: 0.2000 - dense_1_acc_4: 0.1833 - dense_1_acc_5: 0.2167 - dense_1_acc_6: 0.1167 - dense_1_acc_7: 0.1000 - dense_1_acc_8: 0.1500 - dense_1_acc_9: 0.1500 - dense_1_acc_10: 0.1667 - dense_1_acc_11: 0.1167 - dense_1_acc_12: 0.0667 - dense_1_acc_13: 0.1167 - dense_1_acc_14: 0.1500 - dense_1_acc_15: 0.1000 - dense_1_acc_16: 0.1667 - dense_1_acc_17: 0.2000 - dense_1_acc_18: 0.1167 - dense_1_acc_19: 0.1333 - dense_1_acc_20: 0.1167 - dense_1_acc_21: 0.1000 - dense_1_acc_22: 0.0833 - dense_1_acc_23: 0.1000 - dense_1_acc_24: 0.0667 - dense_1_acc_25: 0.0500 - dense_1_acc_26: 0.1667 - dense_1_acc_27: 0.1167 - dense_1_acc_28: 0.1167 - dense_1_acc_29: 0.1333 - dense_1_acc_30: 0.0000e+00     \n",
      "Epoch 8/100\n",
      "60/60 [==============================] - 0s - loss: 98.6346 - dense_1_loss_1: 4.2261 - dense_1_loss_2: 4.0423 - dense_1_loss_3: 3.8118 - dense_1_loss_4: 3.7508 - dense_1_loss_5: 3.5744 - dense_1_loss_6: 3.6121 - dense_1_loss_7: 3.5565 - dense_1_loss_8: 3.2756 - dense_1_loss_9: 3.4118 - dense_1_loss_10: 3.1961 - dense_1_loss_11: 3.2940 - dense_1_loss_12: 3.4929 - dense_1_loss_13: 3.2112 - dense_1_loss_14: 3.1260 - dense_1_loss_15: 3.1529 - dense_1_loss_16: 3.2820 - dense_1_loss_17: 3.1815 - dense_1_loss_18: 3.2466 - dense_1_loss_19: 3.1828 - dense_1_loss_20: 3.3291 - dense_1_loss_21: 3.3269 - dense_1_loss_22: 3.1764 - dense_1_loss_23: 3.2586 - dense_1_loss_24: 3.2983 - dense_1_loss_25: 3.4827 - dense_1_loss_26: 3.1222 - dense_1_loss_27: 3.2912 - dense_1_loss_28: 3.2994 - dense_1_loss_29: 3.4227 - dense_1_loss_30: 0.0000e+00 - dense_1_acc_1: 0.1000 - dense_1_acc_2: 0.1333 - dense_1_acc_3: 0.2000 - dense_1_acc_4: 0.1833 - dense_1_acc_5: 0.2167 - dense_1_acc_6: 0.1000 - dense_1_acc_7: 0.1167 - dense_1_acc_8: 0.1667 - dense_1_acc_9: 0.1000 - dense_1_acc_10: 0.1667 - dense_1_acc_11: 0.2000 - dense_1_acc_12: 0.1167 - dense_1_acc_13: 0.2167 - dense_1_acc_14: 0.2500 - dense_1_acc_15: 0.2167 - dense_1_acc_16: 0.2000 - dense_1_acc_17: 0.2833 - dense_1_acc_18: 0.1833 - dense_1_acc_19: 0.1833 - dense_1_acc_20: 0.2167 - dense_1_acc_21: 0.1333 - dense_1_acc_22: 0.1500 - dense_1_acc_23: 0.1500 - dense_1_acc_24: 0.1500 - dense_1_acc_25: 0.1667 - dense_1_acc_26: 0.2333 - dense_1_acc_27: 0.1000 - dense_1_acc_28: 0.2000 - dense_1_acc_29: 0.1667 - dense_1_acc_30: 0.0000e+00      \n",
      "Epoch 9/100\n",
      "60/60 [==============================] - 0s - loss: 94.1514 - dense_1_loss_1: 4.2140 - dense_1_loss_2: 4.0033 - dense_1_loss_3: 3.7345 - dense_1_loss_4: 3.6600 - dense_1_loss_5: 3.4535 - dense_1_loss_6: 3.4820 - dense_1_loss_7: 3.4246 - dense_1_loss_8: 3.1300 - dense_1_loss_9: 3.2681 - dense_1_loss_10: 3.0594 - dense_1_loss_11: 3.1794 - dense_1_loss_12: 3.3041 - dense_1_loss_13: 3.0446 - dense_1_loss_14: 3.0104 - dense_1_loss_15: 2.9647 - dense_1_loss_16: 3.1659 - dense_1_loss_17: 3.0255 - dense_1_loss_18: 3.0574 - dense_1_loss_19: 3.0248 - dense_1_loss_20: 3.1665 - dense_1_loss_21: 3.1366 - dense_1_loss_22: 2.9844 - dense_1_loss_23: 3.0714 - dense_1_loss_24: 3.1392 - dense_1_loss_25: 3.2885 - dense_1_loss_26: 2.8378 - dense_1_loss_27: 3.0512 - dense_1_loss_28: 3.0938 - dense_1_loss_29: 3.1759 - dense_1_loss_30: 0.0000e+00 - dense_1_acc_1: 0.1000 - dense_1_acc_2: 0.1833 - dense_1_acc_3: 0.2167 - dense_1_acc_4: 0.2000 - dense_1_acc_5: 0.2167 - dense_1_acc_6: 0.1000 - dense_1_acc_7: 0.1333 - dense_1_acc_8: 0.2167 - dense_1_acc_9: 0.1833 - dense_1_acc_10: 0.2000 - dense_1_acc_11: 0.2000 - dense_1_acc_12: 0.1000 - dense_1_acc_13: 0.2333 - dense_1_acc_14: 0.2500 - dense_1_acc_15: 0.2000 - dense_1_acc_16: 0.1833 - dense_1_acc_17: 0.2667 - dense_1_acc_18: 0.1833 - dense_1_acc_19: 0.1667 - dense_1_acc_20: 0.2000 - dense_1_acc_21: 0.2000 - dense_1_acc_22: 0.1333 - dense_1_acc_23: 0.1667 - dense_1_acc_24: 0.1500 - dense_1_acc_25: 0.1667 - dense_1_acc_26: 0.3000 - dense_1_acc_27: 0.1167 - dense_1_acc_28: 0.2500 - dense_1_acc_29: 0.2333 - dense_1_acc_30: 0.0000e+00     \n",
      "Epoch 10/100\n",
      "60/60 [==============================] - 0s - loss: 90.5866 - dense_1_loss_1: 4.2039 - dense_1_loss_2: 3.9625 - dense_1_loss_3: 3.6644 - dense_1_loss_4: 3.5634 - dense_1_loss_5: 3.3300 - dense_1_loss_6: 3.3481 - dense_1_loss_7: 3.2901 - dense_1_loss_8: 2.9977 - dense_1_loss_9: 3.1377 - dense_1_loss_10: 2.9399 - dense_1_loss_11: 3.0577 - dense_1_loss_12: 3.1221 - dense_1_loss_13: 2.9267 - dense_1_loss_14: 2.8520 - dense_1_loss_15: 2.8580 - dense_1_loss_16: 3.0182 - dense_1_loss_17: 2.8908 - dense_1_loss_18: 2.9336 - dense_1_loss_19: 2.9292 - dense_1_loss_20: 3.0341 - dense_1_loss_21: 3.0385 - dense_1_loss_22: 2.8642 - dense_1_loss_23: 2.9376 - dense_1_loss_24: 3.0294 - dense_1_loss_25: 3.1001 - dense_1_loss_26: 2.6690 - dense_1_loss_27: 2.9031 - dense_1_loss_28: 2.9199 - dense_1_loss_29: 3.0647 - dense_1_loss_30: 0.0000e+00 - dense_1_acc_1: 0.1000 - dense_1_acc_2: 0.1833 - dense_1_acc_3: 0.2167 - dense_1_acc_4: 0.2000 - dense_1_acc_5: 0.2500 - dense_1_acc_6: 0.1000 - dense_1_acc_7: 0.1333 - dense_1_acc_8: 0.2500 - dense_1_acc_9: 0.1833 - dense_1_acc_10: 0.2333 - dense_1_acc_11: 0.2500 - dense_1_acc_12: 0.1333 - dense_1_acc_13: 0.2167 - dense_1_acc_14: 0.2833 - dense_1_acc_15: 0.2333 - dense_1_acc_16: 0.1833 - dense_1_acc_17: 0.2833 - dense_1_acc_18: 0.2167 - dense_1_acc_19: 0.1667 - dense_1_acc_20: 0.2167 - dense_1_acc_21: 0.2167 - dense_1_acc_22: 0.1333 - dense_1_acc_23: 0.2000 - dense_1_acc_24: 0.1500 - dense_1_acc_25: 0.1833 - dense_1_acc_26: 0.3333 - dense_1_acc_27: 0.1500 - dense_1_acc_28: 0.2000 - dense_1_acc_29: 0.2500 - dense_1_acc_30: 0.0000e+00     \n",
      "Epoch 11/100\n"
     ]
    },
    {
     "name": "stdout",
     "output_type": "stream",
     "text": [
      "60/60 [==============================] - 0s - loss: 87.1122 - dense_1_loss_1: 4.1936 - dense_1_loss_2: 3.9251 - dense_1_loss_3: 3.5967 - dense_1_loss_4: 3.4636 - dense_1_loss_5: 3.2175 - dense_1_loss_6: 3.2140 - dense_1_loss_7: 3.1441 - dense_1_loss_8: 2.8281 - dense_1_loss_9: 3.0114 - dense_1_loss_10: 2.7921 - dense_1_loss_11: 2.9094 - dense_1_loss_12: 2.9177 - dense_1_loss_13: 2.7164 - dense_1_loss_14: 2.6623 - dense_1_loss_15: 2.7047 - dense_1_loss_16: 2.8420 - dense_1_loss_17: 2.7736 - dense_1_loss_18: 2.8177 - dense_1_loss_19: 2.8192 - dense_1_loss_20: 2.9033 - dense_1_loss_21: 2.8772 - dense_1_loss_22: 2.7142 - dense_1_loss_23: 2.8521 - dense_1_loss_24: 2.8385 - dense_1_loss_25: 3.1692 - dense_1_loss_26: 2.5805 - dense_1_loss_27: 2.9268 - dense_1_loss_28: 2.8223 - dense_1_loss_29: 2.8787 - dense_1_loss_30: 0.0000e+00 - dense_1_acc_1: 0.0667 - dense_1_acc_2: 0.1500 - dense_1_acc_3: 0.2167 - dense_1_acc_4: 0.2000 - dense_1_acc_5: 0.2667 - dense_1_acc_6: 0.1333 - dense_1_acc_7: 0.1667 - dense_1_acc_8: 0.2833 - dense_1_acc_9: 0.1667 - dense_1_acc_10: 0.2667 - dense_1_acc_11: 0.2333 - dense_1_acc_12: 0.2333 - dense_1_acc_13: 0.3000 - dense_1_acc_14: 0.3167 - dense_1_acc_15: 0.3000 - dense_1_acc_16: 0.2000 - dense_1_acc_17: 0.2667 - dense_1_acc_18: 0.2500 - dense_1_acc_19: 0.2500 - dense_1_acc_20: 0.2667 - dense_1_acc_21: 0.2333 - dense_1_acc_22: 0.1333 - dense_1_acc_23: 0.2333 - dense_1_acc_24: 0.1833 - dense_1_acc_25: 0.1833 - dense_1_acc_26: 0.3833 - dense_1_acc_27: 0.1833 - dense_1_acc_28: 0.2833 - dense_1_acc_29: 0.2167 - dense_1_acc_30: 0.0000e+00     \n",
      "Epoch 12/100\n",
      "60/60 [==============================] - 0s - loss: 83.9661 - dense_1_loss_1: 4.1839 - dense_1_loss_2: 3.8846 - dense_1_loss_3: 3.5217 - dense_1_loss_4: 3.3572 - dense_1_loss_5: 3.0931 - dense_1_loss_6: 3.0792 - dense_1_loss_7: 3.0465 - dense_1_loss_8: 2.7295 - dense_1_loss_9: 2.8578 - dense_1_loss_10: 2.7863 - dense_1_loss_11: 2.8421 - dense_1_loss_12: 2.8150 - dense_1_loss_13: 2.6704 - dense_1_loss_14: 2.6002 - dense_1_loss_15: 2.6443 - dense_1_loss_16: 2.7899 - dense_1_loss_17: 2.7245 - dense_1_loss_18: 2.7231 - dense_1_loss_19: 2.7345 - dense_1_loss_20: 2.7869 - dense_1_loss_21: 2.7141 - dense_1_loss_22: 2.6050 - dense_1_loss_23: 2.7102 - dense_1_loss_24: 2.7227 - dense_1_loss_25: 2.8609 - dense_1_loss_26: 2.4406 - dense_1_loss_27: 2.6268 - dense_1_loss_28: 2.5997 - dense_1_loss_29: 2.8156 - dense_1_loss_30: 0.0000e+00 - dense_1_acc_1: 0.0333 - dense_1_acc_2: 0.1500 - dense_1_acc_3: 0.2667 - dense_1_acc_4: 0.2000 - dense_1_acc_5: 0.3000 - dense_1_acc_6: 0.1833 - dense_1_acc_7: 0.1500 - dense_1_acc_8: 0.3833 - dense_1_acc_9: 0.2167 - dense_1_acc_10: 0.2500 - dense_1_acc_11: 0.3000 - dense_1_acc_12: 0.2000 - dense_1_acc_13: 0.3500 - dense_1_acc_14: 0.3000 - dense_1_acc_15: 0.3667 - dense_1_acc_16: 0.2000 - dense_1_acc_17: 0.2000 - dense_1_acc_18: 0.2000 - dense_1_acc_19: 0.2667 - dense_1_acc_20: 0.2833 - dense_1_acc_21: 0.2500 - dense_1_acc_22: 0.1833 - dense_1_acc_23: 0.2000 - dense_1_acc_24: 0.2000 - dense_1_acc_25: 0.1333 - dense_1_acc_26: 0.3667 - dense_1_acc_27: 0.2667 - dense_1_acc_28: 0.2833 - dense_1_acc_29: 0.1833 - dense_1_acc_30: 0.0000e+00     \n",
      "Epoch 13/100\n",
      "60/60 [==============================] - 0s - loss: 79.5229 - dense_1_loss_1: 4.1732 - dense_1_loss_2: 3.8489 - dense_1_loss_3: 3.4434 - dense_1_loss_4: 3.2552 - dense_1_loss_5: 2.9725 - dense_1_loss_6: 2.9342 - dense_1_loss_7: 2.8928 - dense_1_loss_8: 2.5752 - dense_1_loss_9: 2.7175 - dense_1_loss_10: 2.5938 - dense_1_loss_11: 2.6909 - dense_1_loss_12: 2.6139 - dense_1_loss_13: 2.4822 - dense_1_loss_14: 2.4997 - dense_1_loss_15: 2.4849 - dense_1_loss_16: 2.5617 - dense_1_loss_17: 2.5123 - dense_1_loss_18: 2.5353 - dense_1_loss_19: 2.4942 - dense_1_loss_20: 2.6435 - dense_1_loss_21: 2.5293 - dense_1_loss_22: 2.3680 - dense_1_loss_23: 2.5176 - dense_1_loss_24: 2.5558 - dense_1_loss_25: 2.7567 - dense_1_loss_26: 2.2797 - dense_1_loss_27: 2.5053 - dense_1_loss_28: 2.4848 - dense_1_loss_29: 2.6000 - dense_1_loss_30: 0.0000e+00 - dense_1_acc_1: 0.0333 - dense_1_acc_2: 0.1667 - dense_1_acc_3: 0.2833 - dense_1_acc_4: 0.2167 - dense_1_acc_5: 0.3000 - dense_1_acc_6: 0.1667 - dense_1_acc_7: 0.2500 - dense_1_acc_8: 0.4000 - dense_1_acc_9: 0.2667 - dense_1_acc_10: 0.2667 - dense_1_acc_11: 0.3333 - dense_1_acc_12: 0.2333 - dense_1_acc_13: 0.3167 - dense_1_acc_14: 0.2167 - dense_1_acc_15: 0.3500 - dense_1_acc_16: 0.2167 - dense_1_acc_17: 0.2667 - dense_1_acc_18: 0.2167 - dense_1_acc_19: 0.2667 - dense_1_acc_20: 0.3167 - dense_1_acc_21: 0.2500 - dense_1_acc_22: 0.2333 - dense_1_acc_23: 0.2167 - dense_1_acc_24: 0.2333 - dense_1_acc_25: 0.2333 - dense_1_acc_26: 0.4000 - dense_1_acc_27: 0.3500 - dense_1_acc_28: 0.2833 - dense_1_acc_29: 0.2000 - dense_1_acc_30: 0.0000e+00         \n",
      "Epoch 14/100\n",
      "60/60 [==============================] - 0s - loss: 76.2615 - dense_1_loss_1: 4.1647 - dense_1_loss_2: 3.8117 - dense_1_loss_3: 3.3668 - dense_1_loss_4: 3.1536 - dense_1_loss_5: 2.8462 - dense_1_loss_6: 2.8174 - dense_1_loss_7: 2.7764 - dense_1_loss_8: 2.4362 - dense_1_loss_9: 2.6525 - dense_1_loss_10: 2.4725 - dense_1_loss_11: 2.5921 - dense_1_loss_12: 2.4864 - dense_1_loss_13: 2.3373 - dense_1_loss_14: 2.3468 - dense_1_loss_15: 2.3546 - dense_1_loss_16: 2.3844 - dense_1_loss_17: 2.3245 - dense_1_loss_18: 2.4255 - dense_1_loss_19: 2.3186 - dense_1_loss_20: 2.4929 - dense_1_loss_21: 2.3661 - dense_1_loss_22: 2.2797 - dense_1_loss_23: 2.4388 - dense_1_loss_24: 2.3997 - dense_1_loss_25: 2.7016 - dense_1_loss_26: 2.2302 - dense_1_loss_27: 2.4751 - dense_1_loss_28: 2.3923 - dense_1_loss_29: 2.4167 - dense_1_loss_30: 0.0000e+00 - dense_1_acc_1: 0.0333 - dense_1_acc_2: 0.1667 - dense_1_acc_3: 0.2833 - dense_1_acc_4: 0.2667 - dense_1_acc_5: 0.3167 - dense_1_acc_6: 0.2333 - dense_1_acc_7: 0.2500 - dense_1_acc_8: 0.4000 - dense_1_acc_9: 0.2333 - dense_1_acc_10: 0.3333 - dense_1_acc_11: 0.3167 - dense_1_acc_12: 0.2500 - dense_1_acc_13: 0.4000 - dense_1_acc_14: 0.2833 - dense_1_acc_15: 0.3333 - dense_1_acc_16: 0.3167 - dense_1_acc_17: 0.2667 - dense_1_acc_18: 0.2333 - dense_1_acc_19: 0.2833 - dense_1_acc_20: 0.3167 - dense_1_acc_21: 0.3000 - dense_1_acc_22: 0.2500 - dense_1_acc_23: 0.2833 - dense_1_acc_24: 0.2333 - dense_1_acc_25: 0.1667 - dense_1_acc_26: 0.4000 - dense_1_acc_27: 0.3500 - dense_1_acc_28: 0.2667 - dense_1_acc_29: 0.2333 - dense_1_acc_30: 0.0000e+00         \n",
      "Epoch 15/100\n",
      "60/60 [==============================] - 0s - loss: 72.2126 - dense_1_loss_1: 4.1560 - dense_1_loss_2: 3.7720 - dense_1_loss_3: 3.2907 - dense_1_loss_4: 3.0591 - dense_1_loss_5: 2.7403 - dense_1_loss_6: 2.6974 - dense_1_loss_7: 2.6447 - dense_1_loss_8: 2.3323 - dense_1_loss_9: 2.5314 - dense_1_loss_10: 2.3474 - dense_1_loss_11: 2.4856 - dense_1_loss_12: 2.3285 - dense_1_loss_13: 2.1600 - dense_1_loss_14: 2.1420 - dense_1_loss_15: 2.1979 - dense_1_loss_16: 2.2634 - dense_1_loss_17: 2.1915 - dense_1_loss_18: 2.2597 - dense_1_loss_19: 2.2058 - dense_1_loss_20: 2.3471 - dense_1_loss_21: 2.2198 - dense_1_loss_22: 2.1470 - dense_1_loss_23: 2.2897 - dense_1_loss_24: 2.1939 - dense_1_loss_25: 2.4935 - dense_1_loss_26: 2.0282 - dense_1_loss_27: 2.2196 - dense_1_loss_28: 2.1904 - dense_1_loss_29: 2.2777 - dense_1_loss_30: 0.0000e+00 - dense_1_acc_1: 0.0333 - dense_1_acc_2: 0.2167 - dense_1_acc_3: 0.2833 - dense_1_acc_4: 0.2667 - dense_1_acc_5: 0.3167 - dense_1_acc_6: 0.2500 - dense_1_acc_7: 0.3167 - dense_1_acc_8: 0.4167 - dense_1_acc_9: 0.2667 - dense_1_acc_10: 0.3667 - dense_1_acc_11: 0.3667 - dense_1_acc_12: 0.2333 - dense_1_acc_13: 0.3833 - dense_1_acc_14: 0.3833 - dense_1_acc_15: 0.3833 - dense_1_acc_16: 0.3167 - dense_1_acc_17: 0.3333 - dense_1_acc_18: 0.2833 - dense_1_acc_19: 0.3333 - dense_1_acc_20: 0.3500 - dense_1_acc_21: 0.3500 - dense_1_acc_22: 0.2833 - dense_1_acc_23: 0.3167 - dense_1_acc_24: 0.2833 - dense_1_acc_25: 0.1667 - dense_1_acc_26: 0.4500 - dense_1_acc_27: 0.4833 - dense_1_acc_28: 0.3833 - dense_1_acc_29: 0.2833 - dense_1_acc_30: 0.0000e+00         \n",
      "Epoch 16/100\n"
     ]
    },
    {
     "name": "stdout",
     "output_type": "stream",
     "text": [
      "60/60 [==============================] - 0s - loss: 68.8282 - dense_1_loss_1: 4.1471 - dense_1_loss_2: 3.7314 - dense_1_loss_3: 3.2108 - dense_1_loss_4: 2.9620 - dense_1_loss_5: 2.6352 - dense_1_loss_6: 2.5589 - dense_1_loss_7: 2.5179 - dense_1_loss_8: 2.2522 - dense_1_loss_9: 2.4174 - dense_1_loss_10: 2.2624 - dense_1_loss_11: 2.3474 - dense_1_loss_12: 2.1737 - dense_1_loss_13: 2.0033 - dense_1_loss_14: 2.0037 - dense_1_loss_15: 2.0459 - dense_1_loss_16: 2.1548 - dense_1_loss_17: 2.0344 - dense_1_loss_18: 2.0812 - dense_1_loss_19: 2.0634 - dense_1_loss_20: 2.2378 - dense_1_loss_21: 2.1020 - dense_1_loss_22: 1.9974 - dense_1_loss_23: 2.1837 - dense_1_loss_24: 2.1407 - dense_1_loss_25: 2.3037 - dense_1_loss_26: 1.9211 - dense_1_loss_27: 2.1648 - dense_1_loss_28: 2.0160 - dense_1_loss_29: 2.1580 - dense_1_loss_30: 0.0000e+00 - dense_1_acc_1: 0.0333 - dense_1_acc_2: 0.2500 - dense_1_acc_3: 0.3167 - dense_1_acc_4: 0.2667 - dense_1_acc_5: 0.3833 - dense_1_acc_6: 0.3000 - dense_1_acc_7: 0.3000 - dense_1_acc_8: 0.4333 - dense_1_acc_9: 0.3333 - dense_1_acc_10: 0.3667 - dense_1_acc_11: 0.3833 - dense_1_acc_12: 0.3500 - dense_1_acc_13: 0.4833 - dense_1_acc_14: 0.4667 - dense_1_acc_15: 0.4167 - dense_1_acc_16: 0.3333 - dense_1_acc_17: 0.4500 - dense_1_acc_18: 0.4333 - dense_1_acc_19: 0.3333 - dense_1_acc_20: 0.3500 - dense_1_acc_21: 0.3667 - dense_1_acc_22: 0.3167 - dense_1_acc_23: 0.3500 - dense_1_acc_24: 0.3333 - dense_1_acc_25: 0.2167 - dense_1_acc_26: 0.4667 - dense_1_acc_27: 0.3833 - dense_1_acc_28: 0.3667 - dense_1_acc_29: 0.3000 - dense_1_acc_30: 0.0000e+00     \n",
      "Epoch 17/100\n",
      "60/60 [==============================] - 0s - loss: 65.5815 - dense_1_loss_1: 4.1392 - dense_1_loss_2: 3.6838 - dense_1_loss_3: 3.1251 - dense_1_loss_4: 2.8695 - dense_1_loss_5: 2.5263 - dense_1_loss_6: 2.4271 - dense_1_loss_7: 2.4139 - dense_1_loss_8: 2.1420 - dense_1_loss_9: 2.3099 - dense_1_loss_10: 2.1796 - dense_1_loss_11: 2.2241 - dense_1_loss_12: 2.0777 - dense_1_loss_13: 1.8713 - dense_1_loss_14: 1.9125 - dense_1_loss_15: 1.9482 - dense_1_loss_16: 2.0592 - dense_1_loss_17: 1.9507 - dense_1_loss_18: 1.9659 - dense_1_loss_19: 1.9850 - dense_1_loss_20: 2.0600 - dense_1_loss_21: 1.9459 - dense_1_loss_22: 1.8828 - dense_1_loss_23: 2.0577 - dense_1_loss_24: 1.9726 - dense_1_loss_25: 2.0998 - dense_1_loss_26: 1.8459 - dense_1_loss_27: 2.0147 - dense_1_loss_28: 1.8982 - dense_1_loss_29: 1.9928 - dense_1_loss_30: 0.0000e+00 - dense_1_acc_1: 0.0333 - dense_1_acc_2: 0.2833 - dense_1_acc_3: 0.3500 - dense_1_acc_4: 0.2667 - dense_1_acc_5: 0.4167 - dense_1_acc_6: 0.3167 - dense_1_acc_7: 0.3167 - dense_1_acc_8: 0.4333 - dense_1_acc_9: 0.3167 - dense_1_acc_10: 0.3500 - dense_1_acc_11: 0.3667 - dense_1_acc_12: 0.3167 - dense_1_acc_13: 0.5500 - dense_1_acc_14: 0.4667 - dense_1_acc_15: 0.4333 - dense_1_acc_16: 0.3500 - dense_1_acc_17: 0.4167 - dense_1_acc_18: 0.4333 - dense_1_acc_19: 0.4500 - dense_1_acc_20: 0.4000 - dense_1_acc_21: 0.4500 - dense_1_acc_22: 0.4000 - dense_1_acc_23: 0.4000 - dense_1_acc_24: 0.4000 - dense_1_acc_25: 0.3833 - dense_1_acc_26: 0.5167 - dense_1_acc_27: 0.4833 - dense_1_acc_28: 0.4500 - dense_1_acc_29: 0.3833 - dense_1_acc_30: 0.0167     \n",
      "Epoch 18/100\n",
      "60/60 [==============================] - 0s - loss: 62.1638 - dense_1_loss_1: 4.1292 - dense_1_loss_2: 3.6328 - dense_1_loss_3: 3.0402 - dense_1_loss_4: 2.7671 - dense_1_loss_5: 2.4143 - dense_1_loss_6: 2.3000 - dense_1_loss_7: 2.2968 - dense_1_loss_8: 2.0292 - dense_1_loss_9: 2.1794 - dense_1_loss_10: 2.0293 - dense_1_loss_11: 2.0545 - dense_1_loss_12: 1.9064 - dense_1_loss_13: 1.7167 - dense_1_loss_14: 1.7610 - dense_1_loss_15: 1.8108 - dense_1_loss_16: 1.8881 - dense_1_loss_17: 1.8109 - dense_1_loss_18: 1.8248 - dense_1_loss_19: 1.8687 - dense_1_loss_20: 1.8941 - dense_1_loss_21: 1.8469 - dense_1_loss_22: 1.7624 - dense_1_loss_23: 1.9314 - dense_1_loss_24: 1.8631 - dense_1_loss_25: 2.0306 - dense_1_loss_26: 1.7412 - dense_1_loss_27: 1.9194 - dense_1_loss_28: 1.8270 - dense_1_loss_29: 1.8875 - dense_1_loss_30: 0.0000e+00 - dense_1_acc_1: 0.1000 - dense_1_acc_2: 0.3000 - dense_1_acc_3: 0.4000 - dense_1_acc_4: 0.2333 - dense_1_acc_5: 0.3833 - dense_1_acc_6: 0.3500 - dense_1_acc_7: 0.3333 - dense_1_acc_8: 0.4167 - dense_1_acc_9: 0.3333 - dense_1_acc_10: 0.3500 - dense_1_acc_11: 0.3833 - dense_1_acc_12: 0.3833 - dense_1_acc_13: 0.5500 - dense_1_acc_14: 0.5000 - dense_1_acc_15: 0.4333 - dense_1_acc_16: 0.4167 - dense_1_acc_17: 0.4833 - dense_1_acc_18: 0.5000 - dense_1_acc_19: 0.4500 - dense_1_acc_20: 0.4167 - dense_1_acc_21: 0.4833 - dense_1_acc_22: 0.5000 - dense_1_acc_23: 0.3500 - dense_1_acc_24: 0.4000 - dense_1_acc_25: 0.2833 - dense_1_acc_26: 0.5500 - dense_1_acc_27: 0.4167 - dense_1_acc_28: 0.4667 - dense_1_acc_29: 0.4667 - dense_1_acc_30: 0.0000e+00     \n",
      "Epoch 19/100\n",
      "60/60 [==============================] - 0s - loss: 59.0063 - dense_1_loss_1: 4.1183 - dense_1_loss_2: 3.5848 - dense_1_loss_3: 2.9543 - dense_1_loss_4: 2.6688 - dense_1_loss_5: 2.3062 - dense_1_loss_6: 2.1757 - dense_1_loss_7: 2.1808 - dense_1_loss_8: 1.9466 - dense_1_loss_9: 2.0347 - dense_1_loss_10: 1.9112 - dense_1_loss_11: 1.9646 - dense_1_loss_12: 1.7534 - dense_1_loss_13: 1.6143 - dense_1_loss_14: 1.7010 - dense_1_loss_15: 1.7402 - dense_1_loss_16: 1.7501 - dense_1_loss_17: 1.7203 - dense_1_loss_18: 1.7602 - dense_1_loss_19: 1.7519 - dense_1_loss_20: 1.7528 - dense_1_loss_21: 1.7277 - dense_1_loss_22: 1.6589 - dense_1_loss_23: 1.7536 - dense_1_loss_24: 1.6970 - dense_1_loss_25: 1.9027 - dense_1_loss_26: 1.6345 - dense_1_loss_27: 1.7676 - dense_1_loss_28: 1.6820 - dense_1_loss_29: 1.7919 - dense_1_loss_30: 0.0000e+00 - dense_1_acc_1: 0.1000 - dense_1_acc_2: 0.3000 - dense_1_acc_3: 0.4000 - dense_1_acc_4: 0.2333 - dense_1_acc_5: 0.3500 - dense_1_acc_6: 0.4333 - dense_1_acc_7: 0.3500 - dense_1_acc_8: 0.4500 - dense_1_acc_9: 0.3667 - dense_1_acc_10: 0.3833 - dense_1_acc_11: 0.3667 - dense_1_acc_12: 0.4833 - dense_1_acc_13: 0.5667 - dense_1_acc_14: 0.5167 - dense_1_acc_15: 0.5000 - dense_1_acc_16: 0.4833 - dense_1_acc_17: 0.4500 - dense_1_acc_18: 0.5000 - dense_1_acc_19: 0.5000 - dense_1_acc_20: 0.4500 - dense_1_acc_21: 0.5500 - dense_1_acc_22: 0.5167 - dense_1_acc_23: 0.5167 - dense_1_acc_24: 0.5500 - dense_1_acc_25: 0.3500 - dense_1_acc_26: 0.6000 - dense_1_acc_27: 0.5500 - dense_1_acc_28: 0.5500 - dense_1_acc_29: 0.4833 - dense_1_acc_30: 0.0000e+00     \n",
      "Epoch 20/100\n",
      "60/60 [==============================] - 0s - loss: 55.9392 - dense_1_loss_1: 4.1081 - dense_1_loss_2: 3.5327 - dense_1_loss_3: 2.8647 - dense_1_loss_4: 2.5649 - dense_1_loss_5: 2.1995 - dense_1_loss_6: 2.0706 - dense_1_loss_7: 2.0571 - dense_1_loss_8: 1.8429 - dense_1_loss_9: 1.9269 - dense_1_loss_10: 1.7454 - dense_1_loss_11: 1.8833 - dense_1_loss_12: 1.6012 - dense_1_loss_13: 1.5325 - dense_1_loss_14: 1.6115 - dense_1_loss_15: 1.6803 - dense_1_loss_16: 1.6273 - dense_1_loss_17: 1.5762 - dense_1_loss_18: 1.6537 - dense_1_loss_19: 1.6213 - dense_1_loss_20: 1.6291 - dense_1_loss_21: 1.6025 - dense_1_loss_22: 1.6227 - dense_1_loss_23: 1.6815 - dense_1_loss_24: 1.5799 - dense_1_loss_25: 1.7479 - dense_1_loss_26: 1.5037 - dense_1_loss_27: 1.6232 - dense_1_loss_28: 1.5641 - dense_1_loss_29: 1.6845 - dense_1_loss_30: 0.0000e+00 - dense_1_acc_1: 0.1000 - dense_1_acc_2: 0.3000 - dense_1_acc_3: 0.4000 - dense_1_acc_4: 0.2333 - dense_1_acc_5: 0.3667 - dense_1_acc_6: 0.4500 - dense_1_acc_7: 0.4000 - dense_1_acc_8: 0.5500 - dense_1_acc_9: 0.4667 - dense_1_acc_10: 0.5000 - dense_1_acc_11: 0.4667 - dense_1_acc_12: 0.5667 - dense_1_acc_13: 0.6000 - dense_1_acc_14: 0.5000 - dense_1_acc_15: 0.5167 - dense_1_acc_16: 0.5667 - dense_1_acc_17: 0.5667 - dense_1_acc_18: 0.5667 - dense_1_acc_19: 0.5500 - dense_1_acc_20: 0.4833 - dense_1_acc_21: 0.5667 - dense_1_acc_22: 0.5500 - dense_1_acc_23: 0.5500 - dense_1_acc_24: 0.5833 - dense_1_acc_25: 0.4833 - dense_1_acc_26: 0.6833 - dense_1_acc_27: 0.5833 - dense_1_acc_28: 0.6167 - dense_1_acc_29: 0.6000 - dense_1_acc_30: 0.0000e+00     \n",
      "Epoch 21/100\n"
     ]
    },
    {
     "name": "stdout",
     "output_type": "stream",
     "text": [
      "60/60 [==============================] - 0s - loss: 53.1198 - dense_1_loss_1: 4.0986 - dense_1_loss_2: 3.4824 - dense_1_loss_3: 2.7757 - dense_1_loss_4: 2.4625 - dense_1_loss_5: 2.1061 - dense_1_loss_6: 1.9696 - dense_1_loss_7: 1.9112 - dense_1_loss_8: 1.7190 - dense_1_loss_9: 1.8209 - dense_1_loss_10: 1.6059 - dense_1_loss_11: 1.7547 - dense_1_loss_12: 1.5072 - dense_1_loss_13: 1.4253 - dense_1_loss_14: 1.5248 - dense_1_loss_15: 1.5529 - dense_1_loss_16: 1.5071 - dense_1_loss_17: 1.4682 - dense_1_loss_18: 1.5120 - dense_1_loss_19: 1.5426 - dense_1_loss_20: 1.5620 - dense_1_loss_21: 1.4991 - dense_1_loss_22: 1.5191 - dense_1_loss_23: 1.5836 - dense_1_loss_24: 1.5118 - dense_1_loss_25: 1.6624 - dense_1_loss_26: 1.4510 - dense_1_loss_27: 1.5175 - dense_1_loss_28: 1.4844 - dense_1_loss_29: 1.5823 - dense_1_loss_30: 0.0000e+00 - dense_1_acc_1: 0.1000 - dense_1_acc_2: 0.3000 - dense_1_acc_3: 0.4333 - dense_1_acc_4: 0.2500 - dense_1_acc_5: 0.3667 - dense_1_acc_6: 0.4833 - dense_1_acc_7: 0.5167 - dense_1_acc_8: 0.5500 - dense_1_acc_9: 0.5167 - dense_1_acc_10: 0.5500 - dense_1_acc_11: 0.4667 - dense_1_acc_12: 0.6167 - dense_1_acc_13: 0.6333 - dense_1_acc_14: 0.5500 - dense_1_acc_15: 0.5833 - dense_1_acc_16: 0.5833 - dense_1_acc_17: 0.6500 - dense_1_acc_18: 0.6167 - dense_1_acc_19: 0.6167 - dense_1_acc_20: 0.5833 - dense_1_acc_21: 0.6833 - dense_1_acc_22: 0.5667 - dense_1_acc_23: 0.5500 - dense_1_acc_24: 0.5833 - dense_1_acc_25: 0.5000 - dense_1_acc_26: 0.6167 - dense_1_acc_27: 0.5667 - dense_1_acc_28: 0.5833 - dense_1_acc_29: 0.6000 - dense_1_acc_30: 0.0167         \n",
      "Epoch 22/100\n",
      "60/60 [==============================] - 0s - loss: 50.3727 - dense_1_loss_1: 4.0913 - dense_1_loss_2: 3.4372 - dense_1_loss_3: 2.6889 - dense_1_loss_4: 2.3728 - dense_1_loss_5: 2.0072 - dense_1_loss_6: 1.8388 - dense_1_loss_7: 1.7879 - dense_1_loss_8: 1.6272 - dense_1_loss_9: 1.7198 - dense_1_loss_10: 1.5273 - dense_1_loss_11: 1.6086 - dense_1_loss_12: 1.4019 - dense_1_loss_13: 1.3487 - dense_1_loss_14: 1.4018 - dense_1_loss_15: 1.4726 - dense_1_loss_16: 1.4141 - dense_1_loss_17: 1.3674 - dense_1_loss_18: 1.4104 - dense_1_loss_19: 1.4282 - dense_1_loss_20: 1.4453 - dense_1_loss_21: 1.3880 - dense_1_loss_22: 1.4454 - dense_1_loss_23: 1.4852 - dense_1_loss_24: 1.4087 - dense_1_loss_25: 1.5650 - dense_1_loss_26: 1.3652 - dense_1_loss_27: 1.4370 - dense_1_loss_28: 1.4020 - dense_1_loss_29: 1.4787 - dense_1_loss_30: 0.0000e+00 - dense_1_acc_1: 0.1000 - dense_1_acc_2: 0.3000 - dense_1_acc_3: 0.4333 - dense_1_acc_4: 0.2500 - dense_1_acc_5: 0.3833 - dense_1_acc_6: 0.5333 - dense_1_acc_7: 0.5167 - dense_1_acc_8: 0.5667 - dense_1_acc_9: 0.5167 - dense_1_acc_10: 0.5500 - dense_1_acc_11: 0.5000 - dense_1_acc_12: 0.6167 - dense_1_acc_13: 0.6500 - dense_1_acc_14: 0.6667 - dense_1_acc_15: 0.6000 - dense_1_acc_16: 0.6333 - dense_1_acc_17: 0.7667 - dense_1_acc_18: 0.6000 - dense_1_acc_19: 0.6667 - dense_1_acc_20: 0.6000 - dense_1_acc_21: 0.7167 - dense_1_acc_22: 0.6167 - dense_1_acc_23: 0.5500 - dense_1_acc_24: 0.6333 - dense_1_acc_25: 0.5500 - dense_1_acc_26: 0.7333 - dense_1_acc_27: 0.6167 - dense_1_acc_28: 0.7000 - dense_1_acc_29: 0.6500 - dense_1_acc_30: 0.0000e+00     \n",
      "Epoch 23/100\n",
      "60/60 [==============================] - 0s - loss: 47.7055 - dense_1_loss_1: 4.0834 - dense_1_loss_2: 3.3891 - dense_1_loss_3: 2.6014 - dense_1_loss_4: 2.2800 - dense_1_loss_5: 1.9081 - dense_1_loss_6: 1.7215 - dense_1_loss_7: 1.6609 - dense_1_loss_8: 1.5216 - dense_1_loss_9: 1.6154 - dense_1_loss_10: 1.4214 - dense_1_loss_11: 1.5128 - dense_1_loss_12: 1.3119 - dense_1_loss_13: 1.2872 - dense_1_loss_14: 1.3038 - dense_1_loss_15: 1.3628 - dense_1_loss_16: 1.3480 - dense_1_loss_17: 1.2710 - dense_1_loss_18: 1.3041 - dense_1_loss_19: 1.3670 - dense_1_loss_20: 1.3575 - dense_1_loss_21: 1.3082 - dense_1_loss_22: 1.3294 - dense_1_loss_23: 1.4064 - dense_1_loss_24: 1.3076 - dense_1_loss_25: 1.4388 - dense_1_loss_26: 1.2807 - dense_1_loss_27: 1.3351 - dense_1_loss_28: 1.2923 - dense_1_loss_29: 1.3781 - dense_1_loss_30: 0.0000e+00 - dense_1_acc_1: 0.1000 - dense_1_acc_2: 0.3000 - dense_1_acc_3: 0.4333 - dense_1_acc_4: 0.2500 - dense_1_acc_5: 0.4333 - dense_1_acc_6: 0.6000 - dense_1_acc_7: 0.5833 - dense_1_acc_8: 0.6000 - dense_1_acc_9: 0.5667 - dense_1_acc_10: 0.6000 - dense_1_acc_11: 0.6333 - dense_1_acc_12: 0.7833 - dense_1_acc_13: 0.7167 - dense_1_acc_14: 0.6667 - dense_1_acc_15: 0.6500 - dense_1_acc_16: 0.6667 - dense_1_acc_17: 0.8000 - dense_1_acc_18: 0.6833 - dense_1_acc_19: 0.7667 - dense_1_acc_20: 0.7000 - dense_1_acc_21: 0.7833 - dense_1_acc_22: 0.7000 - dense_1_acc_23: 0.6167 - dense_1_acc_24: 0.6667 - dense_1_acc_25: 0.6333 - dense_1_acc_26: 0.8333 - dense_1_acc_27: 0.7333 - dense_1_acc_28: 0.7667 - dense_1_acc_29: 0.8000 - dense_1_acc_30: 0.0000e+00     \n",
      "Epoch 24/100\n",
      "60/60 [==============================] - 0s - loss: 45.2009 - dense_1_loss_1: 4.0765 - dense_1_loss_2: 3.3425 - dense_1_loss_3: 2.5161 - dense_1_loss_4: 2.1897 - dense_1_loss_5: 1.8183 - dense_1_loss_6: 1.6201 - dense_1_loss_7: 1.5404 - dense_1_loss_8: 1.4300 - dense_1_loss_9: 1.4963 - dense_1_loss_10: 1.3107 - dense_1_loss_11: 1.3863 - dense_1_loss_12: 1.2456 - dense_1_loss_13: 1.1891 - dense_1_loss_14: 1.1832 - dense_1_loss_15: 1.2576 - dense_1_loss_16: 1.2586 - dense_1_loss_17: 1.1849 - dense_1_loss_18: 1.2213 - dense_1_loss_19: 1.2653 - dense_1_loss_20: 1.2864 - dense_1_loss_21: 1.2300 - dense_1_loss_22: 1.2456 - dense_1_loss_23: 1.3392 - dense_1_loss_24: 1.2193 - dense_1_loss_25: 1.3208 - dense_1_loss_26: 1.2396 - dense_1_loss_27: 1.2695 - dense_1_loss_28: 1.2141 - dense_1_loss_29: 1.3038 - dense_1_loss_30: 0.0000e+00 - dense_1_acc_1: 0.1000 - dense_1_acc_2: 0.3000 - dense_1_acc_3: 0.4333 - dense_1_acc_4: 0.2500 - dense_1_acc_5: 0.4667 - dense_1_acc_6: 0.6167 - dense_1_acc_7: 0.6833 - dense_1_acc_8: 0.6333 - dense_1_acc_9: 0.6833 - dense_1_acc_10: 0.7000 - dense_1_acc_11: 0.6667 - dense_1_acc_12: 0.8167 - dense_1_acc_13: 0.7500 - dense_1_acc_14: 0.7167 - dense_1_acc_15: 0.7167 - dense_1_acc_16: 0.7333 - dense_1_acc_17: 0.8167 - dense_1_acc_18: 0.7500 - dense_1_acc_19: 0.8000 - dense_1_acc_20: 0.7167 - dense_1_acc_21: 0.8333 - dense_1_acc_22: 0.7833 - dense_1_acc_23: 0.6833 - dense_1_acc_24: 0.7500 - dense_1_acc_25: 0.7000 - dense_1_acc_26: 0.8000 - dense_1_acc_27: 0.7500 - dense_1_acc_28: 0.7833 - dense_1_acc_29: 0.8167 - dense_1_acc_30: 0.0167         \n",
      "Epoch 25/100\n",
      "60/60 [==============================] - 0s - loss: 42.7669 - dense_1_loss_1: 4.0693 - dense_1_loss_2: 3.2936 - dense_1_loss_3: 2.4348 - dense_1_loss_4: 2.1033 - dense_1_loss_5: 1.7268 - dense_1_loss_6: 1.5093 - dense_1_loss_7: 1.4210 - dense_1_loss_8: 1.3793 - dense_1_loss_9: 1.3939 - dense_1_loss_10: 1.2087 - dense_1_loss_11: 1.2938 - dense_1_loss_12: 1.1727 - dense_1_loss_13: 1.1108 - dense_1_loss_14: 1.1054 - dense_1_loss_15: 1.1909 - dense_1_loss_16: 1.1729 - dense_1_loss_17: 1.1226 - dense_1_loss_18: 1.1412 - dense_1_loss_19: 1.1489 - dense_1_loss_20: 1.2355 - dense_1_loss_21: 1.1451 - dense_1_loss_22: 1.1674 - dense_1_loss_23: 1.2190 - dense_1_loss_24: 1.1315 - dense_1_loss_25: 1.1989 - dense_1_loss_26: 1.1934 - dense_1_loss_27: 1.1721 - dense_1_loss_28: 1.1148 - dense_1_loss_29: 1.1902 - dense_1_loss_30: 0.0000e+00 - dense_1_acc_1: 0.1000 - dense_1_acc_2: 0.3000 - dense_1_acc_3: 0.4333 - dense_1_acc_4: 0.2833 - dense_1_acc_5: 0.4833 - dense_1_acc_6: 0.6500 - dense_1_acc_7: 0.7000 - dense_1_acc_8: 0.6500 - dense_1_acc_9: 0.6833 - dense_1_acc_10: 0.7833 - dense_1_acc_11: 0.7333 - dense_1_acc_12: 0.7833 - dense_1_acc_13: 0.8333 - dense_1_acc_14: 0.7667 - dense_1_acc_15: 0.7667 - dense_1_acc_16: 0.7333 - dense_1_acc_17: 0.8167 - dense_1_acc_18: 0.8333 - dense_1_acc_19: 0.8333 - dense_1_acc_20: 0.7500 - dense_1_acc_21: 0.7667 - dense_1_acc_22: 0.8167 - dense_1_acc_23: 0.8500 - dense_1_acc_24: 0.8500 - dense_1_acc_25: 0.7333 - dense_1_acc_26: 0.8333 - dense_1_acc_27: 0.8000 - dense_1_acc_28: 0.8167 - dense_1_acc_29: 0.8667 - dense_1_acc_30: 0.0167     \n",
      "Epoch 26/100\n"
     ]
    },
    {
     "name": "stdout",
     "output_type": "stream",
     "text": [
      "60/60 [==============================] - 0s - loss: 40.4252 - dense_1_loss_1: 4.0631 - dense_1_loss_2: 3.2419 - dense_1_loss_3: 2.3444 - dense_1_loss_4: 2.0083 - dense_1_loss_5: 1.6335 - dense_1_loss_6: 1.4074 - dense_1_loss_7: 1.2959 - dense_1_loss_8: 1.2887 - dense_1_loss_9: 1.2817 - dense_1_loss_10: 1.0986 - dense_1_loss_11: 1.2402 - dense_1_loss_12: 1.0850 - dense_1_loss_13: 1.0230 - dense_1_loss_14: 1.0327 - dense_1_loss_15: 1.1128 - dense_1_loss_16: 1.0595 - dense_1_loss_17: 1.0261 - dense_1_loss_18: 1.0712 - dense_1_loss_19: 1.0767 - dense_1_loss_20: 1.1403 - dense_1_loss_21: 1.0619 - dense_1_loss_22: 1.1068 - dense_1_loss_23: 1.1739 - dense_1_loss_24: 1.0604 - dense_1_loss_25: 1.1054 - dense_1_loss_26: 1.1084 - dense_1_loss_27: 1.1173 - dense_1_loss_28: 1.0413 - dense_1_loss_29: 1.1189 - dense_1_loss_30: 0.0000e+00 - dense_1_acc_1: 0.1000 - dense_1_acc_2: 0.3000 - dense_1_acc_3: 0.4833 - dense_1_acc_4: 0.3000 - dense_1_acc_5: 0.4833 - dense_1_acc_6: 0.6500 - dense_1_acc_7: 0.7833 - dense_1_acc_8: 0.6500 - dense_1_acc_9: 0.6833 - dense_1_acc_10: 0.8167 - dense_1_acc_11: 0.7833 - dense_1_acc_12: 0.8500 - dense_1_acc_13: 0.8167 - dense_1_acc_14: 0.8000 - dense_1_acc_15: 0.7667 - dense_1_acc_16: 0.9000 - dense_1_acc_17: 0.8833 - dense_1_acc_18: 0.8333 - dense_1_acc_19: 0.8167 - dense_1_acc_20: 0.8000 - dense_1_acc_21: 0.8500 - dense_1_acc_22: 0.8167 - dense_1_acc_23: 0.7667 - dense_1_acc_24: 0.8333 - dense_1_acc_25: 0.7167 - dense_1_acc_26: 0.7833 - dense_1_acc_27: 0.7667 - dense_1_acc_28: 0.8333 - dense_1_acc_29: 0.8333 - dense_1_acc_30: 0.0000e+00     \n",
      "Epoch 27/100\n",
      "60/60 [==============================] - 0s - loss: 38.1766 - dense_1_loss_1: 4.0552 - dense_1_loss_2: 3.1927 - dense_1_loss_3: 2.2648 - dense_1_loss_4: 1.9075 - dense_1_loss_5: 1.5491 - dense_1_loss_6: 1.3341 - dense_1_loss_7: 1.1995 - dense_1_loss_8: 1.1941 - dense_1_loss_9: 1.1874 - dense_1_loss_10: 1.0206 - dense_1_loss_11: 1.1271 - dense_1_loss_12: 1.0012 - dense_1_loss_13: 0.9498 - dense_1_loss_14: 0.9276 - dense_1_loss_15: 1.0365 - dense_1_loss_16: 0.9887 - dense_1_loss_17: 0.9489 - dense_1_loss_18: 0.9995 - dense_1_loss_19: 0.9944 - dense_1_loss_20: 1.0793 - dense_1_loss_21: 1.0027 - dense_1_loss_22: 1.0062 - dense_1_loss_23: 1.0674 - dense_1_loss_24: 1.0301 - dense_1_loss_25: 1.0309 - dense_1_loss_26: 1.0582 - dense_1_loss_27: 1.0249 - dense_1_loss_28: 0.9620 - dense_1_loss_29: 1.0362 - dense_1_loss_30: 0.0000e+00 - dense_1_acc_1: 0.1000 - dense_1_acc_2: 0.3000 - dense_1_acc_3: 0.4833 - dense_1_acc_4: 0.3333 - dense_1_acc_5: 0.5333 - dense_1_acc_6: 0.7000 - dense_1_acc_7: 0.8167 - dense_1_acc_8: 0.7500 - dense_1_acc_9: 0.7500 - dense_1_acc_10: 0.8667 - dense_1_acc_11: 0.8167 - dense_1_acc_12: 0.9000 - dense_1_acc_13: 0.8333 - dense_1_acc_14: 0.9000 - dense_1_acc_15: 0.8167 - dense_1_acc_16: 0.9333 - dense_1_acc_17: 0.8500 - dense_1_acc_18: 0.8833 - dense_1_acc_19: 0.8667 - dense_1_acc_20: 0.8167 - dense_1_acc_21: 0.9000 - dense_1_acc_22: 0.8167 - dense_1_acc_23: 0.8500 - dense_1_acc_24: 0.8500 - dense_1_acc_25: 0.8000 - dense_1_acc_26: 0.7833 - dense_1_acc_27: 0.8167 - dense_1_acc_28: 0.8667 - dense_1_acc_29: 0.9000 - dense_1_acc_30: 0.0000e+00     \n",
      "Epoch 28/100\n",
      "60/60 [==============================] - 0s - loss: 35.9681 - dense_1_loss_1: 4.0477 - dense_1_loss_2: 3.1415 - dense_1_loss_3: 2.1830 - dense_1_loss_4: 1.8209 - dense_1_loss_5: 1.4630 - dense_1_loss_6: 1.2442 - dense_1_loss_7: 1.1198 - dense_1_loss_8: 1.1167 - dense_1_loss_9: 1.0946 - dense_1_loss_10: 0.9472 - dense_1_loss_11: 1.0434 - dense_1_loss_12: 0.9368 - dense_1_loss_13: 0.8801 - dense_1_loss_14: 0.8714 - dense_1_loss_15: 0.9466 - dense_1_loss_16: 0.9050 - dense_1_loss_17: 0.8803 - dense_1_loss_18: 0.9153 - dense_1_loss_19: 0.9332 - dense_1_loss_20: 0.9947 - dense_1_loss_21: 0.9269 - dense_1_loss_22: 0.9499 - dense_1_loss_23: 0.9406 - dense_1_loss_24: 0.9303 - dense_1_loss_25: 0.9754 - dense_1_loss_26: 0.9506 - dense_1_loss_27: 0.9308 - dense_1_loss_28: 0.9027 - dense_1_loss_29: 0.9755 - dense_1_loss_30: 0.0000e+00 - dense_1_acc_1: 0.1000 - dense_1_acc_2: 0.3500 - dense_1_acc_3: 0.4833 - dense_1_acc_4: 0.3500 - dense_1_acc_5: 0.5333 - dense_1_acc_6: 0.7000 - dense_1_acc_7: 0.8000 - dense_1_acc_8: 0.7833 - dense_1_acc_9: 0.8500 - dense_1_acc_10: 0.8667 - dense_1_acc_11: 0.8500 - dense_1_acc_12: 0.9167 - dense_1_acc_13: 0.8667 - dense_1_acc_14: 0.9333 - dense_1_acc_15: 0.8667 - dense_1_acc_16: 0.9500 - dense_1_acc_17: 0.9333 - dense_1_acc_18: 0.9000 - dense_1_acc_19: 0.9167 - dense_1_acc_20: 0.9000 - dense_1_acc_21: 0.9167 - dense_1_acc_22: 0.8667 - dense_1_acc_23: 0.9000 - dense_1_acc_24: 0.9000 - dense_1_acc_25: 0.8333 - dense_1_acc_26: 0.8500 - dense_1_acc_27: 0.8833 - dense_1_acc_28: 0.8833 - dense_1_acc_29: 0.8833 - dense_1_acc_30: 0.0000e+00     \n",
      "Epoch 29/100\n",
      "60/60 [==============================] - 0s - loss: 33.9073 - dense_1_loss_1: 4.0406 - dense_1_loss_2: 3.0923 - dense_1_loss_3: 2.1049 - dense_1_loss_4: 1.7321 - dense_1_loss_5: 1.3780 - dense_1_loss_6: 1.1490 - dense_1_loss_7: 1.0439 - dense_1_loss_8: 1.0236 - dense_1_loss_9: 1.0246 - dense_1_loss_10: 0.8597 - dense_1_loss_11: 0.9463 - dense_1_loss_12: 0.8671 - dense_1_loss_13: 0.7966 - dense_1_loss_14: 0.7900 - dense_1_loss_15: 0.8665 - dense_1_loss_16: 0.8125 - dense_1_loss_17: 0.8144 - dense_1_loss_18: 0.8394 - dense_1_loss_19: 0.8442 - dense_1_loss_20: 0.9174 - dense_1_loss_21: 0.8778 - dense_1_loss_22: 0.8946 - dense_1_loss_23: 0.8906 - dense_1_loss_24: 0.8503 - dense_1_loss_25: 0.9079 - dense_1_loss_26: 0.8895 - dense_1_loss_27: 0.8767 - dense_1_loss_28: 0.8541 - dense_1_loss_29: 0.9226 - dense_1_loss_30: 0.0000e+00 - dense_1_acc_1: 0.1000 - dense_1_acc_2: 0.3833 - dense_1_acc_3: 0.5333 - dense_1_acc_4: 0.4167 - dense_1_acc_5: 0.5500 - dense_1_acc_6: 0.7833 - dense_1_acc_7: 0.8333 - dense_1_acc_8: 0.8333 - dense_1_acc_9: 0.8833 - dense_1_acc_10: 0.9167 - dense_1_acc_11: 0.8833 - dense_1_acc_12: 0.9167 - dense_1_acc_13: 0.9500 - dense_1_acc_14: 0.9333 - dense_1_acc_15: 0.9167 - dense_1_acc_16: 0.9833 - dense_1_acc_17: 0.9500 - dense_1_acc_18: 0.9667 - dense_1_acc_19: 0.9167 - dense_1_acc_20: 0.9167 - dense_1_acc_21: 0.9333 - dense_1_acc_22: 0.8833 - dense_1_acc_23: 0.9000 - dense_1_acc_24: 0.9000 - dense_1_acc_25: 0.9000 - dense_1_acc_26: 0.8667 - dense_1_acc_27: 0.9167 - dense_1_acc_28: 0.9000 - dense_1_acc_29: 0.8833 - dense_1_acc_30: 0.0000e+00     \n",
      "Epoch 30/100\n",
      "60/60 [==============================] - 0s - loss: 31.9937 - dense_1_loss_1: 4.0335 - dense_1_loss_2: 3.0371 - dense_1_loss_3: 2.0303 - dense_1_loss_4: 1.6429 - dense_1_loss_5: 1.2975 - dense_1_loss_6: 1.0661 - dense_1_loss_7: 0.9681 - dense_1_loss_8: 0.9490 - dense_1_loss_9: 0.9485 - dense_1_loss_10: 0.8069 - dense_1_loss_11: 0.8628 - dense_1_loss_12: 0.7975 - dense_1_loss_13: 0.7270 - dense_1_loss_14: 0.7164 - dense_1_loss_15: 0.8022 - dense_1_loss_16: 0.7722 - dense_1_loss_17: 0.7558 - dense_1_loss_18: 0.7665 - dense_1_loss_19: 0.7939 - dense_1_loss_20: 0.8674 - dense_1_loss_21: 0.8110 - dense_1_loss_22: 0.8013 - dense_1_loss_23: 0.8349 - dense_1_loss_24: 0.7953 - dense_1_loss_25: 0.8481 - dense_1_loss_26: 0.8603 - dense_1_loss_27: 0.7910 - dense_1_loss_28: 0.7762 - dense_1_loss_29: 0.8340 - dense_1_loss_30: 0.0000e+00 - dense_1_acc_1: 0.1000 - dense_1_acc_2: 0.3833 - dense_1_acc_3: 0.5500 - dense_1_acc_4: 0.4333 - dense_1_acc_5: 0.6167 - dense_1_acc_6: 0.8000 - dense_1_acc_7: 0.9000 - dense_1_acc_8: 0.8833 - dense_1_acc_9: 0.8833 - dense_1_acc_10: 0.8833 - dense_1_acc_11: 0.8833 - dense_1_acc_12: 0.9167 - dense_1_acc_13: 0.9833 - dense_1_acc_14: 0.9667 - dense_1_acc_15: 0.9667 - dense_1_acc_16: 0.9833 - dense_1_acc_17: 0.9500 - dense_1_acc_18: 0.9833 - dense_1_acc_19: 0.9167 - dense_1_acc_20: 0.9500 - dense_1_acc_21: 0.9333 - dense_1_acc_22: 0.9667 - dense_1_acc_23: 0.9167 - dense_1_acc_24: 0.9333 - dense_1_acc_25: 0.8667 - dense_1_acc_26: 0.8500 - dense_1_acc_27: 0.9500 - dense_1_acc_28: 0.9167 - dense_1_acc_29: 0.9000 - dense_1_acc_30: 0.0000e+00     \n",
      "Epoch 31/100\n"
     ]
    },
    {
     "name": "stdout",
     "output_type": "stream",
     "text": [
      "60/60 [==============================] - 0s - loss: 30.1026 - dense_1_loss_1: 4.0257 - dense_1_loss_2: 2.9874 - dense_1_loss_3: 1.9567 - dense_1_loss_4: 1.5596 - dense_1_loss_5: 1.2243 - dense_1_loss_6: 0.9791 - dense_1_loss_7: 0.8947 - dense_1_loss_8: 0.8895 - dense_1_loss_9: 0.8764 - dense_1_loss_10: 0.7341 - dense_1_loss_11: 0.8216 - dense_1_loss_12: 0.7234 - dense_1_loss_13: 0.6645 - dense_1_loss_14: 0.6859 - dense_1_loss_15: 0.7397 - dense_1_loss_16: 0.7022 - dense_1_loss_17: 0.6963 - dense_1_loss_18: 0.7095 - dense_1_loss_19: 0.7224 - dense_1_loss_20: 0.7798 - dense_1_loss_21: 0.7253 - dense_1_loss_22: 0.7545 - dense_1_loss_23: 0.7653 - dense_1_loss_24: 0.7184 - dense_1_loss_25: 0.7885 - dense_1_loss_26: 0.7644 - dense_1_loss_27: 0.7107 - dense_1_loss_28: 0.7370 - dense_1_loss_29: 0.7657 - dense_1_loss_30: 0.0000e+00 - dense_1_acc_1: 0.1000 - dense_1_acc_2: 0.4000 - dense_1_acc_3: 0.5667 - dense_1_acc_4: 0.4833 - dense_1_acc_5: 0.6333 - dense_1_acc_6: 0.8667 - dense_1_acc_7: 0.9000 - dense_1_acc_8: 0.9333 - dense_1_acc_9: 0.9167 - dense_1_acc_10: 0.9667 - dense_1_acc_11: 0.8833 - dense_1_acc_12: 0.9833 - dense_1_acc_13: 0.9833 - dense_1_acc_14: 0.9333 - dense_1_acc_15: 0.9667 - dense_1_acc_16: 1.0000 - dense_1_acc_17: 0.9500 - dense_1_acc_18: 0.9667 - dense_1_acc_19: 0.9167 - dense_1_acc_20: 0.9667 - dense_1_acc_21: 0.9500 - dense_1_acc_22: 0.9167 - dense_1_acc_23: 0.9167 - dense_1_acc_24: 0.9333 - dense_1_acc_25: 0.8667 - dense_1_acc_26: 0.9333 - dense_1_acc_27: 1.0000 - dense_1_acc_28: 0.9500 - dense_1_acc_29: 0.9000 - dense_1_acc_30: 0.0000e+00     \n",
      "Epoch 32/100\n",
      "60/60 [==============================] - 0s - loss: 28.3326 - dense_1_loss_1: 4.0197 - dense_1_loss_2: 2.9355 - dense_1_loss_3: 1.8867 - dense_1_loss_4: 1.4726 - dense_1_loss_5: 1.1434 - dense_1_loss_6: 0.8956 - dense_1_loss_7: 0.8178 - dense_1_loss_8: 0.8107 - dense_1_loss_9: 0.8048 - dense_1_loss_10: 0.6571 - dense_1_loss_11: 0.7362 - dense_1_loss_12: 0.6541 - dense_1_loss_13: 0.6015 - dense_1_loss_14: 0.6120 - dense_1_loss_15: 0.6825 - dense_1_loss_16: 0.6385 - dense_1_loss_17: 0.6280 - dense_1_loss_18: 0.6351 - dense_1_loss_19: 0.6556 - dense_1_loss_20: 0.7297 - dense_1_loss_21: 0.6856 - dense_1_loss_22: 0.7101 - dense_1_loss_23: 0.6912 - dense_1_loss_24: 0.6571 - dense_1_loss_25: 0.7282 - dense_1_loss_26: 0.7424 - dense_1_loss_27: 0.6896 - dense_1_loss_28: 0.6871 - dense_1_loss_29: 0.7240 - dense_1_loss_30: 0.0000e+00 - dense_1_acc_1: 0.1000 - dense_1_acc_2: 0.4000 - dense_1_acc_3: 0.5667 - dense_1_acc_4: 0.5000 - dense_1_acc_5: 0.6667 - dense_1_acc_6: 0.8833 - dense_1_acc_7: 0.9667 - dense_1_acc_8: 0.9333 - dense_1_acc_9: 0.9167 - dense_1_acc_10: 0.9833 - dense_1_acc_11: 0.9000 - dense_1_acc_12: 0.9667 - dense_1_acc_13: 0.9667 - dense_1_acc_14: 0.9500 - dense_1_acc_15: 0.9667 - dense_1_acc_16: 1.0000 - dense_1_acc_17: 0.9500 - dense_1_acc_18: 0.9667 - dense_1_acc_19: 0.9167 - dense_1_acc_20: 0.9500 - dense_1_acc_21: 0.9500 - dense_1_acc_22: 0.9333 - dense_1_acc_23: 0.9167 - dense_1_acc_24: 0.9167 - dense_1_acc_25: 0.8667 - dense_1_acc_26: 0.9333 - dense_1_acc_27: 0.9833 - dense_1_acc_28: 0.9500 - dense_1_acc_29: 0.9333 - dense_1_acc_30: 0.0000e+00     \n",
      "Epoch 33/100\n",
      "60/60 [==============================] - 0s - loss: 26.5943 - dense_1_loss_1: 4.0135 - dense_1_loss_2: 2.8817 - dense_1_loss_3: 1.8180 - dense_1_loss_4: 1.3904 - dense_1_loss_5: 1.0697 - dense_1_loss_6: 0.8363 - dense_1_loss_7: 0.7518 - dense_1_loss_8: 0.7479 - dense_1_loss_9: 0.7330 - dense_1_loss_10: 0.5963 - dense_1_loss_11: 0.6772 - dense_1_loss_12: 0.5914 - dense_1_loss_13: 0.5486 - dense_1_loss_14: 0.5772 - dense_1_loss_15: 0.6153 - dense_1_loss_16: 0.5900 - dense_1_loss_17: 0.5701 - dense_1_loss_18: 0.5736 - dense_1_loss_19: 0.6137 - dense_1_loss_20: 0.6584 - dense_1_loss_21: 0.6368 - dense_1_loss_22: 0.6329 - dense_1_loss_23: 0.6425 - dense_1_loss_24: 0.6160 - dense_1_loss_25: 0.6545 - dense_1_loss_26: 0.6450 - dense_1_loss_27: 0.6039 - dense_1_loss_28: 0.6359 - dense_1_loss_29: 0.6728 - dense_1_loss_30: 0.0000e+00 - dense_1_acc_1: 0.1000 - dense_1_acc_2: 0.4000 - dense_1_acc_3: 0.6000 - dense_1_acc_4: 0.6167 - dense_1_acc_5: 0.7167 - dense_1_acc_6: 0.9167 - dense_1_acc_7: 0.9667 - dense_1_acc_8: 0.9333 - dense_1_acc_9: 0.9167 - dense_1_acc_10: 0.9833 - dense_1_acc_11: 0.9000 - dense_1_acc_12: 0.9667 - dense_1_acc_13: 0.9833 - dense_1_acc_14: 0.9667 - dense_1_acc_15: 0.9667 - dense_1_acc_16: 1.0000 - dense_1_acc_17: 0.9500 - dense_1_acc_18: 0.9667 - dense_1_acc_19: 0.9167 - dense_1_acc_20: 1.0000 - dense_1_acc_21: 0.9500 - dense_1_acc_22: 0.9500 - dense_1_acc_23: 0.9333 - dense_1_acc_24: 0.9167 - dense_1_acc_25: 0.8833 - dense_1_acc_26: 0.9333 - dense_1_acc_27: 1.0000 - dense_1_acc_28: 0.9500 - dense_1_acc_29: 0.9500 - dense_1_acc_30: 0.0000e+00     \n",
      "Epoch 34/100\n",
      "60/60 [==============================] - 0s - loss: 25.0380 - dense_1_loss_1: 4.0068 - dense_1_loss_2: 2.8324 - dense_1_loss_3: 1.7506 - dense_1_loss_4: 1.3136 - dense_1_loss_5: 0.9972 - dense_1_loss_6: 0.7730 - dense_1_loss_7: 0.6870 - dense_1_loss_8: 0.6831 - dense_1_loss_9: 0.6713 - dense_1_loss_10: 0.5382 - dense_1_loss_11: 0.6122 - dense_1_loss_12: 0.5451 - dense_1_loss_13: 0.4965 - dense_1_loss_14: 0.5278 - dense_1_loss_15: 0.5556 - dense_1_loss_16: 0.5567 - dense_1_loss_17: 0.5168 - dense_1_loss_18: 0.5381 - dense_1_loss_19: 0.5645 - dense_1_loss_20: 0.5987 - dense_1_loss_21: 0.5895 - dense_1_loss_22: 0.5719 - dense_1_loss_23: 0.5889 - dense_1_loss_24: 0.5680 - dense_1_loss_25: 0.6126 - dense_1_loss_26: 0.5891 - dense_1_loss_27: 0.5473 - dense_1_loss_28: 0.5791 - dense_1_loss_29: 0.6267 - dense_1_loss_30: 0.0000e+00 - dense_1_acc_1: 0.1000 - dense_1_acc_2: 0.4000 - dense_1_acc_3: 0.6000 - dense_1_acc_4: 0.6667 - dense_1_acc_5: 0.7500 - dense_1_acc_6: 0.9167 - dense_1_acc_7: 0.9833 - dense_1_acc_8: 0.9667 - dense_1_acc_9: 0.9167 - dense_1_acc_10: 1.0000 - dense_1_acc_11: 0.9167 - dense_1_acc_12: 0.9833 - dense_1_acc_13: 0.9833 - dense_1_acc_14: 0.9833 - dense_1_acc_15: 0.9833 - dense_1_acc_16: 1.0000 - dense_1_acc_17: 0.9667 - dense_1_acc_18: 0.9833 - dense_1_acc_19: 0.9500 - dense_1_acc_20: 1.0000 - dense_1_acc_21: 1.0000 - dense_1_acc_22: 0.9833 - dense_1_acc_23: 0.9833 - dense_1_acc_24: 0.9667 - dense_1_acc_25: 0.9000 - dense_1_acc_26: 0.9333 - dense_1_acc_27: 0.9833 - dense_1_acc_28: 0.9833 - dense_1_acc_29: 0.9667 - dense_1_acc_30: 0.0000e+00     \n",
      "Epoch 35/100\n",
      "60/60 [==============================] - 0s - loss: 23.5889 - dense_1_loss_1: 4.0006 - dense_1_loss_2: 2.7814 - dense_1_loss_3: 1.6853 - dense_1_loss_4: 1.2335 - dense_1_loss_5: 0.9254 - dense_1_loss_6: 0.7031 - dense_1_loss_7: 0.6305 - dense_1_loss_8: 0.6242 - dense_1_loss_9: 0.6203 - dense_1_loss_10: 0.4925 - dense_1_loss_11: 0.5410 - dense_1_loss_12: 0.4929 - dense_1_loss_13: 0.4614 - dense_1_loss_14: 0.4585 - dense_1_loss_15: 0.5117 - dense_1_loss_16: 0.5008 - dense_1_loss_17: 0.4669 - dense_1_loss_18: 0.5065 - dense_1_loss_19: 0.5023 - dense_1_loss_20: 0.5496 - dense_1_loss_21: 0.5477 - dense_1_loss_22: 0.5324 - dense_1_loss_23: 0.5437 - dense_1_loss_24: 0.5115 - dense_1_loss_25: 0.5590 - dense_1_loss_26: 0.5602 - dense_1_loss_27: 0.5288 - dense_1_loss_28: 0.5367 - dense_1_loss_29: 0.5801 - dense_1_loss_30: 0.0000e+00 - dense_1_acc_1: 0.1000 - dense_1_acc_2: 0.4000 - dense_1_acc_3: 0.6000 - dense_1_acc_4: 0.7167 - dense_1_acc_5: 0.7833 - dense_1_acc_6: 0.9167 - dense_1_acc_7: 0.9833 - dense_1_acc_8: 0.9667 - dense_1_acc_9: 0.9167 - dense_1_acc_10: 1.0000 - dense_1_acc_11: 0.9167 - dense_1_acc_12: 1.0000 - dense_1_acc_13: 1.0000 - dense_1_acc_14: 1.0000 - dense_1_acc_15: 1.0000 - dense_1_acc_16: 1.0000 - dense_1_acc_17: 0.9833 - dense_1_acc_18: 1.0000 - dense_1_acc_19: 0.9833 - dense_1_acc_20: 1.0000 - dense_1_acc_21: 1.0000 - dense_1_acc_22: 1.0000 - dense_1_acc_23: 0.9833 - dense_1_acc_24: 0.9833 - dense_1_acc_25: 0.9000 - dense_1_acc_26: 0.9333 - dense_1_acc_27: 1.0000 - dense_1_acc_28: 0.9833 - dense_1_acc_29: 0.9667 - dense_1_acc_30: 0.0000e+00     \n",
      "Epoch 36/100\n"
     ]
    },
    {
     "name": "stdout",
     "output_type": "stream",
     "text": [
      "60/60 [==============================] - 0s - loss: 22.2114 - dense_1_loss_1: 3.9950 - dense_1_loss_2: 2.7336 - dense_1_loss_3: 1.6213 - dense_1_loss_4: 1.1569 - dense_1_loss_5: 0.8611 - dense_1_loss_6: 0.6447 - dense_1_loss_7: 0.5785 - dense_1_loss_8: 0.5728 - dense_1_loss_9: 0.5703 - dense_1_loss_10: 0.4468 - dense_1_loss_11: 0.4957 - dense_1_loss_12: 0.4549 - dense_1_loss_13: 0.4197 - dense_1_loss_14: 0.4308 - dense_1_loss_15: 0.4719 - dense_1_loss_16: 0.4465 - dense_1_loss_17: 0.4232 - dense_1_loss_18: 0.4501 - dense_1_loss_19: 0.4604 - dense_1_loss_20: 0.4979 - dense_1_loss_21: 0.4897 - dense_1_loss_22: 0.5038 - dense_1_loss_23: 0.4953 - dense_1_loss_24: 0.4614 - dense_1_loss_25: 0.5023 - dense_1_loss_26: 0.5063 - dense_1_loss_27: 0.4844 - dense_1_loss_28: 0.4939 - dense_1_loss_29: 0.5423 - dense_1_loss_30: 0.0000e+00 - dense_1_acc_1: 0.1000 - dense_1_acc_2: 0.4000 - dense_1_acc_3: 0.6167 - dense_1_acc_4: 0.7167 - dense_1_acc_5: 0.8333 - dense_1_acc_6: 0.9167 - dense_1_acc_7: 0.9833 - dense_1_acc_8: 0.9667 - dense_1_acc_9: 0.9333 - dense_1_acc_10: 1.0000 - dense_1_acc_11: 0.9833 - dense_1_acc_12: 1.0000 - dense_1_acc_13: 1.0000 - dense_1_acc_14: 1.0000 - dense_1_acc_15: 1.0000 - dense_1_acc_16: 1.0000 - dense_1_acc_17: 0.9833 - dense_1_acc_18: 1.0000 - dense_1_acc_19: 0.9833 - dense_1_acc_20: 1.0000 - dense_1_acc_21: 1.0000 - dense_1_acc_22: 1.0000 - dense_1_acc_23: 1.0000 - dense_1_acc_24: 0.9667 - dense_1_acc_25: 0.9333 - dense_1_acc_26: 0.9500 - dense_1_acc_27: 0.9833 - dense_1_acc_28: 0.9833 - dense_1_acc_29: 0.9500 - dense_1_acc_30: 0.0000e+00     \n",
      "Epoch 37/100\n",
      "60/60 [==============================] - 0s - loss: 20.9377 - dense_1_loss_1: 3.9888 - dense_1_loss_2: 2.6850 - dense_1_loss_3: 1.5593 - dense_1_loss_4: 1.0787 - dense_1_loss_5: 0.8000 - dense_1_loss_6: 0.5986 - dense_1_loss_7: 0.5325 - dense_1_loss_8: 0.5296 - dense_1_loss_9: 0.5244 - dense_1_loss_10: 0.4078 - dense_1_loss_11: 0.4553 - dense_1_loss_12: 0.4156 - dense_1_loss_13: 0.3734 - dense_1_loss_14: 0.3855 - dense_1_loss_15: 0.4292 - dense_1_loss_16: 0.4079 - dense_1_loss_17: 0.3962 - dense_1_loss_18: 0.3977 - dense_1_loss_19: 0.4329 - dense_1_loss_20: 0.4722 - dense_1_loss_21: 0.4500 - dense_1_loss_22: 0.4440 - dense_1_loss_23: 0.4476 - dense_1_loss_24: 0.4194 - dense_1_loss_25: 0.4591 - dense_1_loss_26: 0.4814 - dense_1_loss_27: 0.4385 - dense_1_loss_28: 0.4395 - dense_1_loss_29: 0.4875 - dense_1_loss_30: 0.0000e+00 - dense_1_acc_1: 0.1000 - dense_1_acc_2: 0.4000 - dense_1_acc_3: 0.6333 - dense_1_acc_4: 0.7667 - dense_1_acc_5: 0.8667 - dense_1_acc_6: 0.9167 - dense_1_acc_7: 0.9833 - dense_1_acc_8: 0.9667 - dense_1_acc_9: 0.9500 - dense_1_acc_10: 1.0000 - dense_1_acc_11: 0.9833 - dense_1_acc_12: 1.0000 - dense_1_acc_13: 1.0000 - dense_1_acc_14: 1.0000 - dense_1_acc_15: 1.0000 - dense_1_acc_16: 1.0000 - dense_1_acc_17: 0.9833 - dense_1_acc_18: 1.0000 - dense_1_acc_19: 1.0000 - dense_1_acc_20: 1.0000 - dense_1_acc_21: 1.0000 - dense_1_acc_22: 0.9833 - dense_1_acc_23: 0.9833 - dense_1_acc_24: 0.9833 - dense_1_acc_25: 1.0000 - dense_1_acc_26: 0.9667 - dense_1_acc_27: 0.9833 - dense_1_acc_28: 0.9833 - dense_1_acc_29: 0.9667 - dense_1_acc_30: 0.0000e+00     \n",
      "Epoch 38/100\n",
      "60/60 [==============================] - 0s - loss: 19.7802 - dense_1_loss_1: 3.9831 - dense_1_loss_2: 2.6387 - dense_1_loss_3: 1.4973 - dense_1_loss_4: 1.0037 - dense_1_loss_5: 0.7396 - dense_1_loss_6: 0.5466 - dense_1_loss_7: 0.4953 - dense_1_loss_8: 0.4932 - dense_1_loss_9: 0.4760 - dense_1_loss_10: 0.3696 - dense_1_loss_11: 0.4061 - dense_1_loss_12: 0.3720 - dense_1_loss_13: 0.3411 - dense_1_loss_14: 0.3510 - dense_1_loss_15: 0.4000 - dense_1_loss_16: 0.3700 - dense_1_loss_17: 0.3594 - dense_1_loss_18: 0.3696 - dense_1_loss_19: 0.3819 - dense_1_loss_20: 0.4132 - dense_1_loss_21: 0.4299 - dense_1_loss_22: 0.4000 - dense_1_loss_23: 0.4161 - dense_1_loss_24: 0.3886 - dense_1_loss_25: 0.4183 - dense_1_loss_26: 0.4292 - dense_1_loss_27: 0.3953 - dense_1_loss_28: 0.4257 - dense_1_loss_29: 0.4697 - dense_1_loss_30: 0.0000e+00 - dense_1_acc_1: 0.1000 - dense_1_acc_2: 0.4167 - dense_1_acc_3: 0.6333 - dense_1_acc_4: 0.7833 - dense_1_acc_5: 0.9167 - dense_1_acc_6: 0.9500 - dense_1_acc_7: 0.9833 - dense_1_acc_8: 0.9833 - dense_1_acc_9: 0.9667 - dense_1_acc_10: 1.0000 - dense_1_acc_11: 0.9833 - dense_1_acc_12: 1.0000 - dense_1_acc_13: 1.0000 - dense_1_acc_14: 1.0000 - dense_1_acc_15: 0.9833 - dense_1_acc_16: 1.0000 - dense_1_acc_17: 1.0000 - dense_1_acc_18: 1.0000 - dense_1_acc_19: 1.0000 - dense_1_acc_20: 1.0000 - dense_1_acc_21: 1.0000 - dense_1_acc_22: 0.9833 - dense_1_acc_23: 1.0000 - dense_1_acc_24: 1.0000 - dense_1_acc_25: 0.9833 - dense_1_acc_26: 0.9500 - dense_1_acc_27: 0.9833 - dense_1_acc_28: 0.9833 - dense_1_acc_29: 0.9667 - dense_1_acc_30: 0.0000e+00     \n",
      "Epoch 39/100\n",
      "60/60 [==============================] - 0s - loss: 18.6515 - dense_1_loss_1: 3.9781 - dense_1_loss_2: 2.5910 - dense_1_loss_3: 1.4384 - dense_1_loss_4: 0.9394 - dense_1_loss_5: 0.6808 - dense_1_loss_6: 0.5065 - dense_1_loss_7: 0.4550 - dense_1_loss_8: 0.4500 - dense_1_loss_9: 0.4422 - dense_1_loss_10: 0.3292 - dense_1_loss_11: 0.3678 - dense_1_loss_12: 0.3318 - dense_1_loss_13: 0.3122 - dense_1_loss_14: 0.3192 - dense_1_loss_15: 0.3595 - dense_1_loss_16: 0.3371 - dense_1_loss_17: 0.3234 - dense_1_loss_18: 0.3358 - dense_1_loss_19: 0.3442 - dense_1_loss_20: 0.3776 - dense_1_loss_21: 0.3911 - dense_1_loss_22: 0.3638 - dense_1_loss_23: 0.3792 - dense_1_loss_24: 0.3499 - dense_1_loss_25: 0.3736 - dense_1_loss_26: 0.4025 - dense_1_loss_27: 0.3669 - dense_1_loss_28: 0.3835 - dense_1_loss_29: 0.4218 - dense_1_loss_30: 0.0000e+00 - dense_1_acc_1: 0.1000 - dense_1_acc_2: 0.4167 - dense_1_acc_3: 0.6333 - dense_1_acc_4: 0.7833 - dense_1_acc_5: 0.9167 - dense_1_acc_6: 0.9667 - dense_1_acc_7: 0.9833 - dense_1_acc_8: 0.9833 - dense_1_acc_9: 0.9833 - dense_1_acc_10: 1.0000 - dense_1_acc_11: 0.9833 - dense_1_acc_12: 1.0000 - dense_1_acc_13: 1.0000 - dense_1_acc_14: 1.0000 - dense_1_acc_15: 1.0000 - dense_1_acc_16: 1.0000 - dense_1_acc_17: 1.0000 - dense_1_acc_18: 1.0000 - dense_1_acc_19: 1.0000 - dense_1_acc_20: 1.0000 - dense_1_acc_21: 1.0000 - dense_1_acc_22: 1.0000 - dense_1_acc_23: 1.0000 - dense_1_acc_24: 1.0000 - dense_1_acc_25: 1.0000 - dense_1_acc_26: 0.9833 - dense_1_acc_27: 0.9833 - dense_1_acc_28: 0.9833 - dense_1_acc_29: 0.9667 - dense_1_acc_30: 0.0000e+00     \n",
      "Epoch 40/100\n",
      "60/60 [==============================] - 0s - loss: 17.6660 - dense_1_loss_1: 3.9723 - dense_1_loss_2: 2.5458 - dense_1_loss_3: 1.3844 - dense_1_loss_4: 0.8723 - dense_1_loss_5: 0.6265 - dense_1_loss_6: 0.4677 - dense_1_loss_7: 0.4148 - dense_1_loss_8: 0.4052 - dense_1_loss_9: 0.4054 - dense_1_loss_10: 0.2979 - dense_1_loss_11: 0.3409 - dense_1_loss_12: 0.3043 - dense_1_loss_13: 0.2872 - dense_1_loss_14: 0.2909 - dense_1_loss_15: 0.3246 - dense_1_loss_16: 0.3041 - dense_1_loss_17: 0.3010 - dense_1_loss_18: 0.3080 - dense_1_loss_19: 0.3151 - dense_1_loss_20: 0.3500 - dense_1_loss_21: 0.3515 - dense_1_loss_22: 0.3408 - dense_1_loss_23: 0.3494 - dense_1_loss_24: 0.3148 - dense_1_loss_25: 0.3504 - dense_1_loss_26: 0.3666 - dense_1_loss_27: 0.3408 - dense_1_loss_28: 0.3445 - dense_1_loss_29: 0.3888 - dense_1_loss_30: 0.0000e+00 - dense_1_acc_1: 0.1000 - dense_1_acc_2: 0.4167 - dense_1_acc_3: 0.6333 - dense_1_acc_4: 0.7833 - dense_1_acc_5: 0.9167 - dense_1_acc_6: 0.9667 - dense_1_acc_7: 0.9833 - dense_1_acc_8: 0.9833 - dense_1_acc_9: 0.9833 - dense_1_acc_10: 1.0000 - dense_1_acc_11: 0.9833 - dense_1_acc_12: 1.0000 - dense_1_acc_13: 1.0000 - dense_1_acc_14: 1.0000 - dense_1_acc_15: 1.0000 - dense_1_acc_16: 1.0000 - dense_1_acc_17: 1.0000 - dense_1_acc_18: 1.0000 - dense_1_acc_19: 1.0000 - dense_1_acc_20: 1.0000 - dense_1_acc_21: 1.0000 - dense_1_acc_22: 1.0000 - dense_1_acc_23: 0.9833 - dense_1_acc_24: 1.0000 - dense_1_acc_25: 1.0000 - dense_1_acc_26: 0.9833 - dense_1_acc_27: 0.9833 - dense_1_acc_28: 0.9833 - dense_1_acc_29: 0.9667 - dense_1_acc_30: 0.0000e+00     \n",
      "Epoch 41/100\n"
     ]
    },
    {
     "name": "stdout",
     "output_type": "stream",
     "text": [
      "60/60 [==============================] - 0s - loss: 16.7321 - dense_1_loss_1: 3.9674 - dense_1_loss_2: 2.4977 - dense_1_loss_3: 1.3283 - dense_1_loss_4: 0.8137 - dense_1_loss_5: 0.5798 - dense_1_loss_6: 0.4353 - dense_1_loss_7: 0.3836 - dense_1_loss_8: 0.3752 - dense_1_loss_9: 0.3679 - dense_1_loss_10: 0.2721 - dense_1_loss_11: 0.3159 - dense_1_loss_12: 0.2796 - dense_1_loss_13: 0.2599 - dense_1_loss_14: 0.2693 - dense_1_loss_15: 0.2979 - dense_1_loss_16: 0.2780 - dense_1_loss_17: 0.2673 - dense_1_loss_18: 0.2799 - dense_1_loss_19: 0.2862 - dense_1_loss_20: 0.3205 - dense_1_loss_21: 0.3158 - dense_1_loss_22: 0.3063 - dense_1_loss_23: 0.3136 - dense_1_loss_24: 0.2872 - dense_1_loss_25: 0.3249 - dense_1_loss_26: 0.3166 - dense_1_loss_27: 0.3043 - dense_1_loss_28: 0.3213 - dense_1_loss_29: 0.3668 - dense_1_loss_30: 0.0000e+00 - dense_1_acc_1: 0.1000 - dense_1_acc_2: 0.4167 - dense_1_acc_3: 0.6667 - dense_1_acc_4: 0.7833 - dense_1_acc_5: 0.9333 - dense_1_acc_6: 0.9667 - dense_1_acc_7: 0.9833 - dense_1_acc_8: 0.9833 - dense_1_acc_9: 0.9833 - dense_1_acc_10: 1.0000 - dense_1_acc_11: 1.0000 - dense_1_acc_12: 1.0000 - dense_1_acc_13: 1.0000 - dense_1_acc_14: 1.0000 - dense_1_acc_15: 1.0000 - dense_1_acc_16: 1.0000 - dense_1_acc_17: 1.0000 - dense_1_acc_18: 1.0000 - dense_1_acc_19: 1.0000 - dense_1_acc_20: 1.0000 - dense_1_acc_21: 1.0000 - dense_1_acc_22: 1.0000 - dense_1_acc_23: 1.0000 - dense_1_acc_24: 1.0000 - dense_1_acc_25: 1.0000 - dense_1_acc_26: 0.9833 - dense_1_acc_27: 0.9833 - dense_1_acc_28: 0.9833 - dense_1_acc_29: 0.9667 - dense_1_acc_30: 0.0000e+00     \n",
      "Epoch 42/100\n",
      "60/60 [==============================] - 0s - loss: 15.9315 - dense_1_loss_1: 3.9621 - dense_1_loss_2: 2.4549 - dense_1_loss_3: 1.2736 - dense_1_loss_4: 0.7572 - dense_1_loss_5: 0.5388 - dense_1_loss_6: 0.4029 - dense_1_loss_7: 0.3519 - dense_1_loss_8: 0.3521 - dense_1_loss_9: 0.3395 - dense_1_loss_10: 0.2473 - dense_1_loss_11: 0.2844 - dense_1_loss_12: 0.2575 - dense_1_loss_13: 0.2373 - dense_1_loss_14: 0.2411 - dense_1_loss_15: 0.2740 - dense_1_loss_16: 0.2582 - dense_1_loss_17: 0.2464 - dense_1_loss_18: 0.2519 - dense_1_loss_19: 0.2634 - dense_1_loss_20: 0.2934 - dense_1_loss_21: 0.2932 - dense_1_loss_22: 0.2777 - dense_1_loss_23: 0.2824 - dense_1_loss_24: 0.2695 - dense_1_loss_25: 0.2972 - dense_1_loss_26: 0.2907 - dense_1_loss_27: 0.2830 - dense_1_loss_28: 0.3061 - dense_1_loss_29: 0.3438 - dense_1_loss_30: 0.0000e+00 - dense_1_acc_1: 0.1000 - dense_1_acc_2: 0.4333 - dense_1_acc_3: 0.7000 - dense_1_acc_4: 0.8333 - dense_1_acc_5: 0.9333 - dense_1_acc_6: 0.9667 - dense_1_acc_7: 0.9833 - dense_1_acc_8: 0.9833 - dense_1_acc_9: 0.9833 - dense_1_acc_10: 1.0000 - dense_1_acc_11: 1.0000 - dense_1_acc_12: 1.0000 - dense_1_acc_13: 1.0000 - dense_1_acc_14: 1.0000 - dense_1_acc_15: 1.0000 - dense_1_acc_16: 1.0000 - dense_1_acc_17: 1.0000 - dense_1_acc_18: 1.0000 - dense_1_acc_19: 1.0000 - dense_1_acc_20: 1.0000 - dense_1_acc_21: 1.0000 - dense_1_acc_22: 1.0000 - dense_1_acc_23: 1.0000 - dense_1_acc_24: 1.0000 - dense_1_acc_25: 1.0000 - dense_1_acc_26: 1.0000 - dense_1_acc_27: 0.9833 - dense_1_acc_28: 0.9833 - dense_1_acc_29: 0.9833 - dense_1_acc_30: 0.0000e+00     \n",
      "Epoch 43/100\n",
      "60/60 [==============================] - 0s - loss: 15.1293 - dense_1_loss_1: 3.9577 - dense_1_loss_2: 2.4078 - dense_1_loss_3: 1.2242 - dense_1_loss_4: 0.7062 - dense_1_loss_5: 0.4954 - dense_1_loss_6: 0.3698 - dense_1_loss_7: 0.3257 - dense_1_loss_8: 0.3223 - dense_1_loss_9: 0.3068 - dense_1_loss_10: 0.2238 - dense_1_loss_11: 0.2544 - dense_1_loss_12: 0.2339 - dense_1_loss_13: 0.2151 - dense_1_loss_14: 0.2218 - dense_1_loss_15: 0.2499 - dense_1_loss_16: 0.2305 - dense_1_loss_17: 0.2283 - dense_1_loss_18: 0.2324 - dense_1_loss_19: 0.2355 - dense_1_loss_20: 0.2604 - dense_1_loss_21: 0.2713 - dense_1_loss_22: 0.2613 - dense_1_loss_23: 0.2583 - dense_1_loss_24: 0.2411 - dense_1_loss_25: 0.2616 - dense_1_loss_26: 0.2658 - dense_1_loss_27: 0.2646 - dense_1_loss_28: 0.2820 - dense_1_loss_29: 0.3214 - dense_1_loss_30: 0.0000e+00 - dense_1_acc_1: 0.1000 - dense_1_acc_2: 0.4333 - dense_1_acc_3: 0.7167 - dense_1_acc_4: 0.8667 - dense_1_acc_5: 0.9333 - dense_1_acc_6: 0.9667 - dense_1_acc_7: 0.9833 - dense_1_acc_8: 0.9833 - dense_1_acc_9: 0.9833 - dense_1_acc_10: 1.0000 - dense_1_acc_11: 1.0000 - dense_1_acc_12: 1.0000 - dense_1_acc_13: 1.0000 - dense_1_acc_14: 1.0000 - dense_1_acc_15: 1.0000 - dense_1_acc_16: 1.0000 - dense_1_acc_17: 1.0000 - dense_1_acc_18: 1.0000 - dense_1_acc_19: 1.0000 - dense_1_acc_20: 1.0000 - dense_1_acc_21: 1.0000 - dense_1_acc_22: 1.0000 - dense_1_acc_23: 1.0000 - dense_1_acc_24: 1.0000 - dense_1_acc_25: 1.0000 - dense_1_acc_26: 1.0000 - dense_1_acc_27: 0.9833 - dense_1_acc_28: 0.9833 - dense_1_acc_29: 0.9833 - dense_1_acc_30: 0.0000e+00     \n",
      "Epoch 44/100\n",
      "60/60 [==============================] - 0s - loss: 14.4525 - dense_1_loss_1: 3.9527 - dense_1_loss_2: 2.3646 - dense_1_loss_3: 1.1790 - dense_1_loss_4: 0.6571 - dense_1_loss_5: 0.4587 - dense_1_loss_6: 0.3438 - dense_1_loss_7: 0.2965 - dense_1_loss_8: 0.2923 - dense_1_loss_9: 0.2855 - dense_1_loss_10: 0.2052 - dense_1_loss_11: 0.2305 - dense_1_loss_12: 0.2142 - dense_1_loss_13: 0.1993 - dense_1_loss_14: 0.2069 - dense_1_loss_15: 0.2252 - dense_1_loss_16: 0.2135 - dense_1_loss_17: 0.2130 - dense_1_loss_18: 0.2142 - dense_1_loss_19: 0.2189 - dense_1_loss_20: 0.2426 - dense_1_loss_21: 0.2493 - dense_1_loss_22: 0.2428 - dense_1_loss_23: 0.2412 - dense_1_loss_24: 0.2197 - dense_1_loss_25: 0.2408 - dense_1_loss_26: 0.2540 - dense_1_loss_27: 0.2468 - dense_1_loss_28: 0.2514 - dense_1_loss_29: 0.2929 - dense_1_loss_30: 0.0000e+00 - dense_1_acc_1: 0.1000 - dense_1_acc_2: 0.4333 - dense_1_acc_3: 0.7167 - dense_1_acc_4: 0.8667 - dense_1_acc_5: 0.9500 - dense_1_acc_6: 0.9667 - dense_1_acc_7: 0.9833 - dense_1_acc_8: 0.9833 - dense_1_acc_9: 0.9833 - dense_1_acc_10: 1.0000 - dense_1_acc_11: 1.0000 - dense_1_acc_12: 1.0000 - dense_1_acc_13: 1.0000 - dense_1_acc_14: 1.0000 - dense_1_acc_15: 1.0000 - dense_1_acc_16: 1.0000 - dense_1_acc_17: 1.0000 - dense_1_acc_18: 1.0000 - dense_1_acc_19: 1.0000 - dense_1_acc_20: 1.0000 - dense_1_acc_21: 1.0000 - dense_1_acc_22: 1.0000 - dense_1_acc_23: 1.0000 - dense_1_acc_24: 1.0000 - dense_1_acc_25: 1.0000 - dense_1_acc_26: 0.9833 - dense_1_acc_27: 1.0000 - dense_1_acc_28: 0.9833 - dense_1_acc_29: 0.9667 - dense_1_acc_30: 0.0000e+00     \n",
      "Epoch 45/100\n",
      "60/60 [==============================] - 0s - loss: 13.8001 - dense_1_loss_1: 3.9488 - dense_1_loss_2: 2.3220 - dense_1_loss_3: 1.1307 - dense_1_loss_4: 0.6159 - dense_1_loss_5: 0.4257 - dense_1_loss_6: 0.3234 - dense_1_loss_7: 0.2701 - dense_1_loss_8: 0.2679 - dense_1_loss_9: 0.2638 - dense_1_loss_10: 0.1876 - dense_1_loss_11: 0.2074 - dense_1_loss_12: 0.1956 - dense_1_loss_13: 0.1861 - dense_1_loss_14: 0.1871 - dense_1_loss_15: 0.2041 - dense_1_loss_16: 0.2019 - dense_1_loss_17: 0.1896 - dense_1_loss_18: 0.1912 - dense_1_loss_19: 0.2005 - dense_1_loss_20: 0.2247 - dense_1_loss_21: 0.2303 - dense_1_loss_22: 0.2186 - dense_1_loss_23: 0.2232 - dense_1_loss_24: 0.1986 - dense_1_loss_25: 0.2245 - dense_1_loss_26: 0.2453 - dense_1_loss_27: 0.2235 - dense_1_loss_28: 0.2278 - dense_1_loss_29: 0.2643 - dense_1_loss_30: 0.0000e+00 - dense_1_acc_1: 0.1000 - dense_1_acc_2: 0.4167 - dense_1_acc_3: 0.7333 - dense_1_acc_4: 0.8667 - dense_1_acc_5: 0.9500 - dense_1_acc_6: 0.9667 - dense_1_acc_7: 0.9833 - dense_1_acc_8: 0.9833 - dense_1_acc_9: 0.9833 - dense_1_acc_10: 1.0000 - dense_1_acc_11: 1.0000 - dense_1_acc_12: 1.0000 - dense_1_acc_13: 1.0000 - dense_1_acc_14: 1.0000 - dense_1_acc_15: 1.0000 - dense_1_acc_16: 1.0000 - dense_1_acc_17: 1.0000 - dense_1_acc_18: 1.0000 - dense_1_acc_19: 1.0000 - dense_1_acc_20: 1.0000 - dense_1_acc_21: 1.0000 - dense_1_acc_22: 1.0000 - dense_1_acc_23: 1.0000 - dense_1_acc_24: 1.0000 - dense_1_acc_25: 1.0000 - dense_1_acc_26: 0.9833 - dense_1_acc_27: 1.0000 - dense_1_acc_28: 0.9833 - dense_1_acc_29: 0.9667 - dense_1_acc_30: 0.0000e+00     \n",
      "Epoch 46/100\n"
     ]
    },
    {
     "name": "stdout",
     "output_type": "stream",
     "text": [
      "60/60 [==============================] - 0s - loss: 13.1986 - dense_1_loss_1: 3.9435 - dense_1_loss_2: 2.2791 - dense_1_loss_3: 1.0885 - dense_1_loss_4: 0.5727 - dense_1_loss_5: 0.3965 - dense_1_loss_6: 0.3026 - dense_1_loss_7: 0.2494 - dense_1_loss_8: 0.2523 - dense_1_loss_9: 0.2423 - dense_1_loss_10: 0.1741 - dense_1_loss_11: 0.1880 - dense_1_loss_12: 0.1818 - dense_1_loss_13: 0.1713 - dense_1_loss_14: 0.1751 - dense_1_loss_15: 0.1881 - dense_1_loss_16: 0.1853 - dense_1_loss_17: 0.1717 - dense_1_loss_18: 0.1750 - dense_1_loss_19: 0.1822 - dense_1_loss_20: 0.2045 - dense_1_loss_21: 0.2117 - dense_1_loss_22: 0.1984 - dense_1_loss_23: 0.1989 - dense_1_loss_24: 0.1849 - dense_1_loss_25: 0.2070 - dense_1_loss_26: 0.2039 - dense_1_loss_27: 0.2056 - dense_1_loss_28: 0.2161 - dense_1_loss_29: 0.2482 - dense_1_loss_30: 0.0000e+00 - dense_1_acc_1: 0.1000 - dense_1_acc_2: 0.4167 - dense_1_acc_3: 0.7333 - dense_1_acc_4: 0.8833 - dense_1_acc_5: 0.9500 - dense_1_acc_6: 0.9667 - dense_1_acc_7: 0.9833 - dense_1_acc_8: 0.9833 - dense_1_acc_9: 0.9833 - dense_1_acc_10: 1.0000 - dense_1_acc_11: 1.0000 - dense_1_acc_12: 1.0000 - dense_1_acc_13: 1.0000 - dense_1_acc_14: 1.0000 - dense_1_acc_15: 1.0000 - dense_1_acc_16: 1.0000 - dense_1_acc_17: 1.0000 - dense_1_acc_18: 1.0000 - dense_1_acc_19: 1.0000 - dense_1_acc_20: 1.0000 - dense_1_acc_21: 1.0000 - dense_1_acc_22: 1.0000 - dense_1_acc_23: 1.0000 - dense_1_acc_24: 1.0000 - dense_1_acc_25: 1.0000 - dense_1_acc_26: 1.0000 - dense_1_acc_27: 0.9833 - dense_1_acc_28: 0.9833 - dense_1_acc_29: 0.9833 - dense_1_acc_30: 0.0000e+00     \n",
      "Epoch 47/100\n",
      "60/60 [==============================] - 0s - loss: 12.6761 - dense_1_loss_1: 3.9392 - dense_1_loss_2: 2.2374 - dense_1_loss_3: 1.0475 - dense_1_loss_4: 0.5369 - dense_1_loss_5: 0.3679 - dense_1_loss_6: 0.2804 - dense_1_loss_7: 0.2307 - dense_1_loss_8: 0.2363 - dense_1_loss_9: 0.2215 - dense_1_loss_10: 0.1605 - dense_1_loss_11: 0.1743 - dense_1_loss_12: 0.1684 - dense_1_loss_13: 0.1547 - dense_1_loss_14: 0.1616 - dense_1_loss_15: 0.1738 - dense_1_loss_16: 0.1653 - dense_1_loss_17: 0.1609 - dense_1_loss_18: 0.1626 - dense_1_loss_19: 0.1662 - dense_1_loss_20: 0.1866 - dense_1_loss_21: 0.1913 - dense_1_loss_22: 0.1849 - dense_1_loss_23: 0.1795 - dense_1_loss_24: 0.1664 - dense_1_loss_25: 0.1933 - dense_1_loss_26: 0.1842 - dense_1_loss_27: 0.1906 - dense_1_loss_28: 0.2047 - dense_1_loss_29: 0.2481 - dense_1_loss_30: 0.0000e+00 - dense_1_acc_1: 0.1000 - dense_1_acc_2: 0.4167 - dense_1_acc_3: 0.7500 - dense_1_acc_4: 0.9000 - dense_1_acc_5: 0.9667 - dense_1_acc_6: 0.9667 - dense_1_acc_7: 0.9833 - dense_1_acc_8: 0.9833 - dense_1_acc_9: 0.9833 - dense_1_acc_10: 1.0000 - dense_1_acc_11: 1.0000 - dense_1_acc_12: 1.0000 - dense_1_acc_13: 1.0000 - dense_1_acc_14: 1.0000 - dense_1_acc_15: 1.0000 - dense_1_acc_16: 1.0000 - dense_1_acc_17: 1.0000 - dense_1_acc_18: 1.0000 - dense_1_acc_19: 1.0000 - dense_1_acc_20: 1.0000 - dense_1_acc_21: 1.0000 - dense_1_acc_22: 1.0000 - dense_1_acc_23: 1.0000 - dense_1_acc_24: 1.0000 - dense_1_acc_25: 1.0000 - dense_1_acc_26: 1.0000 - dense_1_acc_27: 0.9833 - dense_1_acc_28: 0.9833 - dense_1_acc_29: 0.9833 - dense_1_acc_30: 0.0000e+00     \n",
      "Epoch 48/100\n",
      "60/60 [==============================] - 0s - loss: 12.1747 - dense_1_loss_1: 3.9347 - dense_1_loss_2: 2.1968 - dense_1_loss_3: 1.0104 - dense_1_loss_4: 0.5018 - dense_1_loss_5: 0.3416 - dense_1_loss_6: 0.2613 - dense_1_loss_7: 0.2117 - dense_1_loss_8: 0.2174 - dense_1_loss_9: 0.2042 - dense_1_loss_10: 0.1465 - dense_1_loss_11: 0.1625 - dense_1_loss_12: 0.1563 - dense_1_loss_13: 0.1429 - dense_1_loss_14: 0.1473 - dense_1_loss_15: 0.1611 - dense_1_loss_16: 0.1515 - dense_1_loss_17: 0.1508 - dense_1_loss_18: 0.1480 - dense_1_loss_19: 0.1555 - dense_1_loss_20: 0.1752 - dense_1_loss_21: 0.1735 - dense_1_loss_22: 0.1712 - dense_1_loss_23: 0.1695 - dense_1_loss_24: 0.1516 - dense_1_loss_25: 0.1773 - dense_1_loss_26: 0.1783 - dense_1_loss_27: 0.1771 - dense_1_loss_28: 0.1813 - dense_1_loss_29: 0.2174 - dense_1_loss_30: 0.0000e+00 - dense_1_acc_1: 0.1000 - dense_1_acc_2: 0.4333 - dense_1_acc_3: 0.7500 - dense_1_acc_4: 0.9167 - dense_1_acc_5: 0.9667 - dense_1_acc_6: 0.9667 - dense_1_acc_7: 0.9833 - dense_1_acc_8: 1.0000 - dense_1_acc_9: 0.9833 - dense_1_acc_10: 1.0000 - dense_1_acc_11: 1.0000 - dense_1_acc_12: 1.0000 - dense_1_acc_13: 1.0000 - dense_1_acc_14: 1.0000 - dense_1_acc_15: 1.0000 - dense_1_acc_16: 1.0000 - dense_1_acc_17: 1.0000 - dense_1_acc_18: 1.0000 - dense_1_acc_19: 1.0000 - dense_1_acc_20: 1.0000 - dense_1_acc_21: 1.0000 - dense_1_acc_22: 1.0000 - dense_1_acc_23: 1.0000 - dense_1_acc_24: 1.0000 - dense_1_acc_25: 1.0000 - dense_1_acc_26: 1.0000 - dense_1_acc_27: 1.0000 - dense_1_acc_28: 0.9833 - dense_1_acc_29: 0.9833 - dense_1_acc_30: 0.0000e+00     \n",
      "Epoch 49/100\n",
      "60/60 [==============================] - 0s - loss: 11.7216 - dense_1_loss_1: 3.9306 - dense_1_loss_2: 2.1583 - dense_1_loss_3: 0.9698 - dense_1_loss_4: 0.4729 - dense_1_loss_5: 0.3193 - dense_1_loss_6: 0.2472 - dense_1_loss_7: 0.1967 - dense_1_loss_8: 0.2007 - dense_1_loss_9: 0.1921 - dense_1_loss_10: 0.1333 - dense_1_loss_11: 0.1505 - dense_1_loss_12: 0.1432 - dense_1_loss_13: 0.1330 - dense_1_loss_14: 0.1363 - dense_1_loss_15: 0.1468 - dense_1_loss_16: 0.1400 - dense_1_loss_17: 0.1368 - dense_1_loss_18: 0.1360 - dense_1_loss_19: 0.1425 - dense_1_loss_20: 0.1591 - dense_1_loss_21: 0.1618 - dense_1_loss_22: 0.1577 - dense_1_loss_23: 0.1549 - dense_1_loss_24: 0.1380 - dense_1_loss_25: 0.1611 - dense_1_loss_26: 0.1649 - dense_1_loss_27: 0.1638 - dense_1_loss_28: 0.1698 - dense_1_loss_29: 0.2045 - dense_1_loss_30: 0.0000e+00 - dense_1_acc_1: 0.1000 - dense_1_acc_2: 0.4333 - dense_1_acc_3: 0.7667 - dense_1_acc_4: 0.9167 - dense_1_acc_5: 0.9833 - dense_1_acc_6: 0.9833 - dense_1_acc_7: 0.9833 - dense_1_acc_8: 1.0000 - dense_1_acc_9: 0.9833 - dense_1_acc_10: 1.0000 - dense_1_acc_11: 1.0000 - dense_1_acc_12: 1.0000 - dense_1_acc_13: 1.0000 - dense_1_acc_14: 1.0000 - dense_1_acc_15: 1.0000 - dense_1_acc_16: 1.0000 - dense_1_acc_17: 1.0000 - dense_1_acc_18: 1.0000 - dense_1_acc_19: 1.0000 - dense_1_acc_20: 1.0000 - dense_1_acc_21: 1.0000 - dense_1_acc_22: 1.0000 - dense_1_acc_23: 1.0000 - dense_1_acc_24: 1.0000 - dense_1_acc_25: 1.0000 - dense_1_acc_26: 1.0000 - dense_1_acc_27: 1.0000 - dense_1_acc_28: 0.9833 - dense_1_acc_29: 0.9833 - dense_1_acc_30: 0.0000e+00     \n",
      "Epoch 50/100\n",
      "60/60 [==============================] - 0s - loss: 11.3160 - dense_1_loss_1: 3.9262 - dense_1_loss_2: 2.1209 - dense_1_loss_3: 0.9346 - dense_1_loss_4: 0.4446 - dense_1_loss_5: 0.2977 - dense_1_loss_6: 0.2340 - dense_1_loss_7: 0.1818 - dense_1_loss_8: 0.1866 - dense_1_loss_9: 0.1791 - dense_1_loss_10: 0.1232 - dense_1_loss_11: 0.1374 - dense_1_loss_12: 0.1295 - dense_1_loss_13: 0.1243 - dense_1_loss_14: 0.1274 - dense_1_loss_15: 0.1359 - dense_1_loss_16: 0.1321 - dense_1_loss_17: 0.1252 - dense_1_loss_18: 0.1286 - dense_1_loss_19: 0.1282 - dense_1_loss_20: 0.1461 - dense_1_loss_21: 0.1521 - dense_1_loss_22: 0.1463 - dense_1_loss_23: 0.1419 - dense_1_loss_24: 0.1298 - dense_1_loss_25: 0.1485 - dense_1_loss_26: 0.1479 - dense_1_loss_27: 0.1502 - dense_1_loss_28: 0.1609 - dense_1_loss_29: 0.1951 - dense_1_loss_30: 0.0000e+00 - dense_1_acc_1: 0.1000 - dense_1_acc_2: 0.4333 - dense_1_acc_3: 0.7667 - dense_1_acc_4: 0.9333 - dense_1_acc_5: 0.9833 - dense_1_acc_6: 0.9833 - dense_1_acc_7: 0.9833 - dense_1_acc_8: 1.0000 - dense_1_acc_9: 0.9833 - dense_1_acc_10: 1.0000 - dense_1_acc_11: 1.0000 - dense_1_acc_12: 1.0000 - dense_1_acc_13: 1.0000 - dense_1_acc_14: 1.0000 - dense_1_acc_15: 1.0000 - dense_1_acc_16: 1.0000 - dense_1_acc_17: 1.0000 - dense_1_acc_18: 1.0000 - dense_1_acc_19: 1.0000 - dense_1_acc_20: 1.0000 - dense_1_acc_21: 1.0000 - dense_1_acc_22: 1.0000 - dense_1_acc_23: 1.0000 - dense_1_acc_24: 1.0000 - dense_1_acc_25: 1.0000 - dense_1_acc_26: 1.0000 - dense_1_acc_27: 1.0000 - dense_1_acc_28: 0.9833 - dense_1_acc_29: 0.9833 - dense_1_acc_30: 0.0000e+00     \n",
      "Epoch 51/100\n"
     ]
    },
    {
     "name": "stdout",
     "output_type": "stream",
     "text": [
      "60/60 [==============================] - 0s - loss: 10.9539 - dense_1_loss_1: 3.9219 - dense_1_loss_2: 2.0836 - dense_1_loss_3: 0.9025 - dense_1_loss_4: 0.4201 - dense_1_loss_5: 0.2790 - dense_1_loss_6: 0.2208 - dense_1_loss_7: 0.1703 - dense_1_loss_8: 0.1737 - dense_1_loss_9: 0.1686 - dense_1_loss_10: 0.1153 - dense_1_loss_11: 0.1260 - dense_1_loss_12: 0.1209 - dense_1_loss_13: 0.1155 - dense_1_loss_14: 0.1185 - dense_1_loss_15: 0.1268 - dense_1_loss_16: 0.1231 - dense_1_loss_17: 0.1166 - dense_1_loss_18: 0.1201 - dense_1_loss_19: 0.1177 - dense_1_loss_20: 0.1364 - dense_1_loss_21: 0.1427 - dense_1_loss_22: 0.1346 - dense_1_loss_23: 0.1294 - dense_1_loss_24: 0.1210 - dense_1_loss_25: 0.1380 - dense_1_loss_26: 0.1348 - dense_1_loss_27: 0.1394 - dense_1_loss_28: 0.1504 - dense_1_loss_29: 0.1861 - dense_1_loss_30: 0.0000e+00 - dense_1_acc_1: 0.1000 - dense_1_acc_2: 0.4333 - dense_1_acc_3: 0.7833 - dense_1_acc_4: 0.9500 - dense_1_acc_5: 0.9833 - dense_1_acc_6: 0.9833 - dense_1_acc_7: 0.9833 - dense_1_acc_8: 1.0000 - dense_1_acc_9: 0.9833 - dense_1_acc_10: 1.0000 - dense_1_acc_11: 1.0000 - dense_1_acc_12: 1.0000 - dense_1_acc_13: 1.0000 - dense_1_acc_14: 1.0000 - dense_1_acc_15: 1.0000 - dense_1_acc_16: 1.0000 - dense_1_acc_17: 1.0000 - dense_1_acc_18: 1.0000 - dense_1_acc_19: 1.0000 - dense_1_acc_20: 1.0000 - dense_1_acc_21: 1.0000 - dense_1_acc_22: 1.0000 - dense_1_acc_23: 1.0000 - dense_1_acc_24: 1.0000 - dense_1_acc_25: 1.0000 - dense_1_acc_26: 1.0000 - dense_1_acc_27: 1.0000 - dense_1_acc_28: 0.9833 - dense_1_acc_29: 0.9833 - dense_1_acc_30: 0.0000e+00     \n",
      "Epoch 52/100\n",
      "60/60 [==============================] - 0s - loss: 10.6060 - dense_1_loss_1: 3.9181 - dense_1_loss_2: 2.0484 - dense_1_loss_3: 0.8714 - dense_1_loss_4: 0.3957 - dense_1_loss_5: 0.2614 - dense_1_loss_6: 0.2091 - dense_1_loss_7: 0.1579 - dense_1_loss_8: 0.1627 - dense_1_loss_9: 0.1572 - dense_1_loss_10: 0.1069 - dense_1_loss_11: 0.1180 - dense_1_loss_12: 0.1135 - dense_1_loss_13: 0.1055 - dense_1_loss_14: 0.1092 - dense_1_loss_15: 0.1179 - dense_1_loss_16: 0.1144 - dense_1_loss_17: 0.1088 - dense_1_loss_18: 0.1101 - dense_1_loss_19: 0.1111 - dense_1_loss_20: 0.1280 - dense_1_loss_21: 0.1313 - dense_1_loss_22: 0.1244 - dense_1_loss_23: 0.1216 - dense_1_loss_24: 0.1118 - dense_1_loss_25: 0.1276 - dense_1_loss_26: 0.1286 - dense_1_loss_27: 0.1340 - dense_1_loss_28: 0.1354 - dense_1_loss_29: 0.1659 - dense_1_loss_30: 0.0000e+00 - dense_1_acc_1: 0.1000 - dense_1_acc_2: 0.4500 - dense_1_acc_3: 0.8167 - dense_1_acc_4: 0.9500 - dense_1_acc_5: 0.9833 - dense_1_acc_6: 0.9833 - dense_1_acc_7: 0.9833 - dense_1_acc_8: 1.0000 - dense_1_acc_9: 0.9833 - dense_1_acc_10: 1.0000 - dense_1_acc_11: 1.0000 - dense_1_acc_12: 1.0000 - dense_1_acc_13: 1.0000 - dense_1_acc_14: 1.0000 - dense_1_acc_15: 1.0000 - dense_1_acc_16: 1.0000 - dense_1_acc_17: 1.0000 - dense_1_acc_18: 1.0000 - dense_1_acc_19: 1.0000 - dense_1_acc_20: 1.0000 - dense_1_acc_21: 1.0000 - dense_1_acc_22: 1.0000 - dense_1_acc_23: 1.0000 - dense_1_acc_24: 1.0000 - dense_1_acc_25: 1.0000 - dense_1_acc_26: 1.0000 - dense_1_acc_27: 1.0000 - dense_1_acc_28: 0.9833 - dense_1_acc_29: 0.9833 - dense_1_acc_30: 0.0000e+00    \n",
      "Epoch 53/100\n",
      "60/60 [==============================] - 0s - loss: 10.3017 - dense_1_loss_1: 3.9140 - dense_1_loss_2: 2.0131 - dense_1_loss_3: 0.8419 - dense_1_loss_4: 0.3730 - dense_1_loss_5: 0.2466 - dense_1_loss_6: 0.1973 - dense_1_loss_7: 0.1480 - dense_1_loss_8: 0.1527 - dense_1_loss_9: 0.1467 - dense_1_loss_10: 0.0996 - dense_1_loss_11: 0.1107 - dense_1_loss_12: 0.1064 - dense_1_loss_13: 0.0977 - dense_1_loss_14: 0.1018 - dense_1_loss_15: 0.1102 - dense_1_loss_16: 0.1052 - dense_1_loss_17: 0.1013 - dense_1_loss_18: 0.1033 - dense_1_loss_19: 0.1058 - dense_1_loss_20: 0.1178 - dense_1_loss_21: 0.1224 - dense_1_loss_22: 0.1173 - dense_1_loss_23: 0.1136 - dense_1_loss_24: 0.1044 - dense_1_loss_25: 0.1189 - dense_1_loss_26: 0.1201 - dense_1_loss_27: 0.1263 - dense_1_loss_28: 0.1279 - dense_1_loss_29: 0.1579 - dense_1_loss_30: 0.0000e+00 - dense_1_acc_1: 0.1000 - dense_1_acc_2: 0.4500 - dense_1_acc_3: 0.8333 - dense_1_acc_4: 0.9500 - dense_1_acc_5: 0.9833 - dense_1_acc_6: 0.9833 - dense_1_acc_7: 0.9833 - dense_1_acc_8: 1.0000 - dense_1_acc_9: 0.9833 - dense_1_acc_10: 1.0000 - dense_1_acc_11: 1.0000 - dense_1_acc_12: 1.0000 - dense_1_acc_13: 1.0000 - dense_1_acc_14: 1.0000 - dense_1_acc_15: 1.0000 - dense_1_acc_16: 1.0000 - dense_1_acc_17: 1.0000 - dense_1_acc_18: 1.0000 - dense_1_acc_19: 1.0000 - dense_1_acc_20: 1.0000 - dense_1_acc_21: 1.0000 - dense_1_acc_22: 1.0000 - dense_1_acc_23: 1.0000 - dense_1_acc_24: 1.0000 - dense_1_acc_25: 1.0000 - dense_1_acc_26: 1.0000 - dense_1_acc_27: 1.0000 - dense_1_acc_28: 1.0000 - dense_1_acc_29: 0.9833 - dense_1_acc_30: 0.0000e+00     \n",
      "Epoch 54/100\n",
      "60/60 [==============================] - 0s - loss: 10.0196 - dense_1_loss_1: 3.9102 - dense_1_loss_2: 1.9800 - dense_1_loss_3: 0.8134 - dense_1_loss_4: 0.3518 - dense_1_loss_5: 0.2318 - dense_1_loss_6: 0.1861 - dense_1_loss_7: 0.1384 - dense_1_loss_8: 0.1431 - dense_1_loss_9: 0.1362 - dense_1_loss_10: 0.0935 - dense_1_loss_11: 0.1034 - dense_1_loss_12: 0.0999 - dense_1_loss_13: 0.0925 - dense_1_loss_14: 0.0951 - dense_1_loss_15: 0.1032 - dense_1_loss_16: 0.0977 - dense_1_loss_17: 0.0945 - dense_1_loss_18: 0.0976 - dense_1_loss_19: 0.0992 - dense_1_loss_20: 0.1088 - dense_1_loss_21: 0.1145 - dense_1_loss_22: 0.1110 - dense_1_loss_23: 0.1070 - dense_1_loss_24: 0.0969 - dense_1_loss_25: 0.1110 - dense_1_loss_26: 0.1118 - dense_1_loss_27: 0.1177 - dense_1_loss_28: 0.1220 - dense_1_loss_29: 0.1514 - dense_1_loss_30: 0.0000e+00 - dense_1_acc_1: 0.1000 - dense_1_acc_2: 0.4500 - dense_1_acc_3: 0.8333 - dense_1_acc_4: 0.9500 - dense_1_acc_5: 0.9833 - dense_1_acc_6: 0.9833 - dense_1_acc_7: 1.0000 - dense_1_acc_8: 1.0000 - dense_1_acc_9: 0.9833 - dense_1_acc_10: 1.0000 - dense_1_acc_11: 1.0000 - dense_1_acc_12: 1.0000 - dense_1_acc_13: 1.0000 - dense_1_acc_14: 1.0000 - dense_1_acc_15: 1.0000 - dense_1_acc_16: 1.0000 - dense_1_acc_17: 1.0000 - dense_1_acc_18: 1.0000 - dense_1_acc_19: 1.0000 - dense_1_acc_20: 1.0000 - dense_1_acc_21: 1.0000 - dense_1_acc_22: 1.0000 - dense_1_acc_23: 1.0000 - dense_1_acc_24: 1.0000 - dense_1_acc_25: 1.0000 - dense_1_acc_26: 1.0000 - dense_1_acc_27: 1.0000 - dense_1_acc_28: 1.0000 - dense_1_acc_29: 0.9833 - dense_1_acc_30: 0.0000e+00    \n",
      "Epoch 55/100\n",
      "60/60 [==============================] - 0s - loss: 9.7601 - dense_1_loss_1: 3.9062 - dense_1_loss_2: 1.9467 - dense_1_loss_3: 0.7869 - dense_1_loss_4: 0.3347 - dense_1_loss_5: 0.2197 - dense_1_loss_6: 0.1764 - dense_1_loss_7: 0.1316 - dense_1_loss_8: 0.1359 - dense_1_loss_9: 0.1283 - dense_1_loss_10: 0.0886 - dense_1_loss_11: 0.0968 - dense_1_loss_12: 0.0936 - dense_1_loss_13: 0.0882 - dense_1_loss_14: 0.0896 - dense_1_loss_15: 0.0967 - dense_1_loss_16: 0.0917 - dense_1_loss_17: 0.0889 - dense_1_loss_18: 0.0925 - dense_1_loss_19: 0.0906 - dense_1_loss_20: 0.1031 - dense_1_loss_21: 0.1064 - dense_1_loss_22: 0.1034 - dense_1_loss_23: 0.0992 - dense_1_loss_24: 0.0911 - dense_1_loss_25: 0.1044 - dense_1_loss_26: 0.1051 - dense_1_loss_27: 0.1091 - dense_1_loss_28: 0.1144 - dense_1_loss_29: 0.1404 - dense_1_loss_30: 0.0000e+00 - dense_1_acc_1: 0.1000 - dense_1_acc_2: 0.4500 - dense_1_acc_3: 0.8500 - dense_1_acc_4: 0.9500 - dense_1_acc_5: 0.9833 - dense_1_acc_6: 0.9833 - dense_1_acc_7: 1.0000 - dense_1_acc_8: 1.0000 - dense_1_acc_9: 1.0000 - dense_1_acc_10: 1.0000 - dense_1_acc_11: 1.0000 - dense_1_acc_12: 1.0000 - dense_1_acc_13: 1.0000 - dense_1_acc_14: 1.0000 - dense_1_acc_15: 1.0000 - dense_1_acc_16: 1.0000 - dense_1_acc_17: 1.0000 - dense_1_acc_18: 1.0000 - dense_1_acc_19: 1.0000 - dense_1_acc_20: 1.0000 - dense_1_acc_21: 1.0000 - dense_1_acc_22: 1.0000 - dense_1_acc_23: 1.0000 - dense_1_acc_24: 1.0000 - dense_1_acc_25: 1.0000 - dense_1_acc_26: 1.0000 - dense_1_acc_27: 1.0000 - dense_1_acc_28: 1.0000 - dense_1_acc_29: 0.9833 - dense_1_acc_30: 0.0000e+00      \n",
      "Epoch 56/100\n"
     ]
    },
    {
     "name": "stdout",
     "output_type": "stream",
     "text": [
      "60/60 [==============================] - 0s - loss: 9.5177 - dense_1_loss_1: 3.9026 - dense_1_loss_2: 1.9170 - dense_1_loss_3: 0.7615 - dense_1_loss_4: 0.3171 - dense_1_loss_5: 0.2067 - dense_1_loss_6: 0.1668 - dense_1_loss_7: 0.1241 - dense_1_loss_8: 0.1270 - dense_1_loss_9: 0.1209 - dense_1_loss_10: 0.0841 - dense_1_loss_11: 0.0899 - dense_1_loss_12: 0.0886 - dense_1_loss_13: 0.0835 - dense_1_loss_14: 0.0849 - dense_1_loss_15: 0.0906 - dense_1_loss_16: 0.0874 - dense_1_loss_17: 0.0839 - dense_1_loss_18: 0.0869 - dense_1_loss_19: 0.0852 - dense_1_loss_20: 0.0976 - dense_1_loss_21: 0.0993 - dense_1_loss_22: 0.0968 - dense_1_loss_23: 0.0937 - dense_1_loss_24: 0.0848 - dense_1_loss_25: 0.0983 - dense_1_loss_26: 0.1006 - dense_1_loss_27: 0.1014 - dense_1_loss_28: 0.1067 - dense_1_loss_29: 0.1295 - dense_1_loss_30: 0.0000e+00 - dense_1_acc_1: 0.1000 - dense_1_acc_2: 0.4500 - dense_1_acc_3: 0.8667 - dense_1_acc_4: 0.9667 - dense_1_acc_5: 0.9833 - dense_1_acc_6: 1.0000 - dense_1_acc_7: 1.0000 - dense_1_acc_8: 1.0000 - dense_1_acc_9: 1.0000 - dense_1_acc_10: 1.0000 - dense_1_acc_11: 1.0000 - dense_1_acc_12: 1.0000 - dense_1_acc_13: 1.0000 - dense_1_acc_14: 1.0000 - dense_1_acc_15: 1.0000 - dense_1_acc_16: 1.0000 - dense_1_acc_17: 1.0000 - dense_1_acc_18: 1.0000 - dense_1_acc_19: 1.0000 - dense_1_acc_20: 1.0000 - dense_1_acc_21: 1.0000 - dense_1_acc_22: 1.0000 - dense_1_acc_23: 1.0000 - dense_1_acc_24: 1.0000 - dense_1_acc_25: 1.0000 - dense_1_acc_26: 1.0000 - dense_1_acc_27: 1.0000 - dense_1_acc_28: 1.0000 - dense_1_acc_29: 0.9833 - dense_1_acc_30: 0.0000e+00     \n",
      "Epoch 57/100\n",
      "60/60 [==============================] - 0s - loss: 9.3012 - dense_1_loss_1: 3.8988 - dense_1_loss_2: 1.8865 - dense_1_loss_3: 0.7388 - dense_1_loss_4: 0.3022 - dense_1_loss_5: 0.1965 - dense_1_loss_6: 0.1592 - dense_1_loss_7: 0.1172 - dense_1_loss_8: 0.1194 - dense_1_loss_9: 0.1152 - dense_1_loss_10: 0.0788 - dense_1_loss_11: 0.0852 - dense_1_loss_12: 0.0842 - dense_1_loss_13: 0.0780 - dense_1_loss_14: 0.0812 - dense_1_loss_15: 0.0847 - dense_1_loss_16: 0.0832 - dense_1_loss_17: 0.0796 - dense_1_loss_18: 0.0814 - dense_1_loss_19: 0.0806 - dense_1_loss_20: 0.0918 - dense_1_loss_21: 0.0937 - dense_1_loss_22: 0.0910 - dense_1_loss_23: 0.0895 - dense_1_loss_24: 0.0796 - dense_1_loss_25: 0.0925 - dense_1_loss_26: 0.0945 - dense_1_loss_27: 0.0957 - dense_1_loss_28: 0.1010 - dense_1_loss_29: 0.1211 - dense_1_loss_30: 0.0000e+00 - dense_1_acc_1: 0.1000 - dense_1_acc_2: 0.4500 - dense_1_acc_3: 0.8667 - dense_1_acc_4: 0.9667 - dense_1_acc_5: 0.9833 - dense_1_acc_6: 1.0000 - dense_1_acc_7: 1.0000 - dense_1_acc_8: 1.0000 - dense_1_acc_9: 1.0000 - dense_1_acc_10: 1.0000 - dense_1_acc_11: 1.0000 - dense_1_acc_12: 1.0000 - dense_1_acc_13: 1.0000 - dense_1_acc_14: 1.0000 - dense_1_acc_15: 1.0000 - dense_1_acc_16: 1.0000 - dense_1_acc_17: 1.0000 - dense_1_acc_18: 1.0000 - dense_1_acc_19: 1.0000 - dense_1_acc_20: 1.0000 - dense_1_acc_21: 1.0000 - dense_1_acc_22: 1.0000 - dense_1_acc_23: 1.0000 - dense_1_acc_24: 1.0000 - dense_1_acc_25: 1.0000 - dense_1_acc_26: 1.0000 - dense_1_acc_27: 1.0000 - dense_1_acc_28: 1.0000 - dense_1_acc_29: 0.9833 - dense_1_acc_30: 0.0000e+00     \n",
      "Epoch 58/100\n",
      "60/60 [==============================] - 0s - loss: 9.0938 - dense_1_loss_1: 3.8950 - dense_1_loss_2: 1.8572 - dense_1_loss_3: 0.7184 - dense_1_loss_4: 0.2873 - dense_1_loss_5: 0.1872 - dense_1_loss_6: 0.1522 - dense_1_loss_7: 0.1099 - dense_1_loss_8: 0.1115 - dense_1_loss_9: 0.1092 - dense_1_loss_10: 0.0734 - dense_1_loss_11: 0.0806 - dense_1_loss_12: 0.0794 - dense_1_loss_13: 0.0728 - dense_1_loss_14: 0.0773 - dense_1_loss_15: 0.0794 - dense_1_loss_16: 0.0789 - dense_1_loss_17: 0.0751 - dense_1_loss_18: 0.0765 - dense_1_loss_19: 0.0763 - dense_1_loss_20: 0.0855 - dense_1_loss_21: 0.0887 - dense_1_loss_22: 0.0857 - dense_1_loss_23: 0.0842 - dense_1_loss_24: 0.0752 - dense_1_loss_25: 0.0866 - dense_1_loss_26: 0.0870 - dense_1_loss_27: 0.0911 - dense_1_loss_28: 0.0964 - dense_1_loss_29: 0.1159 - dense_1_loss_30: 0.0000e+00 - dense_1_acc_1: 0.1000 - dense_1_acc_2: 0.4833 - dense_1_acc_3: 0.8667 - dense_1_acc_4: 0.9667 - dense_1_acc_5: 0.9833 - dense_1_acc_6: 1.0000 - dense_1_acc_7: 1.0000 - dense_1_acc_8: 1.0000 - dense_1_acc_9: 1.0000 - dense_1_acc_10: 1.0000 - dense_1_acc_11: 1.0000 - dense_1_acc_12: 1.0000 - dense_1_acc_13: 1.0000 - dense_1_acc_14: 1.0000 - dense_1_acc_15: 1.0000 - dense_1_acc_16: 1.0000 - dense_1_acc_17: 1.0000 - dense_1_acc_18: 1.0000 - dense_1_acc_19: 1.0000 - dense_1_acc_20: 1.0000 - dense_1_acc_21: 1.0000 - dense_1_acc_22: 1.0000 - dense_1_acc_23: 1.0000 - dense_1_acc_24: 1.0000 - dense_1_acc_25: 1.0000 - dense_1_acc_26: 1.0000 - dense_1_acc_27: 1.0000 - dense_1_acc_28: 1.0000 - dense_1_acc_29: 0.9833 - dense_1_acc_30: 0.0000e+00     \n",
      "Epoch 59/100\n",
      "60/60 [==============================] - 0s - loss: 8.9028 - dense_1_loss_1: 3.8917 - dense_1_loss_2: 1.8297 - dense_1_loss_3: 0.6966 - dense_1_loss_4: 0.2742 - dense_1_loss_5: 0.1776 - dense_1_loss_6: 0.1453 - dense_1_loss_7: 0.1040 - dense_1_loss_8: 0.1050 - dense_1_loss_9: 0.1036 - dense_1_loss_10: 0.0691 - dense_1_loss_11: 0.0760 - dense_1_loss_12: 0.0748 - dense_1_loss_13: 0.0690 - dense_1_loss_14: 0.0727 - dense_1_loss_15: 0.0755 - dense_1_loss_16: 0.0745 - dense_1_loss_17: 0.0708 - dense_1_loss_18: 0.0728 - dense_1_loss_19: 0.0718 - dense_1_loss_20: 0.0804 - dense_1_loss_21: 0.0843 - dense_1_loss_22: 0.0808 - dense_1_loss_23: 0.0795 - dense_1_loss_24: 0.0714 - dense_1_loss_25: 0.0815 - dense_1_loss_26: 0.0818 - dense_1_loss_27: 0.0869 - dense_1_loss_28: 0.0914 - dense_1_loss_29: 0.1100 - dense_1_loss_30: 0.0000e+00 - dense_1_acc_1: 0.0500 - dense_1_acc_2: 0.5167 - dense_1_acc_3: 0.8667 - dense_1_acc_4: 0.9667 - dense_1_acc_5: 0.9833 - dense_1_acc_6: 1.0000 - dense_1_acc_7: 1.0000 - dense_1_acc_8: 1.0000 - dense_1_acc_9: 1.0000 - dense_1_acc_10: 1.0000 - dense_1_acc_11: 1.0000 - dense_1_acc_12: 1.0000 - dense_1_acc_13: 1.0000 - dense_1_acc_14: 1.0000 - dense_1_acc_15: 1.0000 - dense_1_acc_16: 1.0000 - dense_1_acc_17: 1.0000 - dense_1_acc_18: 1.0000 - dense_1_acc_19: 1.0000 - dense_1_acc_20: 1.0000 - dense_1_acc_21: 1.0000 - dense_1_acc_22: 1.0000 - dense_1_acc_23: 1.0000 - dense_1_acc_24: 1.0000 - dense_1_acc_25: 1.0000 - dense_1_acc_26: 1.0000 - dense_1_acc_27: 1.0000 - dense_1_acc_28: 1.0000 - dense_1_acc_29: 0.9833 - dense_1_acc_30: 0.0000e+00     \n",
      "Epoch 60/100\n",
      "60/60 [==============================] - 0s - loss: 8.7280 - dense_1_loss_1: 3.8880 - dense_1_loss_2: 1.8026 - dense_1_loss_3: 0.6771 - dense_1_loss_4: 0.2621 - dense_1_loss_5: 0.1691 - dense_1_loss_6: 0.1380 - dense_1_loss_7: 0.0992 - dense_1_loss_8: 0.0993 - dense_1_loss_9: 0.0980 - dense_1_loss_10: 0.0659 - dense_1_loss_11: 0.0712 - dense_1_loss_12: 0.0706 - dense_1_loss_13: 0.0656 - dense_1_loss_14: 0.0680 - dense_1_loss_15: 0.0722 - dense_1_loss_16: 0.0705 - dense_1_loss_17: 0.0675 - dense_1_loss_18: 0.0693 - dense_1_loss_19: 0.0678 - dense_1_loss_20: 0.0765 - dense_1_loss_21: 0.0803 - dense_1_loss_22: 0.0766 - dense_1_loss_23: 0.0752 - dense_1_loss_24: 0.0676 - dense_1_loss_25: 0.0771 - dense_1_loss_26: 0.0793 - dense_1_loss_27: 0.0828 - dense_1_loss_28: 0.0868 - dense_1_loss_29: 0.1040 - dense_1_loss_30: 0.0000e+00 - dense_1_acc_1: 0.0500 - dense_1_acc_2: 0.5167 - dense_1_acc_3: 0.8667 - dense_1_acc_4: 0.9667 - dense_1_acc_5: 0.9833 - dense_1_acc_6: 1.0000 - dense_1_acc_7: 1.0000 - dense_1_acc_8: 1.0000 - dense_1_acc_9: 1.0000 - dense_1_acc_10: 1.0000 - dense_1_acc_11: 1.0000 - dense_1_acc_12: 1.0000 - dense_1_acc_13: 1.0000 - dense_1_acc_14: 1.0000 - dense_1_acc_15: 1.0000 - dense_1_acc_16: 1.0000 - dense_1_acc_17: 1.0000 - dense_1_acc_18: 1.0000 - dense_1_acc_19: 1.0000 - dense_1_acc_20: 1.0000 - dense_1_acc_21: 1.0000 - dense_1_acc_22: 1.0000 - dense_1_acc_23: 1.0000 - dense_1_acc_24: 1.0000 - dense_1_acc_25: 1.0000 - dense_1_acc_26: 1.0000 - dense_1_acc_27: 1.0000 - dense_1_acc_28: 1.0000 - dense_1_acc_29: 0.9833 - dense_1_acc_30: 0.0000e+00     \n",
      "Epoch 61/100\n"
     ]
    },
    {
     "name": "stdout",
     "output_type": "stream",
     "text": [
      "60/60 [==============================] - 0s - loss: 8.5656 - dense_1_loss_1: 3.8844 - dense_1_loss_2: 1.7774 - dense_1_loss_3: 0.6587 - dense_1_loss_4: 0.2498 - dense_1_loss_5: 0.1618 - dense_1_loss_6: 0.1321 - dense_1_loss_7: 0.0953 - dense_1_loss_8: 0.0950 - dense_1_loss_9: 0.0939 - dense_1_loss_10: 0.0631 - dense_1_loss_11: 0.0672 - dense_1_loss_12: 0.0672 - dense_1_loss_13: 0.0628 - dense_1_loss_14: 0.0639 - dense_1_loss_15: 0.0689 - dense_1_loss_16: 0.0670 - dense_1_loss_17: 0.0645 - dense_1_loss_18: 0.0660 - dense_1_loss_19: 0.0638 - dense_1_loss_20: 0.0729 - dense_1_loss_21: 0.0754 - dense_1_loss_22: 0.0728 - dense_1_loss_23: 0.0716 - dense_1_loss_24: 0.0639 - dense_1_loss_25: 0.0734 - dense_1_loss_26: 0.0761 - dense_1_loss_27: 0.0789 - dense_1_loss_28: 0.0809 - dense_1_loss_29: 0.0970 - dense_1_loss_30: 0.0000e+00 - dense_1_acc_1: 0.0500 - dense_1_acc_2: 0.5167 - dense_1_acc_3: 0.8667 - dense_1_acc_4: 0.9667 - dense_1_acc_5: 0.9833 - dense_1_acc_6: 1.0000 - dense_1_acc_7: 1.0000 - dense_1_acc_8: 1.0000 - dense_1_acc_9: 1.0000 - dense_1_acc_10: 1.0000 - dense_1_acc_11: 1.0000 - dense_1_acc_12: 1.0000 - dense_1_acc_13: 1.0000 - dense_1_acc_14: 1.0000 - dense_1_acc_15: 1.0000 - dense_1_acc_16: 1.0000 - dense_1_acc_17: 1.0000 - dense_1_acc_18: 1.0000 - dense_1_acc_19: 1.0000 - dense_1_acc_20: 1.0000 - dense_1_acc_21: 1.0000 - dense_1_acc_22: 1.0000 - dense_1_acc_23: 1.0000 - dense_1_acc_24: 1.0000 - dense_1_acc_25: 1.0000 - dense_1_acc_26: 1.0000 - dense_1_acc_27: 1.0000 - dense_1_acc_28: 1.0000 - dense_1_acc_29: 0.9833 - dense_1_acc_30: 0.0000e+00     \n",
      "Epoch 62/100\n",
      "60/60 [==============================] - 0s - loss: 8.4158 - dense_1_loss_1: 3.8808 - dense_1_loss_2: 1.7513 - dense_1_loss_3: 0.6412 - dense_1_loss_4: 0.2405 - dense_1_loss_5: 0.1543 - dense_1_loss_6: 0.1260 - dense_1_loss_7: 0.0913 - dense_1_loss_8: 0.0905 - dense_1_loss_9: 0.0892 - dense_1_loss_10: 0.0604 - dense_1_loss_11: 0.0643 - dense_1_loss_12: 0.0642 - dense_1_loss_13: 0.0600 - dense_1_loss_14: 0.0612 - dense_1_loss_15: 0.0654 - dense_1_loss_16: 0.0639 - dense_1_loss_17: 0.0615 - dense_1_loss_18: 0.0633 - dense_1_loss_19: 0.0607 - dense_1_loss_20: 0.0693 - dense_1_loss_21: 0.0712 - dense_1_loss_22: 0.0694 - dense_1_loss_23: 0.0679 - dense_1_loss_24: 0.0607 - dense_1_loss_25: 0.0698 - dense_1_loss_26: 0.0714 - dense_1_loss_27: 0.0753 - dense_1_loss_28: 0.0776 - dense_1_loss_29: 0.0933 - dense_1_loss_30: 0.0000e+00 - dense_1_acc_1: 0.0500 - dense_1_acc_2: 0.5167 - dense_1_acc_3: 0.8667 - dense_1_acc_4: 0.9667 - dense_1_acc_5: 1.0000 - dense_1_acc_6: 1.0000 - dense_1_acc_7: 1.0000 - dense_1_acc_8: 1.0000 - dense_1_acc_9: 1.0000 - dense_1_acc_10: 1.0000 - dense_1_acc_11: 1.0000 - dense_1_acc_12: 1.0000 - dense_1_acc_13: 1.0000 - dense_1_acc_14: 1.0000 - dense_1_acc_15: 1.0000 - dense_1_acc_16: 1.0000 - dense_1_acc_17: 1.0000 - dense_1_acc_18: 1.0000 - dense_1_acc_19: 1.0000 - dense_1_acc_20: 1.0000 - dense_1_acc_21: 1.0000 - dense_1_acc_22: 1.0000 - dense_1_acc_23: 1.0000 - dense_1_acc_24: 1.0000 - dense_1_acc_25: 1.0000 - dense_1_acc_26: 1.0000 - dense_1_acc_27: 1.0000 - dense_1_acc_28: 1.0000 - dense_1_acc_29: 0.9833 - dense_1_acc_30: 0.0000e+00     \n",
      "Epoch 63/100\n",
      "60/60 [==============================] - 0s - loss: 8.2749 - dense_1_loss_1: 3.8775 - dense_1_loss_2: 1.7275 - dense_1_loss_3: 0.6248 - dense_1_loss_4: 0.2307 - dense_1_loss_5: 0.1475 - dense_1_loss_6: 0.1210 - dense_1_loss_7: 0.0874 - dense_1_loss_8: 0.0860 - dense_1_loss_9: 0.0848 - dense_1_loss_10: 0.0572 - dense_1_loss_11: 0.0620 - dense_1_loss_12: 0.0614 - dense_1_loss_13: 0.0570 - dense_1_loss_14: 0.0592 - dense_1_loss_15: 0.0618 - dense_1_loss_16: 0.0610 - dense_1_loss_17: 0.0586 - dense_1_loss_18: 0.0603 - dense_1_loss_19: 0.0580 - dense_1_loss_20: 0.0654 - dense_1_loss_21: 0.0677 - dense_1_loss_22: 0.0661 - dense_1_loss_23: 0.0643 - dense_1_loss_24: 0.0578 - dense_1_loss_25: 0.0666 - dense_1_loss_26: 0.0659 - dense_1_loss_27: 0.0722 - dense_1_loss_28: 0.0753 - dense_1_loss_29: 0.0899 - dense_1_loss_30: 0.0000e+00 - dense_1_acc_1: 0.0500 - dense_1_acc_2: 0.5500 - dense_1_acc_3: 0.8667 - dense_1_acc_4: 0.9667 - dense_1_acc_5: 1.0000 - dense_1_acc_6: 1.0000 - dense_1_acc_7: 1.0000 - dense_1_acc_8: 1.0000 - dense_1_acc_9: 1.0000 - dense_1_acc_10: 1.0000 - dense_1_acc_11: 1.0000 - dense_1_acc_12: 1.0000 - dense_1_acc_13: 1.0000 - dense_1_acc_14: 1.0000 - dense_1_acc_15: 1.0000 - dense_1_acc_16: 1.0000 - dense_1_acc_17: 1.0000 - dense_1_acc_18: 1.0000 - dense_1_acc_19: 1.0000 - dense_1_acc_20: 1.0000 - dense_1_acc_21: 1.0000 - dense_1_acc_22: 1.0000 - dense_1_acc_23: 1.0000 - dense_1_acc_24: 1.0000 - dense_1_acc_25: 1.0000 - dense_1_acc_26: 1.0000 - dense_1_acc_27: 1.0000 - dense_1_acc_28: 1.0000 - dense_1_acc_29: 1.0000 - dense_1_acc_30: 0.0000e+00     \n",
      "Epoch 64/100\n",
      "60/60 [==============================] - 0s - loss: 8.1410 - dense_1_loss_1: 3.8740 - dense_1_loss_2: 1.7045 - dense_1_loss_3: 0.6084 - dense_1_loss_4: 0.2220 - dense_1_loss_5: 0.1411 - dense_1_loss_6: 0.1161 - dense_1_loss_7: 0.0835 - dense_1_loss_8: 0.0817 - dense_1_loss_9: 0.0804 - dense_1_loss_10: 0.0543 - dense_1_loss_11: 0.0597 - dense_1_loss_12: 0.0585 - dense_1_loss_13: 0.0543 - dense_1_loss_14: 0.0570 - dense_1_loss_15: 0.0590 - dense_1_loss_16: 0.0586 - dense_1_loss_17: 0.0556 - dense_1_loss_18: 0.0575 - dense_1_loss_19: 0.0557 - dense_1_loss_20: 0.0626 - dense_1_loss_21: 0.0643 - dense_1_loss_22: 0.0629 - dense_1_loss_23: 0.0616 - dense_1_loss_24: 0.0550 - dense_1_loss_25: 0.0636 - dense_1_loss_26: 0.0631 - dense_1_loss_27: 0.0696 - dense_1_loss_28: 0.0718 - dense_1_loss_29: 0.0849 - dense_1_loss_30: 0.0000e+00 - dense_1_acc_1: 0.0500 - dense_1_acc_2: 0.5667 - dense_1_acc_3: 0.8667 - dense_1_acc_4: 0.9667 - dense_1_acc_5: 1.0000 - dense_1_acc_6: 1.0000 - dense_1_acc_7: 1.0000 - dense_1_acc_8: 1.0000 - dense_1_acc_9: 1.0000 - dense_1_acc_10: 1.0000 - dense_1_acc_11: 1.0000 - dense_1_acc_12: 1.0000 - dense_1_acc_13: 1.0000 - dense_1_acc_14: 1.0000 - dense_1_acc_15: 1.0000 - dense_1_acc_16: 1.0000 - dense_1_acc_17: 1.0000 - dense_1_acc_18: 1.0000 - dense_1_acc_19: 1.0000 - dense_1_acc_20: 1.0000 - dense_1_acc_21: 1.0000 - dense_1_acc_22: 1.0000 - dense_1_acc_23: 1.0000 - dense_1_acc_24: 1.0000 - dense_1_acc_25: 1.0000 - dense_1_acc_26: 1.0000 - dense_1_acc_27: 1.0000 - dense_1_acc_28: 1.0000 - dense_1_acc_29: 1.0000 - dense_1_acc_30: 0.0000e+00     \n",
      "Epoch 65/100\n",
      "60/60 [==============================] - 0s - loss: 8.0169 - dense_1_loss_1: 3.8708 - dense_1_loss_2: 1.6811 - dense_1_loss_3: 0.5940 - dense_1_loss_4: 0.2132 - dense_1_loss_5: 0.1357 - dense_1_loss_6: 0.1117 - dense_1_loss_7: 0.0803 - dense_1_loss_8: 0.0778 - dense_1_loss_9: 0.0770 - dense_1_loss_10: 0.0519 - dense_1_loss_11: 0.0574 - dense_1_loss_12: 0.0560 - dense_1_loss_13: 0.0518 - dense_1_loss_14: 0.0545 - dense_1_loss_15: 0.0565 - dense_1_loss_16: 0.0560 - dense_1_loss_17: 0.0532 - dense_1_loss_18: 0.0549 - dense_1_loss_19: 0.0535 - dense_1_loss_20: 0.0599 - dense_1_loss_21: 0.0614 - dense_1_loss_22: 0.0603 - dense_1_loss_23: 0.0592 - dense_1_loss_24: 0.0525 - dense_1_loss_25: 0.0610 - dense_1_loss_26: 0.0616 - dense_1_loss_27: 0.0667 - dense_1_loss_28: 0.0680 - dense_1_loss_29: 0.0792 - dense_1_loss_30: 0.0000e+00 - dense_1_acc_1: 0.0500 - dense_1_acc_2: 0.5667 - dense_1_acc_3: 0.8833 - dense_1_acc_4: 0.9667 - dense_1_acc_5: 1.0000 - dense_1_acc_6: 1.0000 - dense_1_acc_7: 1.0000 - dense_1_acc_8: 1.0000 - dense_1_acc_9: 1.0000 - dense_1_acc_10: 1.0000 - dense_1_acc_11: 1.0000 - dense_1_acc_12: 1.0000 - dense_1_acc_13: 1.0000 - dense_1_acc_14: 1.0000 - dense_1_acc_15: 1.0000 - dense_1_acc_16: 1.0000 - dense_1_acc_17: 1.0000 - dense_1_acc_18: 1.0000 - dense_1_acc_19: 1.0000 - dense_1_acc_20: 1.0000 - dense_1_acc_21: 1.0000 - dense_1_acc_22: 1.0000 - dense_1_acc_23: 1.0000 - dense_1_acc_24: 1.0000 - dense_1_acc_25: 1.0000 - dense_1_acc_26: 1.0000 - dense_1_acc_27: 1.0000 - dense_1_acc_28: 1.0000 - dense_1_acc_29: 1.0000 - dense_1_acc_30: 0.0000e+00     \n",
      "Epoch 66/100\n"
     ]
    },
    {
     "name": "stdout",
     "output_type": "stream",
     "text": [
      "60/60 [==============================] - 0s - loss: 7.8984 - dense_1_loss_1: 3.8674 - dense_1_loss_2: 1.6594 - dense_1_loss_3: 0.5794 - dense_1_loss_4: 0.2048 - dense_1_loss_5: 0.1300 - dense_1_loss_6: 0.1074 - dense_1_loss_7: 0.0775 - dense_1_loss_8: 0.0747 - dense_1_loss_9: 0.0737 - dense_1_loss_10: 0.0497 - dense_1_loss_11: 0.0549 - dense_1_loss_12: 0.0535 - dense_1_loss_13: 0.0497 - dense_1_loss_14: 0.0520 - dense_1_loss_15: 0.0544 - dense_1_loss_16: 0.0536 - dense_1_loss_17: 0.0509 - dense_1_loss_18: 0.0524 - dense_1_loss_19: 0.0512 - dense_1_loss_20: 0.0570 - dense_1_loss_21: 0.0589 - dense_1_loss_22: 0.0576 - dense_1_loss_23: 0.0567 - dense_1_loss_24: 0.0506 - dense_1_loss_25: 0.0580 - dense_1_loss_26: 0.0594 - dense_1_loss_27: 0.0641 - dense_1_loss_28: 0.0647 - dense_1_loss_29: 0.0750 - dense_1_loss_30: 0.0000e+00 - dense_1_acc_1: 0.0500 - dense_1_acc_2: 0.5667 - dense_1_acc_3: 0.8833 - dense_1_acc_4: 0.9667 - dense_1_acc_5: 1.0000 - dense_1_acc_6: 1.0000 - dense_1_acc_7: 1.0000 - dense_1_acc_8: 1.0000 - dense_1_acc_9: 1.0000 - dense_1_acc_10: 1.0000 - dense_1_acc_11: 1.0000 - dense_1_acc_12: 1.0000 - dense_1_acc_13: 1.0000 - dense_1_acc_14: 1.0000 - dense_1_acc_15: 1.0000 - dense_1_acc_16: 1.0000 - dense_1_acc_17: 1.0000 - dense_1_acc_18: 1.0000 - dense_1_acc_19: 1.0000 - dense_1_acc_20: 1.0000 - dense_1_acc_21: 1.0000 - dense_1_acc_22: 1.0000 - dense_1_acc_23: 1.0000 - dense_1_acc_24: 1.0000 - dense_1_acc_25: 1.0000 - dense_1_acc_26: 1.0000 - dense_1_acc_27: 1.0000 - dense_1_acc_28: 1.0000 - dense_1_acc_29: 1.0000 - dense_1_acc_30: 0.0000e+00         \n",
      "Epoch 67/100\n",
      "60/60 [==============================] - 0s - loss: 7.7900 - dense_1_loss_1: 3.8640 - dense_1_loss_2: 1.6380 - dense_1_loss_3: 0.5665 - dense_1_loss_4: 0.1974 - dense_1_loss_5: 0.1254 - dense_1_loss_6: 0.1032 - dense_1_loss_7: 0.0750 - dense_1_loss_8: 0.0720 - dense_1_loss_9: 0.0713 - dense_1_loss_10: 0.0478 - dense_1_loss_11: 0.0525 - dense_1_loss_12: 0.0514 - dense_1_loss_13: 0.0477 - dense_1_loss_14: 0.0497 - dense_1_loss_15: 0.0522 - dense_1_loss_16: 0.0514 - dense_1_loss_17: 0.0490 - dense_1_loss_18: 0.0504 - dense_1_loss_19: 0.0488 - dense_1_loss_20: 0.0544 - dense_1_loss_21: 0.0563 - dense_1_loss_22: 0.0550 - dense_1_loss_23: 0.0540 - dense_1_loss_24: 0.0487 - dense_1_loss_25: 0.0552 - dense_1_loss_26: 0.0562 - dense_1_loss_27: 0.0615 - dense_1_loss_28: 0.0626 - dense_1_loss_29: 0.0726 - dense_1_loss_30: 0.0000e+00 - dense_1_acc_1: 0.0500 - dense_1_acc_2: 0.5667 - dense_1_acc_3: 0.8833 - dense_1_acc_4: 0.9833 - dense_1_acc_5: 1.0000 - dense_1_acc_6: 1.0000 - dense_1_acc_7: 1.0000 - dense_1_acc_8: 1.0000 - dense_1_acc_9: 1.0000 - dense_1_acc_10: 1.0000 - dense_1_acc_11: 1.0000 - dense_1_acc_12: 1.0000 - dense_1_acc_13: 1.0000 - dense_1_acc_14: 1.0000 - dense_1_acc_15: 1.0000 - dense_1_acc_16: 1.0000 - dense_1_acc_17: 1.0000 - dense_1_acc_18: 1.0000 - dense_1_acc_19: 1.0000 - dense_1_acc_20: 1.0000 - dense_1_acc_21: 1.0000 - dense_1_acc_22: 1.0000 - dense_1_acc_23: 1.0000 - dense_1_acc_24: 1.0000 - dense_1_acc_25: 1.0000 - dense_1_acc_26: 1.0000 - dense_1_acc_27: 1.0000 - dense_1_acc_28: 1.0000 - dense_1_acc_29: 1.0000 - dense_1_acc_30: 0.0000e+00     \n",
      "Epoch 68/100\n",
      "60/60 [==============================] - 0s - loss: 7.6874 - dense_1_loss_1: 3.8607 - dense_1_loss_2: 1.6173 - dense_1_loss_3: 0.5532 - dense_1_loss_4: 0.1905 - dense_1_loss_5: 0.1204 - dense_1_loss_6: 0.0996 - dense_1_loss_7: 0.0723 - dense_1_loss_8: 0.0690 - dense_1_loss_9: 0.0684 - dense_1_loss_10: 0.0461 - dense_1_loss_11: 0.0505 - dense_1_loss_12: 0.0495 - dense_1_loss_13: 0.0458 - dense_1_loss_14: 0.0477 - dense_1_loss_15: 0.0499 - dense_1_loss_16: 0.0493 - dense_1_loss_17: 0.0474 - dense_1_loss_18: 0.0485 - dense_1_loss_19: 0.0469 - dense_1_loss_20: 0.0523 - dense_1_loss_21: 0.0541 - dense_1_loss_22: 0.0527 - dense_1_loss_23: 0.0517 - dense_1_loss_24: 0.0468 - dense_1_loss_25: 0.0528 - dense_1_loss_26: 0.0537 - dense_1_loss_27: 0.0594 - dense_1_loss_28: 0.0605 - dense_1_loss_29: 0.0703 - dense_1_loss_30: 0.0000e+00 - dense_1_acc_1: 0.0500 - dense_1_acc_2: 0.5667 - dense_1_acc_3: 0.8833 - dense_1_acc_4: 0.9833 - dense_1_acc_5: 1.0000 - dense_1_acc_6: 1.0000 - dense_1_acc_7: 1.0000 - dense_1_acc_8: 1.0000 - dense_1_acc_9: 1.0000 - dense_1_acc_10: 1.0000 - dense_1_acc_11: 1.0000 - dense_1_acc_12: 1.0000 - dense_1_acc_13: 1.0000 - dense_1_acc_14: 1.0000 - dense_1_acc_15: 1.0000 - dense_1_acc_16: 1.0000 - dense_1_acc_17: 1.0000 - dense_1_acc_18: 1.0000 - dense_1_acc_19: 1.0000 - dense_1_acc_20: 1.0000 - dense_1_acc_21: 1.0000 - dense_1_acc_22: 1.0000 - dense_1_acc_23: 1.0000 - dense_1_acc_24: 1.0000 - dense_1_acc_25: 1.0000 - dense_1_acc_26: 1.0000 - dense_1_acc_27: 1.0000 - dense_1_acc_28: 1.0000 - dense_1_acc_29: 1.0000 - dense_1_acc_30: 0.0000e+00     \n",
      "Epoch 69/100\n",
      "60/60 [==============================] - 0s - loss: 7.5890 - dense_1_loss_1: 3.8575 - dense_1_loss_2: 1.5978 - dense_1_loss_3: 0.5418 - dense_1_loss_4: 0.1837 - dense_1_loss_5: 0.1161 - dense_1_loss_6: 0.0956 - dense_1_loss_7: 0.0695 - dense_1_loss_8: 0.0661 - dense_1_loss_9: 0.0654 - dense_1_loss_10: 0.0445 - dense_1_loss_11: 0.0486 - dense_1_loss_12: 0.0475 - dense_1_loss_13: 0.0441 - dense_1_loss_14: 0.0456 - dense_1_loss_15: 0.0481 - dense_1_loss_16: 0.0473 - dense_1_loss_17: 0.0458 - dense_1_loss_18: 0.0468 - dense_1_loss_19: 0.0448 - dense_1_loss_20: 0.0503 - dense_1_loss_21: 0.0517 - dense_1_loss_22: 0.0505 - dense_1_loss_23: 0.0499 - dense_1_loss_24: 0.0450 - dense_1_loss_25: 0.0510 - dense_1_loss_26: 0.0515 - dense_1_loss_27: 0.0571 - dense_1_loss_28: 0.0581 - dense_1_loss_29: 0.0674 - dense_1_loss_30: 0.0000e+00 - dense_1_acc_1: 0.0500 - dense_1_acc_2: 0.5833 - dense_1_acc_3: 0.8833 - dense_1_acc_4: 0.9833 - dense_1_acc_5: 1.0000 - dense_1_acc_6: 1.0000 - dense_1_acc_7: 1.0000 - dense_1_acc_8: 1.0000 - dense_1_acc_9: 1.0000 - dense_1_acc_10: 1.0000 - dense_1_acc_11: 1.0000 - dense_1_acc_12: 1.0000 - dense_1_acc_13: 1.0000 - dense_1_acc_14: 1.0000 - dense_1_acc_15: 1.0000 - dense_1_acc_16: 1.0000 - dense_1_acc_17: 1.0000 - dense_1_acc_18: 1.0000 - dense_1_acc_19: 1.0000 - dense_1_acc_20: 1.0000 - dense_1_acc_21: 1.0000 - dense_1_acc_22: 1.0000 - dense_1_acc_23: 1.0000 - dense_1_acc_24: 1.0000 - dense_1_acc_25: 1.0000 - dense_1_acc_26: 1.0000 - dense_1_acc_27: 1.0000 - dense_1_acc_28: 1.0000 - dense_1_acc_29: 1.0000 - dense_1_acc_30: 0.0000e+00     \n",
      "Epoch 70/100\n",
      "60/60 [==============================] - 0s - loss: 7.4963 - dense_1_loss_1: 3.8543 - dense_1_loss_2: 1.5778 - dense_1_loss_3: 0.5293 - dense_1_loss_4: 0.1778 - dense_1_loss_5: 0.1118 - dense_1_loss_6: 0.0923 - dense_1_loss_7: 0.0670 - dense_1_loss_8: 0.0635 - dense_1_loss_9: 0.0629 - dense_1_loss_10: 0.0427 - dense_1_loss_11: 0.0468 - dense_1_loss_12: 0.0457 - dense_1_loss_13: 0.0424 - dense_1_loss_14: 0.0439 - dense_1_loss_15: 0.0464 - dense_1_loss_16: 0.0458 - dense_1_loss_17: 0.0441 - dense_1_loss_18: 0.0450 - dense_1_loss_19: 0.0433 - dense_1_loss_20: 0.0484 - dense_1_loss_21: 0.0498 - dense_1_loss_22: 0.0486 - dense_1_loss_23: 0.0483 - dense_1_loss_24: 0.0432 - dense_1_loss_25: 0.0493 - dense_1_loss_26: 0.0499 - dense_1_loss_27: 0.0552 - dense_1_loss_28: 0.0559 - dense_1_loss_29: 0.0646 - dense_1_loss_30: 0.0000e+00 - dense_1_acc_1: 0.0500 - dense_1_acc_2: 0.5833 - dense_1_acc_3: 0.8833 - dense_1_acc_4: 0.9833 - dense_1_acc_5: 1.0000 - dense_1_acc_6: 1.0000 - dense_1_acc_7: 1.0000 - dense_1_acc_8: 1.0000 - dense_1_acc_9: 1.0000 - dense_1_acc_10: 1.0000 - dense_1_acc_11: 1.0000 - dense_1_acc_12: 1.0000 - dense_1_acc_13: 1.0000 - dense_1_acc_14: 1.0000 - dense_1_acc_15: 1.0000 - dense_1_acc_16: 1.0000 - dense_1_acc_17: 1.0000 - dense_1_acc_18: 1.0000 - dense_1_acc_19: 1.0000 - dense_1_acc_20: 1.0000 - dense_1_acc_21: 1.0000 - dense_1_acc_22: 1.0000 - dense_1_acc_23: 1.0000 - dense_1_acc_24: 1.0000 - dense_1_acc_25: 1.0000 - dense_1_acc_26: 1.0000 - dense_1_acc_27: 1.0000 - dense_1_acc_28: 1.0000 - dense_1_acc_29: 1.0000 - dense_1_acc_30: 0.0000e+00     \n",
      "Epoch 71/100\n"
     ]
    },
    {
     "name": "stdout",
     "output_type": "stream",
     "text": [
      "60/60 [==============================] - 0s - loss: 7.4086 - dense_1_loss_1: 3.8511 - dense_1_loss_2: 1.5594 - dense_1_loss_3: 0.5182 - dense_1_loss_4: 0.1716 - dense_1_loss_5: 0.1079 - dense_1_loss_6: 0.0894 - dense_1_loss_7: 0.0650 - dense_1_loss_8: 0.0611 - dense_1_loss_9: 0.0606 - dense_1_loss_10: 0.0412 - dense_1_loss_11: 0.0452 - dense_1_loss_12: 0.0441 - dense_1_loss_13: 0.0409 - dense_1_loss_14: 0.0423 - dense_1_loss_15: 0.0447 - dense_1_loss_16: 0.0443 - dense_1_loss_17: 0.0424 - dense_1_loss_18: 0.0432 - dense_1_loss_19: 0.0417 - dense_1_loss_20: 0.0466 - dense_1_loss_21: 0.0480 - dense_1_loss_22: 0.0467 - dense_1_loss_23: 0.0468 - dense_1_loss_24: 0.0416 - dense_1_loss_25: 0.0476 - dense_1_loss_26: 0.0487 - dense_1_loss_27: 0.0532 - dense_1_loss_28: 0.0535 - dense_1_loss_29: 0.0613 - dense_1_loss_30: 0.0000e+00 - dense_1_acc_1: 0.0500 - dense_1_acc_2: 0.5833 - dense_1_acc_3: 0.8833 - dense_1_acc_4: 0.9833 - dense_1_acc_5: 1.0000 - dense_1_acc_6: 1.0000 - dense_1_acc_7: 1.0000 - dense_1_acc_8: 1.0000 - dense_1_acc_9: 1.0000 - dense_1_acc_10: 1.0000 - dense_1_acc_11: 1.0000 - dense_1_acc_12: 1.0000 - dense_1_acc_13: 1.0000 - dense_1_acc_14: 1.0000 - dense_1_acc_15: 1.0000 - dense_1_acc_16: 1.0000 - dense_1_acc_17: 1.0000 - dense_1_acc_18: 1.0000 - dense_1_acc_19: 1.0000 - dense_1_acc_20: 1.0000 - dense_1_acc_21: 1.0000 - dense_1_acc_22: 1.0000 - dense_1_acc_23: 1.0000 - dense_1_acc_24: 1.0000 - dense_1_acc_25: 1.0000 - dense_1_acc_26: 1.0000 - dense_1_acc_27: 1.0000 - dense_1_acc_28: 1.0000 - dense_1_acc_29: 1.0000 - dense_1_acc_30: 0.0000e+00     \n",
      "Epoch 72/100\n",
      "60/60 [==============================] - 0s - loss: 7.3245 - dense_1_loss_1: 3.8481 - dense_1_loss_2: 1.5405 - dense_1_loss_3: 0.5069 - dense_1_loss_4: 0.1669 - dense_1_loss_5: 0.1043 - dense_1_loss_6: 0.0867 - dense_1_loss_7: 0.0630 - dense_1_loss_8: 0.0588 - dense_1_loss_9: 0.0585 - dense_1_loss_10: 0.0397 - dense_1_loss_11: 0.0437 - dense_1_loss_12: 0.0426 - dense_1_loss_13: 0.0396 - dense_1_loss_14: 0.0409 - dense_1_loss_15: 0.0431 - dense_1_loss_16: 0.0428 - dense_1_loss_17: 0.0408 - dense_1_loss_18: 0.0416 - dense_1_loss_19: 0.0402 - dense_1_loss_20: 0.0449 - dense_1_loss_21: 0.0462 - dense_1_loss_22: 0.0453 - dense_1_loss_23: 0.0449 - dense_1_loss_24: 0.0402 - dense_1_loss_25: 0.0456 - dense_1_loss_26: 0.0465 - dense_1_loss_27: 0.0513 - dense_1_loss_28: 0.0516 - dense_1_loss_29: 0.0590 - dense_1_loss_30: 0.0000e+00 - dense_1_acc_1: 0.0500 - dense_1_acc_2: 0.5833 - dense_1_acc_3: 0.9000 - dense_1_acc_4: 0.9833 - dense_1_acc_5: 1.0000 - dense_1_acc_6: 1.0000 - dense_1_acc_7: 1.0000 - dense_1_acc_8: 1.0000 - dense_1_acc_9: 1.0000 - dense_1_acc_10: 1.0000 - dense_1_acc_11: 1.0000 - dense_1_acc_12: 1.0000 - dense_1_acc_13: 1.0000 - dense_1_acc_14: 1.0000 - dense_1_acc_15: 1.0000 - dense_1_acc_16: 1.0000 - dense_1_acc_17: 1.0000 - dense_1_acc_18: 1.0000 - dense_1_acc_19: 1.0000 - dense_1_acc_20: 1.0000 - dense_1_acc_21: 1.0000 - dense_1_acc_22: 1.0000 - dense_1_acc_23: 1.0000 - dense_1_acc_24: 1.0000 - dense_1_acc_25: 1.0000 - dense_1_acc_26: 1.0000 - dense_1_acc_27: 1.0000 - dense_1_acc_28: 1.0000 - dense_1_acc_29: 1.0000 - dense_1_acc_30: 0.0000e+00     \n",
      "Epoch 73/100\n",
      "60/60 [==============================] - 0s - loss: 7.2464 - dense_1_loss_1: 3.8448 - dense_1_loss_2: 1.5232 - dense_1_loss_3: 0.4970 - dense_1_loss_4: 0.1618 - dense_1_loss_5: 0.1011 - dense_1_loss_6: 0.0840 - dense_1_loss_7: 0.0613 - dense_1_loss_8: 0.0569 - dense_1_loss_9: 0.0565 - dense_1_loss_10: 0.0384 - dense_1_loss_11: 0.0423 - dense_1_loss_12: 0.0412 - dense_1_loss_13: 0.0382 - dense_1_loss_14: 0.0397 - dense_1_loss_15: 0.0416 - dense_1_loss_16: 0.0414 - dense_1_loss_17: 0.0394 - dense_1_loss_18: 0.0403 - dense_1_loss_19: 0.0387 - dense_1_loss_20: 0.0434 - dense_1_loss_21: 0.0444 - dense_1_loss_22: 0.0437 - dense_1_loss_23: 0.0432 - dense_1_loss_24: 0.0388 - dense_1_loss_25: 0.0440 - dense_1_loss_26: 0.0445 - dense_1_loss_27: 0.0495 - dense_1_loss_28: 0.0501 - dense_1_loss_29: 0.0572 - dense_1_loss_30: 0.0000e+00 - dense_1_acc_1: 0.0500 - dense_1_acc_2: 0.5833 - dense_1_acc_3: 0.9167 - dense_1_acc_4: 0.9833 - dense_1_acc_5: 1.0000 - dense_1_acc_6: 1.0000 - dense_1_acc_7: 1.0000 - dense_1_acc_8: 1.0000 - dense_1_acc_9: 1.0000 - dense_1_acc_10: 1.0000 - dense_1_acc_11: 1.0000 - dense_1_acc_12: 1.0000 - dense_1_acc_13: 1.0000 - dense_1_acc_14: 1.0000 - dense_1_acc_15: 1.0000 - dense_1_acc_16: 1.0000 - dense_1_acc_17: 1.0000 - dense_1_acc_18: 1.0000 - dense_1_acc_19: 1.0000 - dense_1_acc_20: 1.0000 - dense_1_acc_21: 1.0000 - dense_1_acc_22: 1.0000 - dense_1_acc_23: 1.0000 - dense_1_acc_24: 1.0000 - dense_1_acc_25: 1.0000 - dense_1_acc_26: 1.0000 - dense_1_acc_27: 1.0000 - dense_1_acc_28: 1.0000 - dense_1_acc_29: 1.0000 - dense_1_acc_30: 0.0000e+00     \n",
      "Epoch 74/100\n",
      "60/60 [==============================] - 0s - loss: 7.1692 - dense_1_loss_1: 3.8417 - dense_1_loss_2: 1.5062 - dense_1_loss_3: 0.4865 - dense_1_loss_4: 0.1564 - dense_1_loss_5: 0.0978 - dense_1_loss_6: 0.0810 - dense_1_loss_7: 0.0594 - dense_1_loss_8: 0.0549 - dense_1_loss_9: 0.0544 - dense_1_loss_10: 0.0371 - dense_1_loss_11: 0.0408 - dense_1_loss_12: 0.0398 - dense_1_loss_13: 0.0369 - dense_1_loss_14: 0.0384 - dense_1_loss_15: 0.0402 - dense_1_loss_16: 0.0400 - dense_1_loss_17: 0.0382 - dense_1_loss_18: 0.0390 - dense_1_loss_19: 0.0373 - dense_1_loss_20: 0.0419 - dense_1_loss_21: 0.0428 - dense_1_loss_22: 0.0423 - dense_1_loss_23: 0.0417 - dense_1_loss_24: 0.0375 - dense_1_loss_25: 0.0425 - dense_1_loss_26: 0.0430 - dense_1_loss_27: 0.0479 - dense_1_loss_28: 0.0486 - dense_1_loss_29: 0.0550 - dense_1_loss_30: 0.0000e+00 - dense_1_acc_1: 0.0500 - dense_1_acc_2: 0.5833 - dense_1_acc_3: 0.9167 - dense_1_acc_4: 0.9833 - dense_1_acc_5: 1.0000 - dense_1_acc_6: 1.0000 - dense_1_acc_7: 1.0000 - dense_1_acc_8: 1.0000 - dense_1_acc_9: 1.0000 - dense_1_acc_10: 1.0000 - dense_1_acc_11: 1.0000 - dense_1_acc_12: 1.0000 - dense_1_acc_13: 1.0000 - dense_1_acc_14: 1.0000 - dense_1_acc_15: 1.0000 - dense_1_acc_16: 1.0000 - dense_1_acc_17: 1.0000 - dense_1_acc_18: 1.0000 - dense_1_acc_19: 1.0000 - dense_1_acc_20: 1.0000 - dense_1_acc_21: 1.0000 - dense_1_acc_22: 1.0000 - dense_1_acc_23: 1.0000 - dense_1_acc_24: 1.0000 - dense_1_acc_25: 1.0000 - dense_1_acc_26: 1.0000 - dense_1_acc_27: 1.0000 - dense_1_acc_28: 1.0000 - dense_1_acc_29: 1.0000 - dense_1_acc_30: 0.0000e+00     \n",
      "Epoch 75/100\n",
      "60/60 [==============================] - 0s - loss: 7.0991 - dense_1_loss_1: 3.8389 - dense_1_loss_2: 1.4894 - dense_1_loss_3: 0.4767 - dense_1_loss_4: 0.1522 - dense_1_loss_5: 0.0947 - dense_1_loss_6: 0.0785 - dense_1_loss_7: 0.0577 - dense_1_loss_8: 0.0531 - dense_1_loss_9: 0.0526 - dense_1_loss_10: 0.0361 - dense_1_loss_11: 0.0394 - dense_1_loss_12: 0.0386 - dense_1_loss_13: 0.0357 - dense_1_loss_14: 0.0372 - dense_1_loss_15: 0.0389 - dense_1_loss_16: 0.0387 - dense_1_loss_17: 0.0371 - dense_1_loss_18: 0.0379 - dense_1_loss_19: 0.0361 - dense_1_loss_20: 0.0406 - dense_1_loss_21: 0.0413 - dense_1_loss_22: 0.0410 - dense_1_loss_23: 0.0404 - dense_1_loss_24: 0.0363 - dense_1_loss_25: 0.0412 - dense_1_loss_26: 0.0417 - dense_1_loss_27: 0.0465 - dense_1_loss_28: 0.0474 - dense_1_loss_29: 0.0533 - dense_1_loss_30: 0.0000e+00 - dense_1_acc_1: 0.0500 - dense_1_acc_2: 0.5833 - dense_1_acc_3: 0.9167 - dense_1_acc_4: 0.9833 - dense_1_acc_5: 1.0000 - dense_1_acc_6: 1.0000 - dense_1_acc_7: 1.0000 - dense_1_acc_8: 1.0000 - dense_1_acc_9: 1.0000 - dense_1_acc_10: 1.0000 - dense_1_acc_11: 1.0000 - dense_1_acc_12: 1.0000 - dense_1_acc_13: 1.0000 - dense_1_acc_14: 1.0000 - dense_1_acc_15: 1.0000 - dense_1_acc_16: 1.0000 - dense_1_acc_17: 1.0000 - dense_1_acc_18: 1.0000 - dense_1_acc_19: 1.0000 - dense_1_acc_20: 1.0000 - dense_1_acc_21: 1.0000 - dense_1_acc_22: 1.0000 - dense_1_acc_23: 1.0000 - dense_1_acc_24: 1.0000 - dense_1_acc_25: 1.0000 - dense_1_acc_26: 1.0000 - dense_1_acc_27: 1.0000 - dense_1_acc_28: 1.0000 - dense_1_acc_29: 1.0000 - dense_1_acc_30: 0.0000e+00     \n",
      "Epoch 76/100\n"
     ]
    },
    {
     "name": "stdout",
     "output_type": "stream",
     "text": [
      "60/60 [==============================] - 0s - loss: 7.0298 - dense_1_loss_1: 3.8358 - dense_1_loss_2: 1.4729 - dense_1_loss_3: 0.4676 - dense_1_loss_4: 0.1477 - dense_1_loss_5: 0.0918 - dense_1_loss_6: 0.0760 - dense_1_loss_7: 0.0559 - dense_1_loss_8: 0.0515 - dense_1_loss_9: 0.0510 - dense_1_loss_10: 0.0351 - dense_1_loss_11: 0.0382 - dense_1_loss_12: 0.0374 - dense_1_loss_13: 0.0347 - dense_1_loss_14: 0.0360 - dense_1_loss_15: 0.0377 - dense_1_loss_16: 0.0375 - dense_1_loss_17: 0.0360 - dense_1_loss_18: 0.0367 - dense_1_loss_19: 0.0350 - dense_1_loss_20: 0.0392 - dense_1_loss_21: 0.0399 - dense_1_loss_22: 0.0397 - dense_1_loss_23: 0.0393 - dense_1_loss_24: 0.0351 - dense_1_loss_25: 0.0401 - dense_1_loss_26: 0.0406 - dense_1_loss_27: 0.0451 - dense_1_loss_28: 0.0456 - dense_1_loss_29: 0.0508 - dense_1_loss_30: 0.0000e+00 - dense_1_acc_1: 0.0500 - dense_1_acc_2: 0.5833 - dense_1_acc_3: 0.9167 - dense_1_acc_4: 0.9833 - dense_1_acc_5: 1.0000 - dense_1_acc_6: 1.0000 - dense_1_acc_7: 1.0000 - dense_1_acc_8: 1.0000 - dense_1_acc_9: 1.0000 - dense_1_acc_10: 1.0000 - dense_1_acc_11: 1.0000 - dense_1_acc_12: 1.0000 - dense_1_acc_13: 1.0000 - dense_1_acc_14: 1.0000 - dense_1_acc_15: 1.0000 - dense_1_acc_16: 1.0000 - dense_1_acc_17: 1.0000 - dense_1_acc_18: 1.0000 - dense_1_acc_19: 1.0000 - dense_1_acc_20: 1.0000 - dense_1_acc_21: 1.0000 - dense_1_acc_22: 1.0000 - dense_1_acc_23: 1.0000 - dense_1_acc_24: 1.0000 - dense_1_acc_25: 1.0000 - dense_1_acc_26: 1.0000 - dense_1_acc_27: 1.0000 - dense_1_acc_28: 1.0000 - dense_1_acc_29: 1.0000 - dense_1_acc_30: 0.0000e+00     \n",
      "Epoch 77/100\n",
      "60/60 [==============================] - 0s - loss: 6.9664 - dense_1_loss_1: 3.8329 - dense_1_loss_2: 1.4573 - dense_1_loss_3: 0.4589 - dense_1_loss_4: 0.1441 - dense_1_loss_5: 0.0894 - dense_1_loss_6: 0.0739 - dense_1_loss_7: 0.0544 - dense_1_loss_8: 0.0499 - dense_1_loss_9: 0.0496 - dense_1_loss_10: 0.0340 - dense_1_loss_11: 0.0371 - dense_1_loss_12: 0.0363 - dense_1_loss_13: 0.0337 - dense_1_loss_14: 0.0349 - dense_1_loss_15: 0.0365 - dense_1_loss_16: 0.0363 - dense_1_loss_17: 0.0349 - dense_1_loss_18: 0.0356 - dense_1_loss_19: 0.0341 - dense_1_loss_20: 0.0379 - dense_1_loss_21: 0.0387 - dense_1_loss_22: 0.0385 - dense_1_loss_23: 0.0381 - dense_1_loss_24: 0.0340 - dense_1_loss_25: 0.0387 - dense_1_loss_26: 0.0394 - dense_1_loss_27: 0.0439 - dense_1_loss_28: 0.0441 - dense_1_loss_29: 0.0492 - dense_1_loss_30: 0.0000e+00 - dense_1_acc_1: 0.0500 - dense_1_acc_2: 0.5833 - dense_1_acc_3: 0.9167 - dense_1_acc_4: 0.9833 - dense_1_acc_5: 1.0000 - dense_1_acc_6: 1.0000 - dense_1_acc_7: 1.0000 - dense_1_acc_8: 1.0000 - dense_1_acc_9: 1.0000 - dense_1_acc_10: 1.0000 - dense_1_acc_11: 1.0000 - dense_1_acc_12: 1.0000 - dense_1_acc_13: 1.0000 - dense_1_acc_14: 1.0000 - dense_1_acc_15: 1.0000 - dense_1_acc_16: 1.0000 - dense_1_acc_17: 1.0000 - dense_1_acc_18: 1.0000 - dense_1_acc_19: 1.0000 - dense_1_acc_20: 1.0000 - dense_1_acc_21: 1.0000 - dense_1_acc_22: 1.0000 - dense_1_acc_23: 1.0000 - dense_1_acc_24: 1.0000 - dense_1_acc_25: 1.0000 - dense_1_acc_26: 1.0000 - dense_1_acc_27: 1.0000 - dense_1_acc_28: 1.0000 - dense_1_acc_29: 1.0000 - dense_1_acc_30: 0.0000e+00     \n",
      "Epoch 78/100\n",
      "60/60 [==============================] - 0s - loss: 6.9036 - dense_1_loss_1: 3.8297 - dense_1_loss_2: 1.4417 - dense_1_loss_3: 0.4504 - dense_1_loss_4: 0.1402 - dense_1_loss_5: 0.0870 - dense_1_loss_6: 0.0716 - dense_1_loss_7: 0.0528 - dense_1_loss_8: 0.0484 - dense_1_loss_9: 0.0480 - dense_1_loss_10: 0.0330 - dense_1_loss_11: 0.0360 - dense_1_loss_12: 0.0351 - dense_1_loss_13: 0.0328 - dense_1_loss_14: 0.0339 - dense_1_loss_15: 0.0354 - dense_1_loss_16: 0.0353 - dense_1_loss_17: 0.0338 - dense_1_loss_18: 0.0345 - dense_1_loss_19: 0.0331 - dense_1_loss_20: 0.0366 - dense_1_loss_21: 0.0375 - dense_1_loss_22: 0.0373 - dense_1_loss_23: 0.0370 - dense_1_loss_24: 0.0331 - dense_1_loss_25: 0.0376 - dense_1_loss_26: 0.0381 - dense_1_loss_27: 0.0427 - dense_1_loss_28: 0.0430 - dense_1_loss_29: 0.0480 - dense_1_loss_30: 0.0000e+00 - dense_1_acc_1: 0.0500 - dense_1_acc_2: 0.5833 - dense_1_acc_3: 0.9167 - dense_1_acc_4: 0.9833 - dense_1_acc_5: 1.0000 - dense_1_acc_6: 1.0000 - dense_1_acc_7: 1.0000 - dense_1_acc_8: 1.0000 - dense_1_acc_9: 1.0000 - dense_1_acc_10: 1.0000 - dense_1_acc_11: 1.0000 - dense_1_acc_12: 1.0000 - dense_1_acc_13: 1.0000 - dense_1_acc_14: 1.0000 - dense_1_acc_15: 1.0000 - dense_1_acc_16: 1.0000 - dense_1_acc_17: 1.0000 - dense_1_acc_18: 1.0000 - dense_1_acc_19: 1.0000 - dense_1_acc_20: 1.0000 - dense_1_acc_21: 1.0000 - dense_1_acc_22: 1.0000 - dense_1_acc_23: 1.0000 - dense_1_acc_24: 1.0000 - dense_1_acc_25: 1.0000 - dense_1_acc_26: 1.0000 - dense_1_acc_27: 1.0000 - dense_1_acc_28: 1.0000 - dense_1_acc_29: 1.0000 - dense_1_acc_30: 0.0000e+00     \n",
      "Epoch 79/100\n",
      "60/60 [==============================] - 0s - loss: 6.8419 - dense_1_loss_1: 3.8271 - dense_1_loss_2: 1.4266 - dense_1_loss_3: 0.4410 - dense_1_loss_4: 0.1363 - dense_1_loss_5: 0.0844 - dense_1_loss_6: 0.0695 - dense_1_loss_7: 0.0514 - dense_1_loss_8: 0.0468 - dense_1_loss_9: 0.0465 - dense_1_loss_10: 0.0321 - dense_1_loss_11: 0.0349 - dense_1_loss_12: 0.0341 - dense_1_loss_13: 0.0319 - dense_1_loss_14: 0.0329 - dense_1_loss_15: 0.0344 - dense_1_loss_16: 0.0343 - dense_1_loss_17: 0.0328 - dense_1_loss_18: 0.0335 - dense_1_loss_19: 0.0320 - dense_1_loss_20: 0.0355 - dense_1_loss_21: 0.0366 - dense_1_loss_22: 0.0361 - dense_1_loss_23: 0.0359 - dense_1_loss_24: 0.0322 - dense_1_loss_25: 0.0364 - dense_1_loss_26: 0.0367 - dense_1_loss_27: 0.0413 - dense_1_loss_28: 0.0419 - dense_1_loss_29: 0.0470 - dense_1_loss_30: 0.0000e+00 - dense_1_acc_1: 0.0500 - dense_1_acc_2: 0.5833 - dense_1_acc_3: 0.9167 - dense_1_acc_4: 0.9833 - dense_1_acc_5: 1.0000 - dense_1_acc_6: 1.0000 - dense_1_acc_7: 1.0000 - dense_1_acc_8: 1.0000 - dense_1_acc_9: 1.0000 - dense_1_acc_10: 1.0000 - dense_1_acc_11: 1.0000 - dense_1_acc_12: 1.0000 - dense_1_acc_13: 1.0000 - dense_1_acc_14: 1.0000 - dense_1_acc_15: 1.0000 - dense_1_acc_16: 1.0000 - dense_1_acc_17: 1.0000 - dense_1_acc_18: 1.0000 - dense_1_acc_19: 1.0000 - dense_1_acc_20: 1.0000 - dense_1_acc_21: 1.0000 - dense_1_acc_22: 1.0000 - dense_1_acc_23: 1.0000 - dense_1_acc_24: 1.0000 - dense_1_acc_25: 1.0000 - dense_1_acc_26: 1.0000 - dense_1_acc_27: 1.0000 - dense_1_acc_28: 1.0000 - dense_1_acc_29: 1.0000 - dense_1_acc_30: 0.0000e+00     \n",
      "Epoch 80/100\n",
      "60/60 [==============================] - 0s - loss: 6.7844 - dense_1_loss_1: 3.8240 - dense_1_loss_2: 1.4117 - dense_1_loss_3: 0.4336 - dense_1_loss_4: 0.1332 - dense_1_loss_5: 0.0821 - dense_1_loss_6: 0.0677 - dense_1_loss_7: 0.0501 - dense_1_loss_8: 0.0455 - dense_1_loss_9: 0.0453 - dense_1_loss_10: 0.0313 - dense_1_loss_11: 0.0339 - dense_1_loss_12: 0.0331 - dense_1_loss_13: 0.0310 - dense_1_loss_14: 0.0318 - dense_1_loss_15: 0.0334 - dense_1_loss_16: 0.0334 - dense_1_loss_17: 0.0320 - dense_1_loss_18: 0.0326 - dense_1_loss_19: 0.0310 - dense_1_loss_20: 0.0345 - dense_1_loss_21: 0.0355 - dense_1_loss_22: 0.0349 - dense_1_loss_23: 0.0349 - dense_1_loss_24: 0.0313 - dense_1_loss_25: 0.0354 - dense_1_loss_26: 0.0354 - dense_1_loss_27: 0.0398 - dense_1_loss_28: 0.0405 - dense_1_loss_29: 0.0454 - dense_1_loss_30: 0.0000e+00 - dense_1_acc_1: 0.0500 - dense_1_acc_2: 0.6000 - dense_1_acc_3: 0.9167 - dense_1_acc_4: 0.9833 - dense_1_acc_5: 1.0000 - dense_1_acc_6: 1.0000 - dense_1_acc_7: 1.0000 - dense_1_acc_8: 1.0000 - dense_1_acc_9: 1.0000 - dense_1_acc_10: 1.0000 - dense_1_acc_11: 1.0000 - dense_1_acc_12: 1.0000 - dense_1_acc_13: 1.0000 - dense_1_acc_14: 1.0000 - dense_1_acc_15: 1.0000 - dense_1_acc_16: 1.0000 - dense_1_acc_17: 1.0000 - dense_1_acc_18: 1.0000 - dense_1_acc_19: 1.0000 - dense_1_acc_20: 1.0000 - dense_1_acc_21: 1.0000 - dense_1_acc_22: 1.0000 - dense_1_acc_23: 1.0000 - dense_1_acc_24: 1.0000 - dense_1_acc_25: 1.0000 - dense_1_acc_26: 1.0000 - dense_1_acc_27: 1.0000 - dense_1_acc_28: 1.0000 - dense_1_acc_29: 1.0000 - dense_1_acc_30: 0.0000e+00     \n",
      "Epoch 81/100\n"
     ]
    },
    {
     "name": "stdout",
     "output_type": "stream",
     "text": [
      "60/60 [==============================] - 0s - loss: 6.7299 - dense_1_loss_1: 3.8212 - dense_1_loss_2: 1.3975 - dense_1_loss_3: 0.4256 - dense_1_loss_4: 0.1300 - dense_1_loss_5: 0.0799 - dense_1_loss_6: 0.0658 - dense_1_loss_7: 0.0488 - dense_1_loss_8: 0.0441 - dense_1_loss_9: 0.0439 - dense_1_loss_10: 0.0305 - dense_1_loss_11: 0.0330 - dense_1_loss_12: 0.0321 - dense_1_loss_13: 0.0302 - dense_1_loss_14: 0.0308 - dense_1_loss_15: 0.0326 - dense_1_loss_16: 0.0324 - dense_1_loss_17: 0.0312 - dense_1_loss_18: 0.0318 - dense_1_loss_19: 0.0301 - dense_1_loss_20: 0.0335 - dense_1_loss_21: 0.0346 - dense_1_loss_22: 0.0340 - dense_1_loss_23: 0.0340 - dense_1_loss_24: 0.0304 - dense_1_loss_25: 0.0345 - dense_1_loss_26: 0.0347 - dense_1_loss_27: 0.0389 - dense_1_loss_28: 0.0395 - dense_1_loss_29: 0.0442 - dense_1_loss_30: 0.0000e+00 - dense_1_acc_1: 0.0500 - dense_1_acc_2: 0.6000 - dense_1_acc_3: 0.9167 - dense_1_acc_4: 0.9833 - dense_1_acc_5: 1.0000 - dense_1_acc_6: 1.0000 - dense_1_acc_7: 1.0000 - dense_1_acc_8: 1.0000 - dense_1_acc_9: 1.0000 - dense_1_acc_10: 1.0000 - dense_1_acc_11: 1.0000 - dense_1_acc_12: 1.0000 - dense_1_acc_13: 1.0000 - dense_1_acc_14: 1.0000 - dense_1_acc_15: 1.0000 - dense_1_acc_16: 1.0000 - dense_1_acc_17: 1.0000 - dense_1_acc_18: 1.0000 - dense_1_acc_19: 1.0000 - dense_1_acc_20: 1.0000 - dense_1_acc_21: 1.0000 - dense_1_acc_22: 1.0000 - dense_1_acc_23: 1.0000 - dense_1_acc_24: 1.0000 - dense_1_acc_25: 1.0000 - dense_1_acc_26: 1.0000 - dense_1_acc_27: 1.0000 - dense_1_acc_28: 1.0000 - dense_1_acc_29: 1.0000 - dense_1_acc_30: 0.0000e+00     \n",
      "Epoch 82/100\n",
      "60/60 [==============================] - 0s - loss: 6.6772 - dense_1_loss_1: 3.8182 - dense_1_loss_2: 1.3837 - dense_1_loss_3: 0.4184 - dense_1_loss_4: 0.1268 - dense_1_loss_5: 0.0779 - dense_1_loss_6: 0.0642 - dense_1_loss_7: 0.0476 - dense_1_loss_8: 0.0430 - dense_1_loss_9: 0.0429 - dense_1_loss_10: 0.0297 - dense_1_loss_11: 0.0321 - dense_1_loss_12: 0.0313 - dense_1_loss_13: 0.0294 - dense_1_loss_14: 0.0301 - dense_1_loss_15: 0.0317 - dense_1_loss_16: 0.0316 - dense_1_loss_17: 0.0304 - dense_1_loss_18: 0.0309 - dense_1_loss_19: 0.0294 - dense_1_loss_20: 0.0326 - dense_1_loss_21: 0.0335 - dense_1_loss_22: 0.0331 - dense_1_loss_23: 0.0331 - dense_1_loss_24: 0.0296 - dense_1_loss_25: 0.0335 - dense_1_loss_26: 0.0340 - dense_1_loss_27: 0.0380 - dense_1_loss_28: 0.0382 - dense_1_loss_29: 0.0423 - dense_1_loss_30: 0.0000e+00 - dense_1_acc_1: 0.0500 - dense_1_acc_2: 0.6000 - dense_1_acc_3: 0.9167 - dense_1_acc_4: 0.9833 - dense_1_acc_5: 1.0000 - dense_1_acc_6: 1.0000 - dense_1_acc_7: 1.0000 - dense_1_acc_8: 1.0000 - dense_1_acc_9: 1.0000 - dense_1_acc_10: 1.0000 - dense_1_acc_11: 1.0000 - dense_1_acc_12: 1.0000 - dense_1_acc_13: 1.0000 - dense_1_acc_14: 1.0000 - dense_1_acc_15: 1.0000 - dense_1_acc_16: 1.0000 - dense_1_acc_17: 1.0000 - dense_1_acc_18: 1.0000 - dense_1_acc_19: 1.0000 - dense_1_acc_20: 1.0000 - dense_1_acc_21: 1.0000 - dense_1_acc_22: 1.0000 - dense_1_acc_23: 1.0000 - dense_1_acc_24: 1.0000 - dense_1_acc_25: 1.0000 - dense_1_acc_26: 1.0000 - dense_1_acc_27: 1.0000 - dense_1_acc_28: 1.0000 - dense_1_acc_29: 1.0000 - dense_1_acc_30: 0.0000e+00     \n",
      "Epoch 83/100\n",
      "60/60 [==============================] - 0s - loss: 6.6238 - dense_1_loss_1: 3.8153 - dense_1_loss_2: 1.3692 - dense_1_loss_3: 0.4106 - dense_1_loss_4: 0.1236 - dense_1_loss_5: 0.0758 - dense_1_loss_6: 0.0627 - dense_1_loss_7: 0.0462 - dense_1_loss_8: 0.0418 - dense_1_loss_9: 0.0417 - dense_1_loss_10: 0.0289 - dense_1_loss_11: 0.0313 - dense_1_loss_12: 0.0306 - dense_1_loss_13: 0.0285 - dense_1_loss_14: 0.0293 - dense_1_loss_15: 0.0307 - dense_1_loss_16: 0.0308 - dense_1_loss_17: 0.0296 - dense_1_loss_18: 0.0301 - dense_1_loss_19: 0.0286 - dense_1_loss_20: 0.0317 - dense_1_loss_21: 0.0326 - dense_1_loss_22: 0.0322 - dense_1_loss_23: 0.0322 - dense_1_loss_24: 0.0288 - dense_1_loss_25: 0.0324 - dense_1_loss_26: 0.0331 - dense_1_loss_27: 0.0372 - dense_1_loss_28: 0.0372 - dense_1_loss_29: 0.0411 - dense_1_loss_30: 0.0000e+00 - dense_1_acc_1: 0.0500 - dense_1_acc_2: 0.6000 - dense_1_acc_3: 0.9167 - dense_1_acc_4: 0.9833 - dense_1_acc_5: 1.0000 - dense_1_acc_6: 1.0000 - dense_1_acc_7: 1.0000 - dense_1_acc_8: 1.0000 - dense_1_acc_9: 1.0000 - dense_1_acc_10: 1.0000 - dense_1_acc_11: 1.0000 - dense_1_acc_12: 1.0000 - dense_1_acc_13: 1.0000 - dense_1_acc_14: 1.0000 - dense_1_acc_15: 1.0000 - dense_1_acc_16: 1.0000 - dense_1_acc_17: 1.0000 - dense_1_acc_18: 1.0000 - dense_1_acc_19: 1.0000 - dense_1_acc_20: 1.0000 - dense_1_acc_21: 1.0000 - dense_1_acc_22: 1.0000 - dense_1_acc_23: 1.0000 - dense_1_acc_24: 1.0000 - dense_1_acc_25: 1.0000 - dense_1_acc_26: 1.0000 - dense_1_acc_27: 1.0000 - dense_1_acc_28: 1.0000 - dense_1_acc_29: 1.0000 - dense_1_acc_30: 0.0000e+00     \n",
      "Epoch 84/100\n",
      "60/60 [==============================] - 0s - loss: 6.5750 - dense_1_loss_1: 3.8126 - dense_1_loss_2: 1.3556 - dense_1_loss_3: 0.4037 - dense_1_loss_4: 0.1208 - dense_1_loss_5: 0.0739 - dense_1_loss_6: 0.0613 - dense_1_loss_7: 0.0451 - dense_1_loss_8: 0.0407 - dense_1_loss_9: 0.0406 - dense_1_loss_10: 0.0282 - dense_1_loss_11: 0.0305 - dense_1_loss_12: 0.0298 - dense_1_loss_13: 0.0277 - dense_1_loss_14: 0.0286 - dense_1_loss_15: 0.0298 - dense_1_loss_16: 0.0300 - dense_1_loss_17: 0.0289 - dense_1_loss_18: 0.0293 - dense_1_loss_19: 0.0279 - dense_1_loss_20: 0.0308 - dense_1_loss_21: 0.0317 - dense_1_loss_22: 0.0315 - dense_1_loss_23: 0.0313 - dense_1_loss_24: 0.0281 - dense_1_loss_25: 0.0315 - dense_1_loss_26: 0.0321 - dense_1_loss_27: 0.0363 - dense_1_loss_28: 0.0365 - dense_1_loss_29: 0.0402 - dense_1_loss_30: 0.0000e+00 - dense_1_acc_1: 0.0500 - dense_1_acc_2: 0.6000 - dense_1_acc_3: 0.9167 - dense_1_acc_4: 0.9833 - dense_1_acc_5: 1.0000 - dense_1_acc_6: 1.0000 - dense_1_acc_7: 1.0000 - dense_1_acc_8: 1.0000 - dense_1_acc_9: 1.0000 - dense_1_acc_10: 1.0000 - dense_1_acc_11: 1.0000 - dense_1_acc_12: 1.0000 - dense_1_acc_13: 1.0000 - dense_1_acc_14: 1.0000 - dense_1_acc_15: 1.0000 - dense_1_acc_16: 1.0000 - dense_1_acc_17: 1.0000 - dense_1_acc_18: 1.0000 - dense_1_acc_19: 1.0000 - dense_1_acc_20: 1.0000 - dense_1_acc_21: 1.0000 - dense_1_acc_22: 1.0000 - dense_1_acc_23: 1.0000 - dense_1_acc_24: 1.0000 - dense_1_acc_25: 1.0000 - dense_1_acc_26: 1.0000 - dense_1_acc_27: 1.0000 - dense_1_acc_28: 1.0000 - dense_1_acc_29: 1.0000 - dense_1_acc_30: 0.0000e+00     \n",
      "Epoch 85/100\n",
      "60/60 [==============================] - 0s - loss: 6.5272 - dense_1_loss_1: 3.8096 - dense_1_loss_2: 1.3429 - dense_1_loss_3: 0.3963 - dense_1_loss_4: 0.1180 - dense_1_loss_5: 0.0720 - dense_1_loss_6: 0.0599 - dense_1_loss_7: 0.0441 - dense_1_loss_8: 0.0397 - dense_1_loss_9: 0.0396 - dense_1_loss_10: 0.0274 - dense_1_loss_11: 0.0298 - dense_1_loss_12: 0.0291 - dense_1_loss_13: 0.0271 - dense_1_loss_14: 0.0279 - dense_1_loss_15: 0.0290 - dense_1_loss_16: 0.0293 - dense_1_loss_17: 0.0281 - dense_1_loss_18: 0.0286 - dense_1_loss_19: 0.0272 - dense_1_loss_20: 0.0299 - dense_1_loss_21: 0.0309 - dense_1_loss_22: 0.0308 - dense_1_loss_23: 0.0304 - dense_1_loss_24: 0.0274 - dense_1_loss_25: 0.0307 - dense_1_loss_26: 0.0311 - dense_1_loss_27: 0.0353 - dense_1_loss_28: 0.0356 - dense_1_loss_29: 0.0394 - dense_1_loss_30: 0.0000e+00 - dense_1_acc_1: 0.0500 - dense_1_acc_2: 0.6167 - dense_1_acc_3: 0.9167 - dense_1_acc_4: 1.0000 - dense_1_acc_5: 1.0000 - dense_1_acc_6: 1.0000 - dense_1_acc_7: 1.0000 - dense_1_acc_8: 1.0000 - dense_1_acc_9: 1.0000 - dense_1_acc_10: 1.0000 - dense_1_acc_11: 1.0000 - dense_1_acc_12: 1.0000 - dense_1_acc_13: 1.0000 - dense_1_acc_14: 1.0000 - dense_1_acc_15: 1.0000 - dense_1_acc_16: 1.0000 - dense_1_acc_17: 1.0000 - dense_1_acc_18: 1.0000 - dense_1_acc_19: 1.0000 - dense_1_acc_20: 1.0000 - dense_1_acc_21: 1.0000 - dense_1_acc_22: 1.0000 - dense_1_acc_23: 1.0000 - dense_1_acc_24: 1.0000 - dense_1_acc_25: 1.0000 - dense_1_acc_26: 1.0000 - dense_1_acc_27: 1.0000 - dense_1_acc_28: 1.0000 - dense_1_acc_29: 1.0000 - dense_1_acc_30: 0.0000e+00     \n",
      "Epoch 86/100\n"
     ]
    },
    {
     "name": "stdout",
     "output_type": "stream",
     "text": [
      "60/60 [==============================] - 0s - loss: 6.4814 - dense_1_loss_1: 3.8070 - dense_1_loss_2: 1.3295 - dense_1_loss_3: 0.3897 - dense_1_loss_4: 0.1155 - dense_1_loss_5: 0.0703 - dense_1_loss_6: 0.0586 - dense_1_loss_7: 0.0430 - dense_1_loss_8: 0.0387 - dense_1_loss_9: 0.0386 - dense_1_loss_10: 0.0268 - dense_1_loss_11: 0.0291 - dense_1_loss_12: 0.0283 - dense_1_loss_13: 0.0264 - dense_1_loss_14: 0.0273 - dense_1_loss_15: 0.0284 - dense_1_loss_16: 0.0286 - dense_1_loss_17: 0.0275 - dense_1_loss_18: 0.0279 - dense_1_loss_19: 0.0265 - dense_1_loss_20: 0.0292 - dense_1_loss_21: 0.0301 - dense_1_loss_22: 0.0300 - dense_1_loss_23: 0.0297 - dense_1_loss_24: 0.0267 - dense_1_loss_25: 0.0300 - dense_1_loss_26: 0.0303 - dense_1_loss_27: 0.0344 - dense_1_loss_28: 0.0348 - dense_1_loss_29: 0.0384 - dense_1_loss_30: 0.0000e+00 - dense_1_acc_1: 0.0500 - dense_1_acc_2: 0.6167 - dense_1_acc_3: 0.9167 - dense_1_acc_4: 1.0000 - dense_1_acc_5: 1.0000 - dense_1_acc_6: 1.0000 - dense_1_acc_7: 1.0000 - dense_1_acc_8: 1.0000 - dense_1_acc_9: 1.0000 - dense_1_acc_10: 1.0000 - dense_1_acc_11: 1.0000 - dense_1_acc_12: 1.0000 - dense_1_acc_13: 1.0000 - dense_1_acc_14: 1.0000 - dense_1_acc_15: 1.0000 - dense_1_acc_16: 1.0000 - dense_1_acc_17: 1.0000 - dense_1_acc_18: 1.0000 - dense_1_acc_19: 1.0000 - dense_1_acc_20: 1.0000 - dense_1_acc_21: 1.0000 - dense_1_acc_22: 1.0000 - dense_1_acc_23: 1.0000 - dense_1_acc_24: 1.0000 - dense_1_acc_25: 1.0000 - dense_1_acc_26: 1.0000 - dense_1_acc_27: 1.0000 - dense_1_acc_28: 1.0000 - dense_1_acc_29: 1.0000 - dense_1_acc_30: 0.0000e+00     \n",
      "Epoch 87/100\n",
      "60/60 [==============================] - 0s - loss: 6.4379 - dense_1_loss_1: 3.8039 - dense_1_loss_2: 1.3177 - dense_1_loss_3: 0.3838 - dense_1_loss_4: 0.1129 - dense_1_loss_5: 0.0688 - dense_1_loss_6: 0.0572 - dense_1_loss_7: 0.0422 - dense_1_loss_8: 0.0378 - dense_1_loss_9: 0.0377 - dense_1_loss_10: 0.0263 - dense_1_loss_11: 0.0283 - dense_1_loss_12: 0.0276 - dense_1_loss_13: 0.0258 - dense_1_loss_14: 0.0265 - dense_1_loss_15: 0.0278 - dense_1_loss_16: 0.0279 - dense_1_loss_17: 0.0268 - dense_1_loss_18: 0.0272 - dense_1_loss_19: 0.0258 - dense_1_loss_20: 0.0286 - dense_1_loss_21: 0.0293 - dense_1_loss_22: 0.0292 - dense_1_loss_23: 0.0291 - dense_1_loss_24: 0.0261 - dense_1_loss_25: 0.0294 - dense_1_loss_26: 0.0297 - dense_1_loss_27: 0.0334 - dense_1_loss_28: 0.0338 - dense_1_loss_29: 0.0371 - dense_1_loss_30: 0.0000e+00 - dense_1_acc_1: 0.0500 - dense_1_acc_2: 0.6167 - dense_1_acc_3: 0.9167 - dense_1_acc_4: 1.0000 - dense_1_acc_5: 1.0000 - dense_1_acc_6: 1.0000 - dense_1_acc_7: 1.0000 - dense_1_acc_8: 1.0000 - dense_1_acc_9: 1.0000 - dense_1_acc_10: 1.0000 - dense_1_acc_11: 1.0000 - dense_1_acc_12: 1.0000 - dense_1_acc_13: 1.0000 - dense_1_acc_14: 1.0000 - dense_1_acc_15: 1.0000 - dense_1_acc_16: 1.0000 - dense_1_acc_17: 1.0000 - dense_1_acc_18: 1.0000 - dense_1_acc_19: 1.0000 - dense_1_acc_20: 1.0000 - dense_1_acc_21: 1.0000 - dense_1_acc_22: 1.0000 - dense_1_acc_23: 1.0000 - dense_1_acc_24: 1.0000 - dense_1_acc_25: 1.0000 - dense_1_acc_26: 1.0000 - dense_1_acc_27: 1.0000 - dense_1_acc_28: 1.0000 - dense_1_acc_29: 1.0000 - dense_1_acc_30: 0.0000e+00     \n",
      "Epoch 88/100\n",
      "60/60 [==============================] - 0s - loss: 6.3943 - dense_1_loss_1: 3.8011 - dense_1_loss_2: 1.3052 - dense_1_loss_3: 0.3772 - dense_1_loss_4: 0.1107 - dense_1_loss_5: 0.0673 - dense_1_loss_6: 0.0559 - dense_1_loss_7: 0.0411 - dense_1_loss_8: 0.0369 - dense_1_loss_9: 0.0368 - dense_1_loss_10: 0.0257 - dense_1_loss_11: 0.0276 - dense_1_loss_12: 0.0269 - dense_1_loss_13: 0.0252 - dense_1_loss_14: 0.0259 - dense_1_loss_15: 0.0271 - dense_1_loss_16: 0.0272 - dense_1_loss_17: 0.0262 - dense_1_loss_18: 0.0265 - dense_1_loss_19: 0.0252 - dense_1_loss_20: 0.0279 - dense_1_loss_21: 0.0286 - dense_1_loss_22: 0.0285 - dense_1_loss_23: 0.0284 - dense_1_loss_24: 0.0255 - dense_1_loss_25: 0.0287 - dense_1_loss_26: 0.0290 - dense_1_loss_27: 0.0327 - dense_1_loss_28: 0.0330 - dense_1_loss_29: 0.0362 - dense_1_loss_30: 0.0000e+00 - dense_1_acc_1: 0.0500 - dense_1_acc_2: 0.6333 - dense_1_acc_3: 0.9167 - dense_1_acc_4: 1.0000 - dense_1_acc_5: 1.0000 - dense_1_acc_6: 1.0000 - dense_1_acc_7: 1.0000 - dense_1_acc_8: 1.0000 - dense_1_acc_9: 1.0000 - dense_1_acc_10: 1.0000 - dense_1_acc_11: 1.0000 - dense_1_acc_12: 1.0000 - dense_1_acc_13: 1.0000 - dense_1_acc_14: 1.0000 - dense_1_acc_15: 1.0000 - dense_1_acc_16: 1.0000 - dense_1_acc_17: 1.0000 - dense_1_acc_18: 1.0000 - dense_1_acc_19: 1.0000 - dense_1_acc_20: 1.0000 - dense_1_acc_21: 1.0000 - dense_1_acc_22: 1.0000 - dense_1_acc_23: 1.0000 - dense_1_acc_24: 1.0000 - dense_1_acc_25: 1.0000 - dense_1_acc_26: 1.0000 - dense_1_acc_27: 1.0000 - dense_1_acc_28: 1.0000 - dense_1_acc_29: 1.0000 - dense_1_acc_30: 0.0000e+00     \n",
      "Epoch 89/100\n",
      "60/60 [==============================] - 0s - loss: 6.3520 - dense_1_loss_1: 3.7983 - dense_1_loss_2: 1.2929 - dense_1_loss_3: 0.3708 - dense_1_loss_4: 0.1083 - dense_1_loss_5: 0.0657 - dense_1_loss_6: 0.0545 - dense_1_loss_7: 0.0402 - dense_1_loss_8: 0.0360 - dense_1_loss_9: 0.0359 - dense_1_loss_10: 0.0251 - dense_1_loss_11: 0.0270 - dense_1_loss_12: 0.0263 - dense_1_loss_13: 0.0247 - dense_1_loss_14: 0.0253 - dense_1_loss_15: 0.0264 - dense_1_loss_16: 0.0266 - dense_1_loss_17: 0.0256 - dense_1_loss_18: 0.0259 - dense_1_loss_19: 0.0246 - dense_1_loss_20: 0.0272 - dense_1_loss_21: 0.0279 - dense_1_loss_22: 0.0278 - dense_1_loss_23: 0.0278 - dense_1_loss_24: 0.0249 - dense_1_loss_25: 0.0280 - dense_1_loss_26: 0.0283 - dense_1_loss_27: 0.0319 - dense_1_loss_28: 0.0324 - dense_1_loss_29: 0.0355 - dense_1_loss_30: 0.0000e+00 - dense_1_acc_1: 0.0500 - dense_1_acc_2: 0.6333 - dense_1_acc_3: 0.9167 - dense_1_acc_4: 1.0000 - dense_1_acc_5: 1.0000 - dense_1_acc_6: 1.0000 - dense_1_acc_7: 1.0000 - dense_1_acc_8: 1.0000 - dense_1_acc_9: 1.0000 - dense_1_acc_10: 1.0000 - dense_1_acc_11: 1.0000 - dense_1_acc_12: 1.0000 - dense_1_acc_13: 1.0000 - dense_1_acc_14: 1.0000 - dense_1_acc_15: 1.0000 - dense_1_acc_16: 1.0000 - dense_1_acc_17: 1.0000 - dense_1_acc_18: 1.0000 - dense_1_acc_19: 1.0000 - dense_1_acc_20: 1.0000 - dense_1_acc_21: 1.0000 - dense_1_acc_22: 1.0000 - dense_1_acc_23: 1.0000 - dense_1_acc_24: 1.0000 - dense_1_acc_25: 1.0000 - dense_1_acc_26: 1.0000 - dense_1_acc_27: 1.0000 - dense_1_acc_28: 1.0000 - dense_1_acc_29: 1.0000 - dense_1_acc_30: 0.0000e+00     \n",
      "Epoch 90/100\n",
      "60/60 [==============================] - 0s - loss: 6.3133 - dense_1_loss_1: 3.7955 - dense_1_loss_2: 1.2816 - dense_1_loss_3: 0.3654 - dense_1_loss_4: 0.1061 - dense_1_loss_5: 0.0643 - dense_1_loss_6: 0.0534 - dense_1_loss_7: 0.0394 - dense_1_loss_8: 0.0352 - dense_1_loss_9: 0.0352 - dense_1_loss_10: 0.0246 - dense_1_loss_11: 0.0264 - dense_1_loss_12: 0.0257 - dense_1_loss_13: 0.0241 - dense_1_loss_14: 0.0248 - dense_1_loss_15: 0.0258 - dense_1_loss_16: 0.0260 - dense_1_loss_17: 0.0250 - dense_1_loss_18: 0.0254 - dense_1_loss_19: 0.0241 - dense_1_loss_20: 0.0266 - dense_1_loss_21: 0.0273 - dense_1_loss_22: 0.0273 - dense_1_loss_23: 0.0272 - dense_1_loss_24: 0.0244 - dense_1_loss_25: 0.0274 - dense_1_loss_26: 0.0275 - dense_1_loss_27: 0.0312 - dense_1_loss_28: 0.0317 - dense_1_loss_29: 0.0348 - dense_1_loss_30: 0.0000e+00 - dense_1_acc_1: 0.0500 - dense_1_acc_2: 0.6333 - dense_1_acc_3: 0.9167 - dense_1_acc_4: 1.0000 - dense_1_acc_5: 1.0000 - dense_1_acc_6: 1.0000 - dense_1_acc_7: 1.0000 - dense_1_acc_8: 1.0000 - dense_1_acc_9: 1.0000 - dense_1_acc_10: 1.0000 - dense_1_acc_11: 1.0000 - dense_1_acc_12: 1.0000 - dense_1_acc_13: 1.0000 - dense_1_acc_14: 1.0000 - dense_1_acc_15: 1.0000 - dense_1_acc_16: 1.0000 - dense_1_acc_17: 1.0000 - dense_1_acc_18: 1.0000 - dense_1_acc_19: 1.0000 - dense_1_acc_20: 1.0000 - dense_1_acc_21: 1.0000 - dense_1_acc_22: 1.0000 - dense_1_acc_23: 1.0000 - dense_1_acc_24: 1.0000 - dense_1_acc_25: 1.0000 - dense_1_acc_26: 1.0000 - dense_1_acc_27: 1.0000 - dense_1_acc_28: 1.0000 - dense_1_acc_29: 1.0000 - dense_1_acc_30: 0.0000e+00     \n",
      "Epoch 91/100\n"
     ]
    },
    {
     "name": "stdout",
     "output_type": "stream",
     "text": [
      "60/60 [==============================] - 0s - loss: 6.2745 - dense_1_loss_1: 3.7929 - dense_1_loss_2: 1.2702 - dense_1_loss_3: 0.3601 - dense_1_loss_4: 0.1039 - dense_1_loss_5: 0.0628 - dense_1_loss_6: 0.0522 - dense_1_loss_7: 0.0386 - dense_1_loss_8: 0.0343 - dense_1_loss_9: 0.0345 - dense_1_loss_10: 0.0240 - dense_1_loss_11: 0.0259 - dense_1_loss_12: 0.0251 - dense_1_loss_13: 0.0235 - dense_1_loss_14: 0.0242 - dense_1_loss_15: 0.0252 - dense_1_loss_16: 0.0254 - dense_1_loss_17: 0.0245 - dense_1_loss_18: 0.0248 - dense_1_loss_19: 0.0236 - dense_1_loss_20: 0.0260 - dense_1_loss_21: 0.0266 - dense_1_loss_22: 0.0267 - dense_1_loss_23: 0.0265 - dense_1_loss_24: 0.0238 - dense_1_loss_25: 0.0268 - dense_1_loss_26: 0.0269 - dense_1_loss_27: 0.0304 - dense_1_loss_28: 0.0310 - dense_1_loss_29: 0.0341 - dense_1_loss_30: 0.0000e+00 - dense_1_acc_1: 0.0667 - dense_1_acc_2: 0.6333 - dense_1_acc_3: 0.9167 - dense_1_acc_4: 1.0000 - dense_1_acc_5: 1.0000 - dense_1_acc_6: 1.0000 - dense_1_acc_7: 1.0000 - dense_1_acc_8: 1.0000 - dense_1_acc_9: 1.0000 - dense_1_acc_10: 1.0000 - dense_1_acc_11: 1.0000 - dense_1_acc_12: 1.0000 - dense_1_acc_13: 1.0000 - dense_1_acc_14: 1.0000 - dense_1_acc_15: 1.0000 - dense_1_acc_16: 1.0000 - dense_1_acc_17: 1.0000 - dense_1_acc_18: 1.0000 - dense_1_acc_19: 1.0000 - dense_1_acc_20: 1.0000 - dense_1_acc_21: 1.0000 - dense_1_acc_22: 1.0000 - dense_1_acc_23: 1.0000 - dense_1_acc_24: 1.0000 - dense_1_acc_25: 1.0000 - dense_1_acc_26: 1.0000 - dense_1_acc_27: 1.0000 - dense_1_acc_28: 1.0000 - dense_1_acc_29: 1.0000 - dense_1_acc_30: 0.0000e+00     \n",
      "Epoch 92/100\n",
      "60/60 [==============================] - 0s - loss: 6.2358 - dense_1_loss_1: 3.7900 - dense_1_loss_2: 1.2589 - dense_1_loss_3: 0.3543 - dense_1_loss_4: 0.1017 - dense_1_loss_5: 0.0615 - dense_1_loss_6: 0.0510 - dense_1_loss_7: 0.0378 - dense_1_loss_8: 0.0336 - dense_1_loss_9: 0.0337 - dense_1_loss_10: 0.0235 - dense_1_loss_11: 0.0254 - dense_1_loss_12: 0.0246 - dense_1_loss_13: 0.0230 - dense_1_loss_14: 0.0237 - dense_1_loss_15: 0.0247 - dense_1_loss_16: 0.0248 - dense_1_loss_17: 0.0240 - dense_1_loss_18: 0.0243 - dense_1_loss_19: 0.0231 - dense_1_loss_20: 0.0254 - dense_1_loss_21: 0.0260 - dense_1_loss_22: 0.0261 - dense_1_loss_23: 0.0259 - dense_1_loss_24: 0.0233 - dense_1_loss_25: 0.0262 - dense_1_loss_26: 0.0263 - dense_1_loss_27: 0.0297 - dense_1_loss_28: 0.0302 - dense_1_loss_29: 0.0331 - dense_1_loss_30: 0.0000e+00 - dense_1_acc_1: 0.1000 - dense_1_acc_2: 0.6333 - dense_1_acc_3: 0.9167 - dense_1_acc_4: 1.0000 - dense_1_acc_5: 1.0000 - dense_1_acc_6: 1.0000 - dense_1_acc_7: 1.0000 - dense_1_acc_8: 1.0000 - dense_1_acc_9: 1.0000 - dense_1_acc_10: 1.0000 - dense_1_acc_11: 1.0000 - dense_1_acc_12: 1.0000 - dense_1_acc_13: 1.0000 - dense_1_acc_14: 1.0000 - dense_1_acc_15: 1.0000 - dense_1_acc_16: 1.0000 - dense_1_acc_17: 1.0000 - dense_1_acc_18: 1.0000 - dense_1_acc_19: 1.0000 - dense_1_acc_20: 1.0000 - dense_1_acc_21: 1.0000 - dense_1_acc_22: 1.0000 - dense_1_acc_23: 1.0000 - dense_1_acc_24: 1.0000 - dense_1_acc_25: 1.0000 - dense_1_acc_26: 1.0000 - dense_1_acc_27: 1.0000 - dense_1_acc_28: 1.0000 - dense_1_acc_29: 1.0000 - dense_1_acc_30: 0.0000e+00     \n",
      "Epoch 93/100\n",
      "60/60 [==============================] - 0s - loss: 6.1997 - dense_1_loss_1: 3.7871 - dense_1_loss_2: 1.2482 - dense_1_loss_3: 0.3490 - dense_1_loss_4: 0.0998 - dense_1_loss_5: 0.0602 - dense_1_loss_6: 0.0500 - dense_1_loss_7: 0.0370 - dense_1_loss_8: 0.0328 - dense_1_loss_9: 0.0330 - dense_1_loss_10: 0.0230 - dense_1_loss_11: 0.0249 - dense_1_loss_12: 0.0240 - dense_1_loss_13: 0.0225 - dense_1_loss_14: 0.0232 - dense_1_loss_15: 0.0242 - dense_1_loss_16: 0.0243 - dense_1_loss_17: 0.0235 - dense_1_loss_18: 0.0238 - dense_1_loss_19: 0.0225 - dense_1_loss_20: 0.0248 - dense_1_loss_21: 0.0254 - dense_1_loss_22: 0.0255 - dense_1_loss_23: 0.0254 - dense_1_loss_24: 0.0228 - dense_1_loss_25: 0.0256 - dense_1_loss_26: 0.0257 - dense_1_loss_27: 0.0292 - dense_1_loss_28: 0.0296 - dense_1_loss_29: 0.0324 - dense_1_loss_30: 0.0000e+00 - dense_1_acc_1: 0.1000 - dense_1_acc_2: 0.6333 - dense_1_acc_3: 0.9167 - dense_1_acc_4: 1.0000 - dense_1_acc_5: 1.0000 - dense_1_acc_6: 1.0000 - dense_1_acc_7: 1.0000 - dense_1_acc_8: 1.0000 - dense_1_acc_9: 1.0000 - dense_1_acc_10: 1.0000 - dense_1_acc_11: 1.0000 - dense_1_acc_12: 1.0000 - dense_1_acc_13: 1.0000 - dense_1_acc_14: 1.0000 - dense_1_acc_15: 1.0000 - dense_1_acc_16: 1.0000 - dense_1_acc_17: 1.0000 - dense_1_acc_18: 1.0000 - dense_1_acc_19: 1.0000 - dense_1_acc_20: 1.0000 - dense_1_acc_21: 1.0000 - dense_1_acc_22: 1.0000 - dense_1_acc_23: 1.0000 - dense_1_acc_24: 1.0000 - dense_1_acc_25: 1.0000 - dense_1_acc_26: 1.0000 - dense_1_acc_27: 1.0000 - dense_1_acc_28: 1.0000 - dense_1_acc_29: 1.0000 - dense_1_acc_30: 0.0000e+00     \n",
      "Epoch 94/100\n",
      "60/60 [==============================] - 0s - loss: 6.1643 - dense_1_loss_1: 3.7848 - dense_1_loss_2: 1.2374 - dense_1_loss_3: 0.3434 - dense_1_loss_4: 0.0981 - dense_1_loss_5: 0.0589 - dense_1_loss_6: 0.0491 - dense_1_loss_7: 0.0363 - dense_1_loss_8: 0.0322 - dense_1_loss_9: 0.0323 - dense_1_loss_10: 0.0226 - dense_1_loss_11: 0.0243 - dense_1_loss_12: 0.0235 - dense_1_loss_13: 0.0221 - dense_1_loss_14: 0.0227 - dense_1_loss_15: 0.0237 - dense_1_loss_16: 0.0238 - dense_1_loss_17: 0.0230 - dense_1_loss_18: 0.0232 - dense_1_loss_19: 0.0220 - dense_1_loss_20: 0.0243 - dense_1_loss_21: 0.0249 - dense_1_loss_22: 0.0250 - dense_1_loss_23: 0.0248 - dense_1_loss_24: 0.0224 - dense_1_loss_25: 0.0250 - dense_1_loss_26: 0.0252 - dense_1_loss_27: 0.0286 - dense_1_loss_28: 0.0290 - dense_1_loss_29: 0.0317 - dense_1_loss_30: 0.0000e+00 - dense_1_acc_1: 0.1000 - dense_1_acc_2: 0.6500 - dense_1_acc_3: 0.9167 - dense_1_acc_4: 1.0000 - dense_1_acc_5: 1.0000 - dense_1_acc_6: 1.0000 - dense_1_acc_7: 1.0000 - dense_1_acc_8: 1.0000 - dense_1_acc_9: 1.0000 - dense_1_acc_10: 1.0000 - dense_1_acc_11: 1.0000 - dense_1_acc_12: 1.0000 - dense_1_acc_13: 1.0000 - dense_1_acc_14: 1.0000 - dense_1_acc_15: 1.0000 - dense_1_acc_16: 1.0000 - dense_1_acc_17: 1.0000 - dense_1_acc_18: 1.0000 - dense_1_acc_19: 1.0000 - dense_1_acc_20: 1.0000 - dense_1_acc_21: 1.0000 - dense_1_acc_22: 1.0000 - dense_1_acc_23: 1.0000 - dense_1_acc_24: 1.0000 - dense_1_acc_25: 1.0000 - dense_1_acc_26: 1.0000 - dense_1_acc_27: 1.0000 - dense_1_acc_28: 1.0000 - dense_1_acc_29: 1.0000 - dense_1_acc_30: 0.0000e+00     \n",
      "Epoch 95/100\n",
      "60/60 [==============================] - 0s - loss: 6.1299 - dense_1_loss_1: 3.7819 - dense_1_loss_2: 1.2270 - dense_1_loss_3: 0.3378 - dense_1_loss_4: 0.0965 - dense_1_loss_5: 0.0578 - dense_1_loss_6: 0.0481 - dense_1_loss_7: 0.0356 - dense_1_loss_8: 0.0315 - dense_1_loss_9: 0.0315 - dense_1_loss_10: 0.0221 - dense_1_loss_11: 0.0238 - dense_1_loss_12: 0.0231 - dense_1_loss_13: 0.0216 - dense_1_loss_14: 0.0222 - dense_1_loss_15: 0.0233 - dense_1_loss_16: 0.0234 - dense_1_loss_17: 0.0225 - dense_1_loss_18: 0.0228 - dense_1_loss_19: 0.0215 - dense_1_loss_20: 0.0238 - dense_1_loss_21: 0.0244 - dense_1_loss_22: 0.0245 - dense_1_loss_23: 0.0244 - dense_1_loss_24: 0.0219 - dense_1_loss_25: 0.0245 - dense_1_loss_26: 0.0247 - dense_1_loss_27: 0.0281 - dense_1_loss_28: 0.0285 - dense_1_loss_29: 0.0311 - dense_1_loss_30: 0.0000e+00 - dense_1_acc_1: 0.1000 - dense_1_acc_2: 0.6667 - dense_1_acc_3: 0.9167 - dense_1_acc_4: 1.0000 - dense_1_acc_5: 1.0000 - dense_1_acc_6: 1.0000 - dense_1_acc_7: 1.0000 - dense_1_acc_8: 1.0000 - dense_1_acc_9: 1.0000 - dense_1_acc_10: 1.0000 - dense_1_acc_11: 1.0000 - dense_1_acc_12: 1.0000 - dense_1_acc_13: 1.0000 - dense_1_acc_14: 1.0000 - dense_1_acc_15: 1.0000 - dense_1_acc_16: 1.0000 - dense_1_acc_17: 1.0000 - dense_1_acc_18: 1.0000 - dense_1_acc_19: 1.0000 - dense_1_acc_20: 1.0000 - dense_1_acc_21: 1.0000 - dense_1_acc_22: 1.0000 - dense_1_acc_23: 1.0000 - dense_1_acc_24: 1.0000 - dense_1_acc_25: 1.0000 - dense_1_acc_26: 1.0000 - dense_1_acc_27: 1.0000 - dense_1_acc_28: 1.0000 - dense_1_acc_29: 1.0000 - dense_1_acc_30: 0.0000e+00     \n",
      "Epoch 96/100\n"
     ]
    },
    {
     "name": "stdout",
     "output_type": "stream",
     "text": [
      "60/60 [==============================] - 0s - loss: 6.0959 - dense_1_loss_1: 3.7792 - dense_1_loss_2: 1.2164 - dense_1_loss_3: 0.3329 - dense_1_loss_4: 0.0948 - dense_1_loss_5: 0.0568 - dense_1_loss_6: 0.0472 - dense_1_loss_7: 0.0349 - dense_1_loss_8: 0.0309 - dense_1_loss_9: 0.0309 - dense_1_loss_10: 0.0217 - dense_1_loss_11: 0.0233 - dense_1_loss_12: 0.0226 - dense_1_loss_13: 0.0212 - dense_1_loss_14: 0.0218 - dense_1_loss_15: 0.0227 - dense_1_loss_16: 0.0229 - dense_1_loss_17: 0.0220 - dense_1_loss_18: 0.0223 - dense_1_loss_19: 0.0211 - dense_1_loss_20: 0.0233 - dense_1_loss_21: 0.0238 - dense_1_loss_22: 0.0239 - dense_1_loss_23: 0.0239 - dense_1_loss_24: 0.0215 - dense_1_loss_25: 0.0239 - dense_1_loss_26: 0.0240 - dense_1_loss_27: 0.0275 - dense_1_loss_28: 0.0278 - dense_1_loss_29: 0.0304 - dense_1_loss_30: 0.0000e+00 - dense_1_acc_1: 0.1000 - dense_1_acc_2: 0.6667 - dense_1_acc_3: 0.9167 - dense_1_acc_4: 1.0000 - dense_1_acc_5: 1.0000 - dense_1_acc_6: 1.0000 - dense_1_acc_7: 1.0000 - dense_1_acc_8: 1.0000 - dense_1_acc_9: 1.0000 - dense_1_acc_10: 1.0000 - dense_1_acc_11: 1.0000 - dense_1_acc_12: 1.0000 - dense_1_acc_13: 1.0000 - dense_1_acc_14: 1.0000 - dense_1_acc_15: 1.0000 - dense_1_acc_16: 1.0000 - dense_1_acc_17: 1.0000 - dense_1_acc_18: 1.0000 - dense_1_acc_19: 1.0000 - dense_1_acc_20: 1.0000 - dense_1_acc_21: 1.0000 - dense_1_acc_22: 1.0000 - dense_1_acc_23: 1.0000 - dense_1_acc_24: 1.0000 - dense_1_acc_25: 1.0000 - dense_1_acc_26: 1.0000 - dense_1_acc_27: 1.0000 - dense_1_acc_28: 1.0000 - dense_1_acc_29: 1.0000 - dense_1_acc_30: 0.0000e+00     \n",
      "Epoch 97/100\n",
      "60/60 [==============================] - 0s - loss: 6.0629 - dense_1_loss_1: 3.7766 - dense_1_loss_2: 1.2059 - dense_1_loss_3: 0.3278 - dense_1_loss_4: 0.0932 - dense_1_loss_5: 0.0556 - dense_1_loss_6: 0.0463 - dense_1_loss_7: 0.0342 - dense_1_loss_8: 0.0303 - dense_1_loss_9: 0.0303 - dense_1_loss_10: 0.0213 - dense_1_loss_11: 0.0229 - dense_1_loss_12: 0.0222 - dense_1_loss_13: 0.0208 - dense_1_loss_14: 0.0213 - dense_1_loss_15: 0.0223 - dense_1_loss_16: 0.0225 - dense_1_loss_17: 0.0216 - dense_1_loss_18: 0.0219 - dense_1_loss_19: 0.0207 - dense_1_loss_20: 0.0228 - dense_1_loss_21: 0.0234 - dense_1_loss_22: 0.0235 - dense_1_loss_23: 0.0234 - dense_1_loss_24: 0.0210 - dense_1_loss_25: 0.0235 - dense_1_loss_26: 0.0236 - dense_1_loss_27: 0.0271 - dense_1_loss_28: 0.0273 - dense_1_loss_29: 0.0298 - dense_1_loss_30: 0.0000e+00 - dense_1_acc_1: 0.1000 - dense_1_acc_2: 0.6667 - dense_1_acc_3: 0.9167 - dense_1_acc_4: 1.0000 - dense_1_acc_5: 1.0000 - dense_1_acc_6: 1.0000 - dense_1_acc_7: 1.0000 - dense_1_acc_8: 1.0000 - dense_1_acc_9: 1.0000 - dense_1_acc_10: 1.0000 - dense_1_acc_11: 1.0000 - dense_1_acc_12: 1.0000 - dense_1_acc_13: 1.0000 - dense_1_acc_14: 1.0000 - dense_1_acc_15: 1.0000 - dense_1_acc_16: 1.0000 - dense_1_acc_17: 1.0000 - dense_1_acc_18: 1.0000 - dense_1_acc_19: 1.0000 - dense_1_acc_20: 1.0000 - dense_1_acc_21: 1.0000 - dense_1_acc_22: 1.0000 - dense_1_acc_23: 1.0000 - dense_1_acc_24: 1.0000 - dense_1_acc_25: 1.0000 - dense_1_acc_26: 1.0000 - dense_1_acc_27: 1.0000 - dense_1_acc_28: 1.0000 - dense_1_acc_29: 1.0000 - dense_1_acc_30: 0.0000e+00     \n",
      "Epoch 98/100\n",
      "60/60 [==============================] - 0s - loss: 6.0322 - dense_1_loss_1: 3.7739 - dense_1_loss_2: 1.1967 - dense_1_loss_3: 0.3234 - dense_1_loss_4: 0.0914 - dense_1_loss_5: 0.0545 - dense_1_loss_6: 0.0455 - dense_1_loss_7: 0.0336 - dense_1_loss_8: 0.0297 - dense_1_loss_9: 0.0298 - dense_1_loss_10: 0.0208 - dense_1_loss_11: 0.0225 - dense_1_loss_12: 0.0218 - dense_1_loss_13: 0.0204 - dense_1_loss_14: 0.0209 - dense_1_loss_15: 0.0218 - dense_1_loss_16: 0.0220 - dense_1_loss_17: 0.0212 - dense_1_loss_18: 0.0215 - dense_1_loss_19: 0.0203 - dense_1_loss_20: 0.0224 - dense_1_loss_21: 0.0229 - dense_1_loss_22: 0.0230 - dense_1_loss_23: 0.0230 - dense_1_loss_24: 0.0206 - dense_1_loss_25: 0.0231 - dense_1_loss_26: 0.0232 - dense_1_loss_27: 0.0265 - dense_1_loss_28: 0.0267 - dense_1_loss_29: 0.0291 - dense_1_loss_30: 0.0000e+00 - dense_1_acc_1: 0.1000 - dense_1_acc_2: 0.6667 - dense_1_acc_3: 0.9167 - dense_1_acc_4: 1.0000 - dense_1_acc_5: 1.0000 - dense_1_acc_6: 1.0000 - dense_1_acc_7: 1.0000 - dense_1_acc_8: 1.0000 - dense_1_acc_9: 1.0000 - dense_1_acc_10: 1.0000 - dense_1_acc_11: 1.0000 - dense_1_acc_12: 1.0000 - dense_1_acc_13: 1.0000 - dense_1_acc_14: 1.0000 - dense_1_acc_15: 1.0000 - dense_1_acc_16: 1.0000 - dense_1_acc_17: 1.0000 - dense_1_acc_18: 1.0000 - dense_1_acc_19: 1.0000 - dense_1_acc_20: 1.0000 - dense_1_acc_21: 1.0000 - dense_1_acc_22: 1.0000 - dense_1_acc_23: 1.0000 - dense_1_acc_24: 1.0000 - dense_1_acc_25: 1.0000 - dense_1_acc_26: 1.0000 - dense_1_acc_27: 1.0000 - dense_1_acc_28: 1.0000 - dense_1_acc_29: 1.0000 - dense_1_acc_30: 0.0000e+00     \n",
      "Epoch 99/100\n",
      "60/60 [==============================] - 0s - loss: 6.0014 - dense_1_loss_1: 3.7712 - dense_1_loss_2: 1.1867 - dense_1_loss_3: 0.3187 - dense_1_loss_4: 0.0900 - dense_1_loss_5: 0.0535 - dense_1_loss_6: 0.0447 - dense_1_loss_7: 0.0330 - dense_1_loss_8: 0.0292 - dense_1_loss_9: 0.0292 - dense_1_loss_10: 0.0205 - dense_1_loss_11: 0.0220 - dense_1_loss_12: 0.0213 - dense_1_loss_13: 0.0200 - dense_1_loss_14: 0.0205 - dense_1_loss_15: 0.0214 - dense_1_loss_16: 0.0216 - dense_1_loss_17: 0.0208 - dense_1_loss_18: 0.0211 - dense_1_loss_19: 0.0199 - dense_1_loss_20: 0.0220 - dense_1_loss_21: 0.0225 - dense_1_loss_22: 0.0225 - dense_1_loss_23: 0.0226 - dense_1_loss_24: 0.0203 - dense_1_loss_25: 0.0227 - dense_1_loss_26: 0.0228 - dense_1_loss_27: 0.0259 - dense_1_loss_28: 0.0262 - dense_1_loss_29: 0.0285 - dense_1_loss_30: 0.0000e+00 - dense_1_acc_1: 0.1000 - dense_1_acc_2: 0.6667 - dense_1_acc_3: 0.9167 - dense_1_acc_4: 1.0000 - dense_1_acc_5: 1.0000 - dense_1_acc_6: 1.0000 - dense_1_acc_7: 1.0000 - dense_1_acc_8: 1.0000 - dense_1_acc_9: 1.0000 - dense_1_acc_10: 1.0000 - dense_1_acc_11: 1.0000 - dense_1_acc_12: 1.0000 - dense_1_acc_13: 1.0000 - dense_1_acc_14: 1.0000 - dense_1_acc_15: 1.0000 - dense_1_acc_16: 1.0000 - dense_1_acc_17: 1.0000 - dense_1_acc_18: 1.0000 - dense_1_acc_19: 1.0000 - dense_1_acc_20: 1.0000 - dense_1_acc_21: 1.0000 - dense_1_acc_22: 1.0000 - dense_1_acc_23: 1.0000 - dense_1_acc_24: 1.0000 - dense_1_acc_25: 1.0000 - dense_1_acc_26: 1.0000 - dense_1_acc_27: 1.0000 - dense_1_acc_28: 1.0000 - dense_1_acc_29: 1.0000 - dense_1_acc_30: 0.0000e+00     \n",
      "Epoch 100/100\n",
      "60/60 [==============================] - 0s - loss: 5.9713 - dense_1_loss_1: 3.7686 - dense_1_loss_2: 1.1773 - dense_1_loss_3: 0.3141 - dense_1_loss_4: 0.0885 - dense_1_loss_5: 0.0526 - dense_1_loss_6: 0.0438 - dense_1_loss_7: 0.0324 - dense_1_loss_8: 0.0286 - dense_1_loss_9: 0.0287 - dense_1_loss_10: 0.0201 - dense_1_loss_11: 0.0216 - dense_1_loss_12: 0.0209 - dense_1_loss_13: 0.0196 - dense_1_loss_14: 0.0201 - dense_1_loss_15: 0.0210 - dense_1_loss_16: 0.0212 - dense_1_loss_17: 0.0204 - dense_1_loss_18: 0.0207 - dense_1_loss_19: 0.0195 - dense_1_loss_20: 0.0216 - dense_1_loss_21: 0.0220 - dense_1_loss_22: 0.0221 - dense_1_loss_23: 0.0222 - dense_1_loss_24: 0.0199 - dense_1_loss_25: 0.0222 - dense_1_loss_26: 0.0223 - dense_1_loss_27: 0.0254 - dense_1_loss_28: 0.0258 - dense_1_loss_29: 0.0280 - dense_1_loss_30: 0.0000e+00 - dense_1_acc_1: 0.1000 - dense_1_acc_2: 0.6667 - dense_1_acc_3: 0.9167 - dense_1_acc_4: 1.0000 - dense_1_acc_5: 1.0000 - dense_1_acc_6: 1.0000 - dense_1_acc_7: 1.0000 - dense_1_acc_8: 1.0000 - dense_1_acc_9: 1.0000 - dense_1_acc_10: 1.0000 - dense_1_acc_11: 1.0000 - dense_1_acc_12: 1.0000 - dense_1_acc_13: 1.0000 - dense_1_acc_14: 1.0000 - dense_1_acc_15: 1.0000 - dense_1_acc_16: 1.0000 - dense_1_acc_17: 1.0000 - dense_1_acc_18: 1.0000 - dense_1_acc_19: 1.0000 - dense_1_acc_20: 1.0000 - dense_1_acc_21: 1.0000 - dense_1_acc_22: 1.0000 - dense_1_acc_23: 1.0000 - dense_1_acc_24: 1.0000 - dense_1_acc_25: 1.0000 - dense_1_acc_26: 1.0000 - dense_1_acc_27: 1.0000 - dense_1_acc_28: 1.0000 - dense_1_acc_29: 1.0000 - dense_1_acc_30: 0.0000e+00     \n"
     ]
    },
    {
     "data": {
      "text/plain": [
       "<keras.callbacks.History at 0x7fccd8358f60>"
      ]
     },
     "execution_count": 29,
     "metadata": {},
     "output_type": "execute_result"
    }
   ],
   "source": [
    "model.fit([X, a0, c0], list(Y), epochs=100)"
   ]
  },
  {
   "cell_type": "code",
   "execution_count": 30,
   "metadata": {},
   "outputs": [
    {
     "name": "stdout",
     "output_type": "stream",
     "text": [
      "____________________________________________________________________________________________________\n",
      "Layer (type)                     Output Shape          Param #     Connected to                     \n",
      "====================================================================================================\n",
      "input_5 (InputLayer)             (None, 30, 78)        0                                            \n",
      "____________________________________________________________________________________________________\n",
      "lambda_92 (Lambda)               (None, 78)            0           input_5[0][0]                    \n",
      "____________________________________________________________________________________________________\n",
      "reshape_1 (Reshape)              (None, 1, 78)         0           lambda_92[0][0]                  \n",
      "                                                                   lambda_93[0][0]                  \n",
      "                                                                   lambda_94[0][0]                  \n",
      "                                                                   lambda_95[0][0]                  \n",
      "                                                                   lambda_96[0][0]                  \n",
      "                                                                   lambda_97[0][0]                  \n",
      "                                                                   lambda_98[0][0]                  \n",
      "                                                                   lambda_99[0][0]                  \n",
      "                                                                   lambda_100[0][0]                 \n",
      "                                                                   lambda_101[0][0]                 \n",
      "                                                                   lambda_102[0][0]                 \n",
      "                                                                   lambda_103[0][0]                 \n",
      "                                                                   lambda_104[0][0]                 \n",
      "                                                                   lambda_105[0][0]                 \n",
      "                                                                   lambda_106[0][0]                 \n",
      "                                                                   lambda_107[0][0]                 \n",
      "                                                                   lambda_108[0][0]                 \n",
      "                                                                   lambda_109[0][0]                 \n",
      "                                                                   lambda_110[0][0]                 \n",
      "                                                                   lambda_111[0][0]                 \n",
      "                                                                   lambda_112[0][0]                 \n",
      "                                                                   lambda_113[0][0]                 \n",
      "                                                                   lambda_114[0][0]                 \n",
      "                                                                   lambda_115[0][0]                 \n",
      "                                                                   lambda_116[0][0]                 \n",
      "                                                                   lambda_117[0][0]                 \n",
      "                                                                   lambda_118[0][0]                 \n",
      "                                                                   lambda_119[0][0]                 \n",
      "                                                                   lambda_120[0][0]                 \n",
      "                                                                   lambda_121[0][0]                 \n",
      "____________________________________________________________________________________________________\n",
      "a0 (InputLayer)                  (None, 64)            0                                            \n",
      "____________________________________________________________________________________________________\n",
      "c0 (InputLayer)                  (None, 64)            0                                            \n",
      "____________________________________________________________________________________________________\n",
      "lambda_93 (Lambda)               (None, 78)            0           input_5[0][0]                    \n",
      "____________________________________________________________________________________________________\n",
      "lstm_1 (LSTM)                    [(None, 64), (None, 6 36608       reshape_1[90][0]                 \n",
      "                                                                   a0[0][0]                         \n",
      "                                                                   c0[0][0]                         \n",
      "                                                                   reshape_1[91][0]                 \n",
      "                                                                   lstm_1[90][0]                    \n",
      "                                                                   lstm_1[90][2]                    \n",
      "                                                                   reshape_1[92][0]                 \n",
      "                                                                   lstm_1[91][0]                    \n",
      "                                                                   lstm_1[91][2]                    \n",
      "                                                                   reshape_1[93][0]                 \n",
      "                                                                   lstm_1[92][0]                    \n",
      "                                                                   lstm_1[92][2]                    \n",
      "                                                                   reshape_1[94][0]                 \n",
      "                                                                   lstm_1[93][0]                    \n",
      "                                                                   lstm_1[93][2]                    \n",
      "                                                                   reshape_1[95][0]                 \n",
      "                                                                   lstm_1[94][0]                    \n",
      "                                                                   lstm_1[94][2]                    \n",
      "                                                                   reshape_1[96][0]                 \n",
      "                                                                   lstm_1[95][0]                    \n",
      "                                                                   lstm_1[95][2]                    \n",
      "                                                                   reshape_1[97][0]                 \n",
      "                                                                   lstm_1[96][0]                    \n",
      "                                                                   lstm_1[96][2]                    \n",
      "                                                                   reshape_1[98][0]                 \n",
      "                                                                   lstm_1[97][0]                    \n",
      "                                                                   lstm_1[97][2]                    \n",
      "                                                                   reshape_1[99][0]                 \n",
      "                                                                   lstm_1[98][0]                    \n",
      "                                                                   lstm_1[98][2]                    \n",
      "                                                                   reshape_1[100][0]                \n",
      "                                                                   lstm_1[99][0]                    \n",
      "                                                                   lstm_1[99][2]                    \n",
      "                                                                   reshape_1[101][0]                \n",
      "                                                                   lstm_1[100][0]                   \n",
      "                                                                   lstm_1[100][2]                   \n",
      "                                                                   reshape_1[102][0]                \n",
      "                                                                   lstm_1[101][0]                   \n",
      "                                                                   lstm_1[101][2]                   \n",
      "                                                                   reshape_1[103][0]                \n",
      "                                                                   lstm_1[102][0]                   \n",
      "                                                                   lstm_1[102][2]                   \n",
      "                                                                   reshape_1[104][0]                \n",
      "                                                                   lstm_1[103][0]                   \n",
      "                                                                   lstm_1[103][2]                   \n",
      "                                                                   reshape_1[105][0]                \n",
      "                                                                   lstm_1[104][0]                   \n",
      "                                                                   lstm_1[104][2]                   \n",
      "                                                                   reshape_1[106][0]                \n",
      "                                                                   lstm_1[105][0]                   \n",
      "                                                                   lstm_1[105][2]                   \n",
      "                                                                   reshape_1[107][0]                \n",
      "                                                                   lstm_1[106][0]                   \n",
      "                                                                   lstm_1[106][2]                   \n",
      "                                                                   reshape_1[108][0]                \n",
      "                                                                   lstm_1[107][0]                   \n",
      "                                                                   lstm_1[107][2]                   \n",
      "                                                                   reshape_1[109][0]                \n",
      "                                                                   lstm_1[108][0]                   \n",
      "                                                                   lstm_1[108][2]                   \n",
      "                                                                   reshape_1[110][0]                \n",
      "                                                                   lstm_1[109][0]                   \n",
      "                                                                   lstm_1[109][2]                   \n",
      "                                                                   reshape_1[111][0]                \n",
      "                                                                   lstm_1[110][0]                   \n",
      "                                                                   lstm_1[110][2]                   \n",
      "                                                                   reshape_1[112][0]                \n",
      "                                                                   lstm_1[111][0]                   \n",
      "                                                                   lstm_1[111][2]                   \n",
      "                                                                   reshape_1[113][0]                \n",
      "                                                                   lstm_1[112][0]                   \n",
      "                                                                   lstm_1[112][2]                   \n",
      "                                                                   reshape_1[114][0]                \n",
      "                                                                   lstm_1[113][0]                   \n",
      "                                                                   lstm_1[113][2]                   \n",
      "                                                                   reshape_1[115][0]                \n",
      "                                                                   lstm_1[114][0]                   \n",
      "                                                                   lstm_1[114][2]                   \n",
      "                                                                   reshape_1[116][0]                \n",
      "                                                                   lstm_1[115][0]                   \n",
      "                                                                   lstm_1[115][2]                   \n",
      "                                                                   reshape_1[117][0]                \n",
      "                                                                   lstm_1[116][0]                   \n",
      "                                                                   lstm_1[116][2]                   \n",
      "                                                                   reshape_1[118][0]                \n",
      "                                                                   lstm_1[117][0]                   \n",
      "                                                                   lstm_1[117][2]                   \n",
      "                                                                   reshape_1[119][0]                \n",
      "                                                                   lstm_1[118][0]                   \n",
      "                                                                   lstm_1[118][2]                   \n",
      "____________________________________________________________________________________________________\n",
      "lambda_94 (Lambda)               (None, 78)            0           input_5[0][0]                    \n",
      "____________________________________________________________________________________________________\n",
      "lambda_95 (Lambda)               (None, 78)            0           input_5[0][0]                    \n",
      "____________________________________________________________________________________________________\n",
      "lambda_96 (Lambda)               (None, 78)            0           input_5[0][0]                    \n",
      "____________________________________________________________________________________________________\n",
      "lambda_97 (Lambda)               (None, 78)            0           input_5[0][0]                    \n",
      "____________________________________________________________________________________________________\n",
      "lambda_98 (Lambda)               (None, 78)            0           input_5[0][0]                    \n",
      "____________________________________________________________________________________________________\n",
      "lambda_99 (Lambda)               (None, 78)            0           input_5[0][0]                    \n",
      "____________________________________________________________________________________________________\n",
      "lambda_100 (Lambda)              (None, 78)            0           input_5[0][0]                    \n",
      "____________________________________________________________________________________________________\n",
      "lambda_101 (Lambda)              (None, 78)            0           input_5[0][0]                    \n",
      "____________________________________________________________________________________________________\n",
      "lambda_102 (Lambda)              (None, 78)            0           input_5[0][0]                    \n",
      "____________________________________________________________________________________________________\n",
      "lambda_103 (Lambda)              (None, 78)            0           input_5[0][0]                    \n",
      "____________________________________________________________________________________________________\n",
      "lambda_104 (Lambda)              (None, 78)            0           input_5[0][0]                    \n",
      "____________________________________________________________________________________________________\n",
      "lambda_105 (Lambda)              (None, 78)            0           input_5[0][0]                    \n",
      "____________________________________________________________________________________________________\n",
      "lambda_106 (Lambda)              (None, 78)            0           input_5[0][0]                    \n",
      "____________________________________________________________________________________________________\n",
      "lambda_107 (Lambda)              (None, 78)            0           input_5[0][0]                    \n",
      "____________________________________________________________________________________________________\n",
      "lambda_108 (Lambda)              (None, 78)            0           input_5[0][0]                    \n",
      "____________________________________________________________________________________________________\n",
      "lambda_109 (Lambda)              (None, 78)            0           input_5[0][0]                    \n",
      "____________________________________________________________________________________________________\n",
      "lambda_110 (Lambda)              (None, 78)            0           input_5[0][0]                    \n",
      "____________________________________________________________________________________________________\n",
      "lambda_111 (Lambda)              (None, 78)            0           input_5[0][0]                    \n",
      "____________________________________________________________________________________________________\n",
      "lambda_112 (Lambda)              (None, 78)            0           input_5[0][0]                    \n",
      "____________________________________________________________________________________________________\n",
      "lambda_113 (Lambda)              (None, 78)            0           input_5[0][0]                    \n",
      "____________________________________________________________________________________________________\n",
      "lambda_114 (Lambda)              (None, 78)            0           input_5[0][0]                    \n",
      "____________________________________________________________________________________________________\n",
      "lambda_115 (Lambda)              (None, 78)            0           input_5[0][0]                    \n",
      "____________________________________________________________________________________________________\n",
      "lambda_116 (Lambda)              (None, 78)            0           input_5[0][0]                    \n",
      "____________________________________________________________________________________________________\n",
      "lambda_117 (Lambda)              (None, 78)            0           input_5[0][0]                    \n",
      "____________________________________________________________________________________________________\n",
      "lambda_118 (Lambda)              (None, 78)            0           input_5[0][0]                    \n",
      "____________________________________________________________________________________________________\n",
      "lambda_119 (Lambda)              (None, 78)            0           input_5[0][0]                    \n",
      "____________________________________________________________________________________________________\n",
      "lambda_120 (Lambda)              (None, 78)            0           input_5[0][0]                    \n",
      "____________________________________________________________________________________________________\n",
      "lambda_121 (Lambda)              (None, 78)            0           input_5[0][0]                    \n",
      "____________________________________________________________________________________________________\n",
      "dense_1 (Dense)                  (None, 78)            5070        lstm_1[90][0]                    \n",
      "                                                                   lstm_1[91][0]                    \n",
      "                                                                   lstm_1[92][0]                    \n",
      "                                                                   lstm_1[93][0]                    \n",
      "                                                                   lstm_1[94][0]                    \n",
      "                                                                   lstm_1[95][0]                    \n",
      "                                                                   lstm_1[96][0]                    \n",
      "                                                                   lstm_1[97][0]                    \n",
      "                                                                   lstm_1[98][0]                    \n",
      "                                                                   lstm_1[99][0]                    \n",
      "                                                                   lstm_1[100][0]                   \n",
      "                                                                   lstm_1[101][0]                   \n",
      "                                                                   lstm_1[102][0]                   \n",
      "                                                                   lstm_1[103][0]                   \n",
      "                                                                   lstm_1[104][0]                   \n",
      "                                                                   lstm_1[105][0]                   \n",
      "                                                                   lstm_1[106][0]                   \n",
      "                                                                   lstm_1[107][0]                   \n",
      "                                                                   lstm_1[108][0]                   \n",
      "                                                                   lstm_1[109][0]                   \n",
      "                                                                   lstm_1[110][0]                   \n",
      "                                                                   lstm_1[111][0]                   \n",
      "                                                                   lstm_1[112][0]                   \n",
      "                                                                   lstm_1[113][0]                   \n",
      "                                                                   lstm_1[114][0]                   \n",
      "                                                                   lstm_1[115][0]                   \n",
      "                                                                   lstm_1[116][0]                   \n",
      "                                                                   lstm_1[117][0]                   \n",
      "                                                                   lstm_1[118][0]                   \n",
      "                                                                   lstm_1[119][0]                   \n",
      "====================================================================================================\n",
      "Total params: 41,678\n",
      "Trainable params: 41,678\n",
      "Non-trainable params: 0\n",
      "____________________________________________________________________________________________________\n"
     ]
    }
   ],
   "source": [
    "model.summary()"
   ]
  },
  {
   "cell_type": "markdown",
   "metadata": {},
   "source": [
    "You should see the model loss going down. Now that you have trained a model, lets go on the the final section to implement an inference algorithm, and generate some music! "
   ]
  },
  {
   "cell_type": "markdown",
   "metadata": {},
   "source": [
    "## 3 - Generating music\n",
    "\n",
    "You now have a trained model which has learned the patterns of the jazz soloist. Lets now use this model to synthesize new music. \n",
    "\n",
    "#### 3.1 - Predicting & Sampling\n",
    "\n",
    "<img src=\"images/music_gen.png\" style=\"width:600;height:400px;\">\n",
    "\n",
    "At each step of sampling, you will take as input the activation `a` and cell state `c` from the previous state of the LSTM, forward propagate by one step, and get a new output activation as well as cell state. The new activation `a` can then be used to generate the output, using `densor` as before. \n",
    "\n",
    "To start off the model, we will initialize `x0` as well as the LSTM activation and and cell value `a0` and `c0` to be zeros. \n",
    "\n",
    "\n",
    "<!-- \n",
    "You are about to build a function that will do this inference for you. Your function takes in your previous model and the number of time steps `Ty` that you want to sample. It will return a keras model that would be able to generate sequences for you. Furthermore, the function takes in a dense layer of `78` units and the number of activations. \n",
    "!--> \n",
    "\n",
    "\n",
    "**Exercise:** Implement the function below to sample a sequence of musical values. Here are some of the key steps you'll need to implement inside the for-loop that generates the $T_y$ output characters: \n",
    "\n",
    "Step 2.A: Use `LSTM_Cell`, which inputs the previous step's `c` and `a` to generate the current step's `c` and `a`. \n",
    "\n",
    "Step 2.B: Use `densor` (defined previously) to compute a softmax on `a` to get the output for the current step. \n",
    "\n",
    "Step 2.C: Save the output you have just generated by appending it to `outputs`.\n",
    "\n",
    "Step 2.D: Sample x to the be \"out\"'s one-hot version (the prediction) so that you can pass it to the next LSTM's step.  We have already provided this line of code, which uses a [Lambda](https://keras.io/layers/core/#lambda) function. \n",
    "```python\n",
    "x = Lambda(one_hot)(out) \n",
    "```\n",
    "[Minor technical note: Rather than sampling a value at random according to the probabilities in `out`, this line of code actually chooses the single most likely note at each step using an argmax.]\n"
   ]
  },
  {
   "cell_type": "code",
   "execution_count": 33,
   "metadata": {
    "collapsed": true
   },
   "outputs": [],
   "source": [
    "LSTM_cell??"
   ]
  },
  {
   "cell_type": "code",
   "execution_count": 34,
   "metadata": {
    "collapsed": true
   },
   "outputs": [],
   "source": [
    "# GRADED FUNCTION: music_inference_model\n",
    "\n",
    "def music_inference_model(LSTM_cell, densor, n_values = 78, n_a = 64, Ty = 100):\n",
    "    \"\"\"\n",
    "    Uses the trained \"LSTM_cell\" and \"densor\" from model() to generate a sequence of values.\n",
    "    \n",
    "    Arguments:\n",
    "    LSTM_cell -- the trained \"LSTM_cell\" from model(), Keras layer object\n",
    "    densor -- the trained \"densor\" from model(), Keras layer object\n",
    "    n_values -- integer, umber of unique values\n",
    "    n_a -- number of units in the LSTM_cell\n",
    "    Ty -- integer, number of time steps to generate\n",
    "    \n",
    "    Returns:\n",
    "    inference_model -- Keras model instance\n",
    "    \"\"\"\n",
    "    \n",
    "    # Define the input of your model with a shape \n",
    "    x0 = Input(shape=(1, n_values))\n",
    "    \n",
    "    # Define s0, initial hidden state for the decoder LSTM\n",
    "    a0 = Input(shape=(n_a,), name='a0')\n",
    "    c0 = Input(shape=(n_a,), name='c0')\n",
    "    a = a0\n",
    "    c = c0\n",
    "    x = x0\n",
    "\n",
    "    ### START CODE HERE ###\n",
    "    # Step 1: Create an empty list of \"outputs\" to later store your predicted values (≈1 line)\n",
    "    outputs = []\n",
    "    \n",
    "    # Step 2: Loop over Ty and generate a value at every time step\n",
    "    for t in range(Ty):\n",
    "        \n",
    "        # Step 2.A: Perform one step of LSTM_cell (≈1 line)\n",
    "        a, _, c = LSTM_cell(initial_state= [a , c], inputs=x)\n",
    "        \n",
    "        # Step 2.B: Apply Dense layer to the hidden state output of the LSTM_cell (≈1 line)\n",
    "        out = densor (a)\n",
    "\n",
    "        # Step 2.C: Append the prediction \"out\" to \"outputs\". out.shape = (None, 78) (≈1 line)\n",
    "        outputs.append(out)\n",
    "        \n",
    "        # Step 2.D: Select the next value according to \"out\", and set \"x\" to be the one-hot representation of the\n",
    "        #           selected value, which will be passed as the input to LSTM_cell on the next step. We have provided \n",
    "        #           the line of code you need to do this. \n",
    "        x = Lambda(one_hot)(out)\n",
    "        \n",
    "    # Step 3: Create model instance with the correct \"inputs\" and \"outputs\" (≈1 line)\n",
    "    inference_model = Model(inputs=[x0, a0, c0], outputs=outputs)\n",
    "    \n",
    "    ### END CODE HERE ###\n",
    "    \n",
    "    return inference_model"
   ]
  },
  {
   "cell_type": "code",
   "execution_count": null,
   "metadata": {
    "collapsed": true
   },
   "outputs": [],
   "source": []
  },
  {
   "cell_type": "markdown",
   "metadata": {},
   "source": [
    "Run the cell below to define your inference model. This model is hard coded to generate 50 values."
   ]
  },
  {
   "cell_type": "code",
   "execution_count": 35,
   "metadata": {
    "collapsed": true
   },
   "outputs": [],
   "source": [
    "inference_model = music_inference_model(LSTM_cell, densor, n_values = 78, n_a = 64, Ty = 50)"
   ]
  },
  {
   "cell_type": "markdown",
   "metadata": {},
   "source": [
    "Finally, this creates the zero-valued vectors you will use to initialize `x` and the LSTM state variables `a` and `c`. "
   ]
  },
  {
   "cell_type": "code",
   "execution_count": 36,
   "metadata": {
    "collapsed": true
   },
   "outputs": [],
   "source": [
    "x_initializer = np.zeros((1, 1, 78))\n",
    "a_initializer = np.zeros((1, n_a))\n",
    "c_initializer = np.zeros((1, n_a))"
   ]
  },
  {
   "cell_type": "markdown",
   "metadata": {},
   "source": [
    "**Exercise**: Implement `predict_and_sample()`. This function takes many arguments including the inputs [x_initializer, a_initializer, c_initializer]. In order to predict the output corresponding to this input, you will need to carry-out 3 steps:\n",
    "1. Use your inference model to predict an output given your set of inputs. The output `pred` should be a list of length 20 where each element is a numpy-array of shape ($T_y$, n_values)\n",
    "2. Convert `pred` into a numpy array of $T_y$ indices. Each index corresponds is computed by taking the `argmax` of an element of the `pred` list. [Hint](https://docs.scipy.org/doc/numpy/reference/generated/numpy.argmax.html).\n",
    "3. Convert the indices into their one-hot vector representations. [Hint](https://keras.io/utils/#to_categorical)."
   ]
  },
  {
   "cell_type": "code",
   "execution_count": 56,
   "metadata": {
    "collapsed": true
   },
   "outputs": [],
   "source": [
    "# GRADED FUNCTION: predict_and_sample\n",
    "\n",
    "def predict_and_sample(inference_model, x_initializer = x_initializer, a_initializer = a_initializer, \n",
    "                       c_initializer = c_initializer):\n",
    "    \"\"\"\n",
    "    Predicts the next value of values using the inference model.\n",
    "    \n",
    "    Arguments:\n",
    "    inference_model -- Keras model instance for inference time\n",
    "    x_initializer -- numpy array of shape (1, 1, 78), one-hot vector initializing the values generation\n",
    "    a_initializer -- numpy array of shape (1, n_a), initializing the hidden state of the LSTM_cell\n",
    "    c_initializer -- numpy array of shape (1, n_a), initializing the cell state of the LSTM_cel\n",
    "    \n",
    "    Returns:\n",
    "    results -- numpy-array of shape (Ty, 78), matrix of one-hot vectors representing the values generated\n",
    "    indices -- numpy-array of shape (Ty, 1), matrix of indices representing the values generated\n",
    "    \"\"\"\n",
    "    \n",
    "    ### START CODE HERE ###\n",
    "    # Step 1: Use your inference model to predict an output sequence given x_initializer, a_initializer and c_initializer.\n",
    "    pred = inference_model.predict([x_initializer, a_initializer, c_initializer])\n",
    "    # Step 2: Convert \"pred\" into an np.array() of indices with the maximum probabilities\n",
    "    indices = np.array([np.argmax(element) for element in pred]).reshape((len(pred),1))\n",
    "    print('indices length ', len(indices))\n",
    "    print(indices.shape)\n",
    "    # Step 3: Convert indices to one-hot vectors, the shape of the results should be (1, )\n",
    "    results = to_categorical(indices, num_classes = 78)\n",
    "    ### END CODE HERE ###\n",
    "    print(results.shape)\n",
    "    return results, indices"
   ]
  },
  {
   "cell_type": "code",
   "execution_count": 57,
   "metadata": {},
   "outputs": [
    {
     "name": "stdout",
     "output_type": "stream",
     "text": [
      "indices length  50\n",
      "(50, 1)\n",
      "(50, 78)\n",
      "np.argmax(results[12]) = 3\n",
      "np.argmax(results[17]) = 2\n",
      "list(indices[12:18]) = [array([3]), array([2]), array([34]), array([75]), array([3]), array([2])]\n"
     ]
    }
   ],
   "source": [
    "results, indices = predict_and_sample(inference_model, x_initializer, a_initializer, c_initializer)\n",
    "print(\"np.argmax(results[12]) =\", np.argmax(results[12]))\n",
    "print(\"np.argmax(results[17]) =\", np.argmax(results[17]))\n",
    "print(\"list(indices[12:18]) =\", list(indices[12:18]))"
   ]
  },
  {
   "cell_type": "markdown",
   "metadata": {},
   "source": [
    "**Expected Output**: Your results may differ because Keras' results are not completely predictable. However, if you have trained your LSTM_cell with model.fit() for exactly 100 epochs as described above, you should very likely observe a sequence of indices that are not all identical. Moreover, you should observe that: np.argmax(results[12]) is the first element of list(indices[12:18]) and np.argmax(results[17]) is the last element of list(indices[12:18]). \n",
    "\n",
    "<table>\n",
    "    <tr>\n",
    "        <td>\n",
    "            **np.argmax(results[12])** =\n",
    "        </td>\n",
    "        <td>\n",
    "        1\n",
    "        </td>\n",
    "    </tr>\n",
    "    <tr>\n",
    "        <td>\n",
    "            **np.argmax(results[12])** =\n",
    "        </td>\n",
    "        <td>\n",
    "        42\n",
    "        </td>\n",
    "    </tr>\n",
    "    <tr>\n",
    "        <td>\n",
    "            **list(indices[12:18])** =\n",
    "        </td>\n",
    "        <td>\n",
    "            [array([1]), array([42]), array([54]), array([17]), array([1]), array([42])]\n",
    "        </td>\n",
    "    </tr>\n",
    "</table>"
   ]
  },
  {
   "cell_type": "markdown",
   "metadata": {},
   "source": [
    "#### 3.3 - Generate music \n",
    "\n",
    "Finally, you are ready to generate music. Your RNN generates a sequence of values. The following code generates music by first calling your `predict_and_sample()` function. These values are then post-processed into musical chords (meaning that multiple values or notes can be played at the same time). \n",
    "\n",
    "Most computational music algorithms use some post-processing because it is difficult to generate music that sounds good without such post-processing. The post-processing does things such as clean up the generated audio by making sure the same sound is not repeated too many times, that two successive notes are not too far from each other in pitch, and so on. One could argue that a lot of these post-processing steps are hacks; also, a lot the music generation literature has also focused on hand-crafting post-processors, and a lot of the output quality depends on the quality of the post-processing and not just the quality of the RNN. But this post-processing does make a huge difference, so lets use it in our implementation as well. \n",
    "\n",
    "Lets make some music! "
   ]
  },
  {
   "cell_type": "markdown",
   "metadata": {},
   "source": [
    "Run the following cell to generate music and record it into your `out_stream`. This can take a couple of minutes."
   ]
  },
  {
   "cell_type": "code",
   "execution_count": 58,
   "metadata": {
    "scrolled": false
   },
   "outputs": [
    {
     "name": "stdout",
     "output_type": "stream",
     "text": [
      "Predicting new values for different set of chords.\n",
      "Generated 51 sounds using the predicted values for the set of chords (\"1\") and after pruning\n",
      "Generated 51 sounds using the predicted values for the set of chords (\"2\") and after pruning\n",
      "Generated 51 sounds using the predicted values for the set of chords (\"3\") and after pruning\n",
      "Generated 51 sounds using the predicted values for the set of chords (\"4\") and after pruning\n",
      "Generated 51 sounds using the predicted values for the set of chords (\"5\") and after pruning\n",
      "Your generated music is saved in output/my_music.midi\n"
     ]
    }
   ],
   "source": [
    "out_stream = generate_music(inference_model)"
   ]
  },
  {
   "cell_type": "markdown",
   "metadata": {},
   "source": [
    "To listen to your music, click File->Open... Then go to \"output/\" and download \"my_music.midi\". Either play it on your computer with an application that can read midi files if you have one, or use one of the free online \"MIDI to mp3\" conversion tools to convert this to mp3.  \n",
    "\n",
    "As reference, here also is a 30sec audio clip we generated using this algorithm. "
   ]
  },
  {
   "cell_type": "code",
   "execution_count": null,
   "metadata": {
    "collapsed": true
   },
   "outputs": [],
   "source": [
    "IPython.display.Audio('./data/30s_trained_model.mp3')"
   ]
  },
  {
   "cell_type": "markdown",
   "metadata": {},
   "source": [
    "### Congratulations!\n",
    "\n",
    "You have come to the end of the notebook. \n",
    "\n",
    "<font color=\"blue\">\n",
    "Here's what you should remember:\n",
    "- A sequence model can be used to generate musical values, which are then post-processed into midi music. \n",
    "- Fairly similar models can be used to generate dinosaur names or to generate music, with the major difference being the input fed to the model.  \n",
    "- In Keras, sequence generation involves defining layers with shared weights, which are then repeated for the different time steps $1, \\ldots, T_x$. "
   ]
  },
  {
   "cell_type": "markdown",
   "metadata": {},
   "source": [
    "Congratulations on completing this assignment and generating a jazz solo! "
   ]
  },
  {
   "cell_type": "markdown",
   "metadata": {},
   "source": [
    "**References**\n",
    "\n",
    "The ideas presented in this notebook came primarily from three computational music papers cited below. The implementation here also took significant inspiration and used many components from Ji-Sung Kim's github repository.\n",
    "\n",
    "- Ji-Sung Kim, 2016, [deepjazz](https://github.com/jisungk/deepjazz)\n",
    "- Jon Gillick, Kevin Tang and Robert Keller, 2009. [Learning Jazz Grammars](http://ai.stanford.edu/~kdtang/papers/smc09-jazzgrammar.pdf)\n",
    "- Robert Keller and David Morrison, 2007, [A Grammatical Approach to Automatic Improvisation](http://smc07.uoa.gr/SMC07%20Proceedings/SMC07%20Paper%2055.pdf)\n",
    "- François Pachet, 1999, [Surprising Harmonies](http://citeseerx.ist.psu.edu/viewdoc/download?doi=10.1.1.5.7473&rep=rep1&type=pdf)\n",
    "\n",
    "We're also grateful to François Germain for valuable feedback."
   ]
  }
 ],
 "metadata": {
  "coursera": {
   "course_slug": "nlp-sequence-models",
   "graded_item_id": "EG0F7",
   "launcher_item_id": "cxJXc"
  },
  "kernelspec": {
   "display_name": "Python 3",
   "language": "python",
   "name": "python3"
  },
  "language_info": {
   "codemirror_mode": {
    "name": "ipython",
    "version": 3
   },
   "file_extension": ".py",
   "mimetype": "text/x-python",
   "name": "python",
   "nbconvert_exporter": "python",
   "pygments_lexer": "ipython3",
   "version": "3.6.0"
  }
 },
 "nbformat": 4,
 "nbformat_minor": 2
}
